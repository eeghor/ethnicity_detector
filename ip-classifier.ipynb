{
 "cells": [
  {
   "cell_type": "code",
   "execution_count": 12,
   "metadata": {},
   "outputs": [],
   "source": [
    "import json\n",
    "import pandas as pd\n",
    "import numpy as np\n",
    "from collections import defaultdict, Counter\n",
    "from sklearn.feature_extraction.text import CountVectorizer\n",
    "from sklearn.feature_extraction import DictVectorizer\n",
    "from sklearn.pipeline import Pipeline, FeatureUnion\n",
    "from sklearn.model_selection import train_test_split\n",
    "from sklearn.base import BaseEstimator, TransformerMixin\n",
    "from sklearn.metrics import classification_report, accuracy_score\n",
    "from pprint import pprint\n",
    "from string import punctuation\n",
    "from sklearn.svm import SVC\n",
    "from sklearn.linear_model import SGDClassifier\n",
    "from sklearn.model_selection import GridSearchCV\n",
    "from sklearn.preprocessing import Normalizer\n",
    "from sklearn.decomposition import TruncatedSVD"
   ]
  },
  {
   "cell_type": "code",
   "execution_count": 13,
   "metadata": {},
   "outputs": [],
   "source": [
    "class EP:\n",
    "    \n",
    "    def __init__(self, ethnicity):  \n",
    "        \n",
    "        assert ethnicity in 'iranian polish italian german'.split(), f'incorrect ethnicity: {ethnicity}!'\n",
    "        \n",
    "        datafile = f'/Users/ik/Data/names/training-{ethnicity}.csv'\n",
    "        self.target_col = f'is_{ethnicity}'\n",
    "        \n",
    "        self.data = pd.read_csv(datafile)\n",
    "        \n",
    "        assert self.target_col in self.data.columns, f'there is no {self.target_col} in data file!'  \n",
    "        \n",
    "        try:\n",
    "            self.NODOUBT_FIRST_NAMES = list({line.strip() for line in open(f'/Users/ik/Data/names/real_{ethnicity}.txt','r').readlines() if line.strip()})\n",
    "        except:\n",
    "            self.NODOUBT_FIRST_NAMES = []\n",
    "        \n",
    "    def add_nodoubt_names(self):\n",
    "        \n",
    "        print(f'adding {len(self.NODOUBT_FIRST_NAMES)} first names..')\n",
    "        \n",
    "        self.data = pd.concat([self.data, pd.DataFrame({'full_name': self.NODOUBT_FIRST_NAMES, \n",
    "                                                        self.target_col: [1]*len(self.NODOUBT_FIRST_NAMES)})], \n",
    "                              ignore_index=True).sample(frac=1.)\n",
    "        return self"
   ]
  },
  {
   "cell_type": "code",
   "execution_count": 14,
   "metadata": {},
   "outputs": [],
   "source": [
    "class Selector(BaseEstimator, TransformerMixin):\n",
    "    \"\"\"\n",
    "    select a columns from a data frame and return as a list\n",
    "    \"\"\"\n",
    "    def __init__(self, col_name):\n",
    "        self.col_name = col_name\n",
    "    \n",
    "    def fit(self, x, y=None):\n",
    "        return self\n",
    "\n",
    "    def transform(self, x):\n",
    "        return '_start_' + x[self.col_name] + '_end_'\n",
    "\n",
    "class WordCount(BaseEstimator, TransformerMixin):\n",
    "    \"\"\"\n",
    "    select a columns from a data frame and return as a list\n",
    "    \"\"\"\n",
    "    def __init__(self):\n",
    "        pass\n",
    "    \n",
    "    def fit(self, x, y=None):\n",
    "        return self\n",
    "\n",
    "    def transform(self, x):\n",
    "        res = x.apply(lambda _: len(_.split())).values.reshape(x.shape[0],1)\n",
    "        return res\n",
    "\n",
    "class NameLength(BaseEstimator, TransformerMixin):\n",
    "    \"\"\"\n",
    "    return the length of the full name\n",
    "    \"\"\"\n",
    "    def __init__(self):\n",
    "        pass\n",
    "    \n",
    "    def fit(self, x, y=None):\n",
    "        return self\n",
    "\n",
    "    def transform(self, x):\n",
    "        res = x.str.len().values.reshape(x.shape[0],1)\n",
    "        return res\n",
    "\n",
    "class FirstLast(BaseEstimator, TransformerMixin):\n",
    "    \"\"\"\n",
    "    is the first word longer than the last one\n",
    "    \"\"\"\n",
    "    def __init__(self):\n",
    "        pass\n",
    "    \n",
    "    def fit(self, x, y=None):\n",
    "        return self\n",
    "\n",
    "    def transform(self, x):\n",
    "        res = x.apply(lambda _: np.argmax([len(p) for i, p in enumerate(_.split()) if i in [0,len(_.split())-1]])).values.reshape(x.shape[0],1)\n",
    "        return res"
   ]
  },
  {
   "cell_type": "code",
   "execution_count": 15,
   "metadata": {},
   "outputs": [
    {
     "name": "stdout",
     "output_type": "stream",
     "text": [
      "Fitting 3 folds for each of 36 candidates, totalling 108 fits\n",
      "[CV] clf__loss=hinge, clf__penalty=l1, features__transformer_weights={'char_level': 0.2, 'word_level': 0.1, 'word_count': 0.4, 'full_name_length': 0.5} \n",
      "[CV]  clf__loss=hinge, clf__penalty=l1, features__transformer_weights={'char_level': 0.2, 'word_level': 0.1, 'word_count': 0.4, 'full_name_length': 0.5}, score=0.8388214904679376, total=   4.0s\n",
      "[CV] clf__loss=hinge, clf__penalty=l1, features__transformer_weights={'char_level': 0.2, 'word_level': 0.1, 'word_count': 0.4, 'full_name_length': 0.5} \n"
     ]
    },
    {
     "name": "stderr",
     "output_type": "stream",
     "text": [
      "[Parallel(n_jobs=1)]: Done   1 out of   1 | elapsed:    4.3s remaining:    0.0s\n"
     ]
    },
    {
     "name": "stdout",
     "output_type": "stream",
     "text": [
      "[CV]  clf__loss=hinge, clf__penalty=l1, features__transformer_weights={'char_level': 0.2, 'word_level': 0.1, 'word_count': 0.4, 'full_name_length': 0.5}, score=0.8509532062391681, total=   3.8s\n",
      "[CV] clf__loss=hinge, clf__penalty=l1, features__transformer_weights={'char_level': 0.2, 'word_level': 0.1, 'word_count': 0.4, 'full_name_length': 0.5} \n"
     ]
    },
    {
     "name": "stderr",
     "output_type": "stream",
     "text": [
      "[Parallel(n_jobs=1)]: Done   2 out of   2 | elapsed:    8.5s remaining:    0.0s\n"
     ]
    },
    {
     "name": "stdout",
     "output_type": "stream",
     "text": [
      "[CV]  clf__loss=hinge, clf__penalty=l1, features__transformer_weights={'char_level': 0.2, 'word_level': 0.1, 'word_count': 0.4, 'full_name_length': 0.5}, score=0.8294797687861272, total=   3.8s\n",
      "[CV] clf__loss=hinge, clf__penalty=l1, features__transformer_weights={'char_level': 0.9, 'word_level': 0.2, 'word_lengths': 0.9, 'full_name_length': 0.3} \n"
     ]
    },
    {
     "name": "stderr",
     "output_type": "stream",
     "text": [
      "[Parallel(n_jobs=1)]: Done   3 out of   3 | elapsed:   12.6s remaining:    0.0s\n"
     ]
    },
    {
     "name": "stdout",
     "output_type": "stream",
     "text": [
      "[CV]  clf__loss=hinge, clf__penalty=l1, features__transformer_weights={'char_level': 0.9, 'word_level': 0.2, 'word_lengths': 0.9, 'full_name_length': 0.3}, score=0.8573079145002889, total=   3.4s\n",
      "[CV] clf__loss=hinge, clf__penalty=l1, features__transformer_weights={'char_level': 0.9, 'word_level': 0.2, 'word_lengths': 0.9, 'full_name_length': 0.3} \n"
     ]
    },
    {
     "name": "stderr",
     "output_type": "stream",
     "text": [
      "[Parallel(n_jobs=1)]: Done   4 out of   4 | elapsed:   16.3s remaining:    0.0s\n"
     ]
    },
    {
     "name": "stdout",
     "output_type": "stream",
     "text": [
      "[CV]  clf__loss=hinge, clf__penalty=l1, features__transformer_weights={'char_level': 0.9, 'word_level': 0.2, 'word_lengths': 0.9, 'full_name_length': 0.3}, score=0.8757943385326401, total=   3.3s\n",
      "[CV] clf__loss=hinge, clf__penalty=l1, features__transformer_weights={'char_level': 0.9, 'word_level': 0.2, 'word_lengths': 0.9, 'full_name_length': 0.3} \n"
     ]
    },
    {
     "name": "stderr",
     "output_type": "stream",
     "text": [
      "[Parallel(n_jobs=1)]: Done   5 out of   5 | elapsed:   19.9s remaining:    0.0s\n"
     ]
    },
    {
     "name": "stdout",
     "output_type": "stream",
     "text": [
      "[CV]  clf__loss=hinge, clf__penalty=l1, features__transformer_weights={'char_level': 0.9, 'word_level': 0.2, 'word_lengths': 0.9, 'full_name_length': 0.3}, score=0.8514450867052024, total=   3.5s\n",
      "[CV] clf__loss=hinge, clf__penalty=l1, features__transformer_weights={'char_level': 0.9, 'word_level': 0.3, 'word_count': 0.2, 'full_name_length': 0.7} \n"
     ]
    },
    {
     "name": "stderr",
     "output_type": "stream",
     "text": [
      "[Parallel(n_jobs=1)]: Done   6 out of   6 | elapsed:   23.7s remaining:    0.0s\n"
     ]
    },
    {
     "name": "stdout",
     "output_type": "stream",
     "text": [
      "[CV]  clf__loss=hinge, clf__penalty=l1, features__transformer_weights={'char_level': 0.9, 'word_level': 0.3, 'word_count': 0.2, 'full_name_length': 0.7}, score=0.8561525129982669, total=   3.6s\n",
      "[CV] clf__loss=hinge, clf__penalty=l1, features__transformer_weights={'char_level': 0.9, 'word_level': 0.3, 'word_count': 0.2, 'full_name_length': 0.7} \n"
     ]
    },
    {
     "name": "stderr",
     "output_type": "stream",
     "text": [
      "[Parallel(n_jobs=1)]: Done   7 out of   7 | elapsed:   27.7s remaining:    0.0s\n"
     ]
    },
    {
     "name": "stdout",
     "output_type": "stream",
     "text": [
      "[CV]  clf__loss=hinge, clf__penalty=l1, features__transformer_weights={'char_level': 0.9, 'word_level': 0.3, 'word_count': 0.2, 'full_name_length': 0.7}, score=0.8682842287694974, total=   3.8s\n",
      "[CV] clf__loss=hinge, clf__penalty=l1, features__transformer_weights={'char_level': 0.9, 'word_level': 0.3, 'word_count': 0.2, 'full_name_length': 0.7} \n"
     ]
    },
    {
     "name": "stderr",
     "output_type": "stream",
     "text": [
      "[Parallel(n_jobs=1)]: Done   8 out of   8 | elapsed:   31.8s remaining:    0.0s\n"
     ]
    },
    {
     "name": "stdout",
     "output_type": "stream",
     "text": [
      "[CV]  clf__loss=hinge, clf__penalty=l1, features__transformer_weights={'char_level': 0.9, 'word_level': 0.3, 'word_count': 0.2, 'full_name_length': 0.7}, score=0.8560693641618498, total=   3.7s\n",
      "[CV] clf__loss=hinge, clf__penalty=l2, features__transformer_weights={'char_level': 0.2, 'word_level': 0.1, 'word_count': 0.4, 'full_name_length': 0.5} \n"
     ]
    },
    {
     "name": "stderr",
     "output_type": "stream",
     "text": [
      "[Parallel(n_jobs=1)]: Done   9 out of   9 | elapsed:   35.7s remaining:    0.0s\n"
     ]
    },
    {
     "name": "stdout",
     "output_type": "stream",
     "text": [
      "[CV]  clf__loss=hinge, clf__penalty=l2, features__transformer_weights={'char_level': 0.2, 'word_level': 0.1, 'word_count': 0.4, 'full_name_length': 0.5}, score=0.8035817446562681, total=   2.9s\n",
      "[CV] clf__loss=hinge, clf__penalty=l2, features__transformer_weights={'char_level': 0.2, 'word_level': 0.1, 'word_count': 0.4, 'full_name_length': 0.5} \n",
      "[CV]  clf__loss=hinge, clf__penalty=l2, features__transformer_weights={'char_level': 0.2, 'word_level': 0.1, 'word_count': 0.4, 'full_name_length': 0.5}, score=0.8082033506643559, total=   5.0s\n",
      "[CV] clf__loss=hinge, clf__penalty=l2, features__transformer_weights={'char_level': 0.2, 'word_level': 0.1, 'word_count': 0.4, 'full_name_length': 0.5} \n",
      "[CV]  clf__loss=hinge, clf__penalty=l2, features__transformer_weights={'char_level': 0.2, 'word_level': 0.1, 'word_count': 0.4, 'full_name_length': 0.5}, score=0.7971098265895954, total=   3.6s\n",
      "[CV] clf__loss=hinge, clf__penalty=l2, features__transformer_weights={'char_level': 0.9, 'word_level': 0.2, 'word_lengths': 0.9, 'full_name_length': 0.3} \n",
      "[CV]  clf__loss=hinge, clf__penalty=l2, features__transformer_weights={'char_level': 0.9, 'word_level': 0.2, 'word_lengths': 0.9, 'full_name_length': 0.3}, score=0.8492201039861352, total=   2.6s\n",
      "[CV] clf__loss=hinge, clf__penalty=l2, features__transformer_weights={'char_level': 0.9, 'word_level': 0.2, 'word_lengths': 0.9, 'full_name_length': 0.3} \n",
      "[CV]  clf__loss=hinge, clf__penalty=l2, features__transformer_weights={'char_level': 0.9, 'word_level': 0.2, 'word_lengths': 0.9, 'full_name_length': 0.3}, score=0.8694396302715194, total=   2.7s\n",
      "[CV] clf__loss=hinge, clf__penalty=l2, features__transformer_weights={'char_level': 0.9, 'word_level': 0.2, 'word_lengths': 0.9, 'full_name_length': 0.3} \n",
      "[CV]  clf__loss=hinge, clf__penalty=l2, features__transformer_weights={'char_level': 0.9, 'word_level': 0.2, 'word_lengths': 0.9, 'full_name_length': 0.3}, score=0.8520231213872832, total=   2.6s\n",
      "[CV] clf__loss=hinge, clf__penalty=l2, features__transformer_weights={'char_level': 0.9, 'word_level': 0.3, 'word_count': 0.2, 'full_name_length': 0.7} \n",
      "[CV]  clf__loss=hinge, clf__penalty=l2, features__transformer_weights={'char_level': 0.9, 'word_level': 0.3, 'word_count': 0.2, 'full_name_length': 0.7}, score=0.8463316002310803, total=   2.7s\n",
      "[CV] clf__loss=hinge, clf__penalty=l2, features__transformer_weights={'char_level': 0.9, 'word_level': 0.3, 'word_count': 0.2, 'full_name_length': 0.7} \n",
      "[CV]  clf__loss=hinge, clf__penalty=l2, features__transformer_weights={'char_level': 0.9, 'word_level': 0.3, 'word_count': 0.2, 'full_name_length': 0.7}, score=0.8677065280184865, total=   2.6s\n",
      "[CV] clf__loss=hinge, clf__penalty=l2, features__transformer_weights={'char_level': 0.9, 'word_level': 0.3, 'word_count': 0.2, 'full_name_length': 0.7} \n",
      "[CV]  clf__loss=hinge, clf__penalty=l2, features__transformer_weights={'char_level': 0.9, 'word_level': 0.3, 'word_count': 0.2, 'full_name_length': 0.7}, score=0.8404624277456647, total=   2.6s\n",
      "[CV] clf__loss=hinge, clf__penalty=elasticnet, features__transformer_weights={'char_level': 0.2, 'word_level': 0.1, 'word_count': 0.4, 'full_name_length': 0.5} \n",
      "[CV]  clf__loss=hinge, clf__penalty=elasticnet, features__transformer_weights={'char_level': 0.2, 'word_level': 0.1, 'word_count': 0.4, 'full_name_length': 0.5}, score=0.8139803581744657, total=   3.9s\n",
      "[CV] clf__loss=hinge, clf__penalty=elasticnet, features__transformer_weights={'char_level': 0.2, 'word_level': 0.1, 'word_count': 0.4, 'full_name_length': 0.5} \n",
      "[CV]  clf__loss=hinge, clf__penalty=elasticnet, features__transformer_weights={'char_level': 0.2, 'word_level': 0.1, 'word_count': 0.4, 'full_name_length': 0.5}, score=0.8151357596764875, total=   3.7s\n",
      "[CV] clf__loss=hinge, clf__penalty=elasticnet, features__transformer_weights={'char_level': 0.2, 'word_level': 0.1, 'word_count': 0.4, 'full_name_length': 0.5} \n",
      "[CV]  clf__loss=hinge, clf__penalty=elasticnet, features__transformer_weights={'char_level': 0.2, 'word_level': 0.1, 'word_count': 0.4, 'full_name_length': 0.5}, score=0.7809248554913295, total=   3.7s\n",
      "[CV] clf__loss=hinge, clf__penalty=elasticnet, features__transformer_weights={'char_level': 0.9, 'word_level': 0.2, 'word_lengths': 0.9, 'full_name_length': 0.3} \n",
      "[CV]  clf__loss=hinge, clf__penalty=elasticnet, features__transformer_weights={'char_level': 0.9, 'word_level': 0.2, 'word_lengths': 0.9, 'full_name_length': 0.3}, score=0.854419410745234, total=   3.5s\n",
      "[CV] clf__loss=hinge, clf__penalty=elasticnet, features__transformer_weights={'char_level': 0.9, 'word_level': 0.2, 'word_lengths': 0.9, 'full_name_length': 0.3} \n",
      "[CV]  clf__loss=hinge, clf__penalty=elasticnet, features__transformer_weights={'char_level': 0.9, 'word_level': 0.2, 'word_lengths': 0.9, 'full_name_length': 0.3}, score=0.8665511265164645, total=   3.6s\n",
      "[CV] clf__loss=hinge, clf__penalty=elasticnet, features__transformer_weights={'char_level': 0.9, 'word_level': 0.2, 'word_lengths': 0.9, 'full_name_length': 0.3} \n",
      "[CV]  clf__loss=hinge, clf__penalty=elasticnet, features__transformer_weights={'char_level': 0.9, 'word_level': 0.2, 'word_lengths': 0.9, 'full_name_length': 0.3}, score=0.8421965317919076, total=   3.6s\n",
      "[CV] clf__loss=hinge, clf__penalty=elasticnet, features__transformer_weights={'char_level': 0.9, 'word_level': 0.3, 'word_count': 0.2, 'full_name_length': 0.7} \n",
      "[CV]  clf__loss=hinge, clf__penalty=elasticnet, features__transformer_weights={'char_level': 0.9, 'word_level': 0.3, 'word_count': 0.2, 'full_name_length': 0.7}, score=0.8492201039861352, total=   3.5s\n",
      "[CV] clf__loss=hinge, clf__penalty=elasticnet, features__transformer_weights={'char_level': 0.9, 'word_level': 0.3, 'word_count': 0.2, 'full_name_length': 0.7} \n",
      "[CV]  clf__loss=hinge, clf__penalty=elasticnet, features__transformer_weights={'char_level': 0.9, 'word_level': 0.3, 'word_count': 0.2, 'full_name_length': 0.7}, score=0.8665511265164645, total=   3.5s\n",
      "[CV] clf__loss=hinge, clf__penalty=elasticnet, features__transformer_weights={'char_level': 0.9, 'word_level': 0.3, 'word_count': 0.2, 'full_name_length': 0.7} \n",
      "[CV]  clf__loss=hinge, clf__penalty=elasticnet, features__transformer_weights={'char_level': 0.9, 'word_level': 0.3, 'word_count': 0.2, 'full_name_length': 0.7}, score=0.8433526011560694, total=   3.5s\n",
      "[CV] clf__loss=modified_huber, clf__penalty=l1, features__transformer_weights={'char_level': 0.2, 'word_level': 0.1, 'word_count': 0.4, 'full_name_length': 0.5} \n",
      "[CV]  clf__loss=modified_huber, clf__penalty=l1, features__transformer_weights={'char_level': 0.2, 'word_level': 0.1, 'word_count': 0.4, 'full_name_length': 0.5}, score=0.85210860774119, total=   3.6s\n",
      "[CV] clf__loss=modified_huber, clf__penalty=l1, features__transformer_weights={'char_level': 0.2, 'word_level': 0.1, 'word_count': 0.4, 'full_name_length': 0.5} \n",
      "[CV]  clf__loss=modified_huber, clf__penalty=l1, features__transformer_weights={'char_level': 0.2, 'word_level': 0.1, 'word_count': 0.4, 'full_name_length': 0.5}, score=0.8648180242634316, total=   3.6s\n",
      "[CV] clf__loss=modified_huber, clf__penalty=l1, features__transformer_weights={'char_level': 0.2, 'word_level': 0.1, 'word_count': 0.4, 'full_name_length': 0.5} \n",
      "[CV]  clf__loss=modified_huber, clf__penalty=l1, features__transformer_weights={'char_level': 0.2, 'word_level': 0.1, 'word_count': 0.4, 'full_name_length': 0.5}, score=0.8491329479768787, total=   3.6s\n",
      "[CV] clf__loss=modified_huber, clf__penalty=l1, features__transformer_weights={'char_level': 0.9, 'word_level': 0.2, 'word_lengths': 0.9, 'full_name_length': 0.3} \n",
      "[CV]  clf__loss=modified_huber, clf__penalty=l1, features__transformer_weights={'char_level': 0.9, 'word_level': 0.2, 'word_lengths': 0.9, 'full_name_length': 0.3}, score=0.8480647024841133, total=   3.3s\n",
      "[CV] clf__loss=modified_huber, clf__penalty=l1, features__transformer_weights={'char_level': 0.9, 'word_level': 0.2, 'word_lengths': 0.9, 'full_name_length': 0.3} \n",
      "[CV]  clf__loss=modified_huber, clf__penalty=l1, features__transformer_weights={'char_level': 0.9, 'word_level': 0.2, 'word_lengths': 0.9, 'full_name_length': 0.3}, score=0.8526863084922011, total=   3.5s\n",
      "[CV] clf__loss=modified_huber, clf__penalty=l1, features__transformer_weights={'char_level': 0.9, 'word_level': 0.2, 'word_lengths': 0.9, 'full_name_length': 0.3} \n"
     ]
    },
    {
     "name": "stdout",
     "output_type": "stream",
     "text": [
      "[CV]  clf__loss=modified_huber, clf__penalty=l1, features__transformer_weights={'char_level': 0.9, 'word_level': 0.2, 'word_lengths': 0.9, 'full_name_length': 0.3}, score=0.8491329479768787, total=   3.3s\n",
      "[CV] clf__loss=modified_huber, clf__penalty=l1, features__transformer_weights={'char_level': 0.9, 'word_level': 0.3, 'word_count': 0.2, 'full_name_length': 0.7} \n",
      "[CV]  clf__loss=modified_huber, clf__penalty=l1, features__transformer_weights={'char_level': 0.9, 'word_level': 0.3, 'word_count': 0.2, 'full_name_length': 0.7}, score=0.8434430964760254, total=   3.4s\n",
      "[CV] clf__loss=modified_huber, clf__penalty=l1, features__transformer_weights={'char_level': 0.9, 'word_level': 0.3, 'word_count': 0.2, 'full_name_length': 0.7} \n",
      "[CV]  clf__loss=modified_huber, clf__penalty=l1, features__transformer_weights={'char_level': 0.9, 'word_level': 0.3, 'word_count': 0.2, 'full_name_length': 0.7}, score=0.8636626227614096, total=   3.6s\n",
      "[CV] clf__loss=modified_huber, clf__penalty=l1, features__transformer_weights={'char_level': 0.9, 'word_level': 0.3, 'word_count': 0.2, 'full_name_length': 0.7} \n",
      "[CV]  clf__loss=modified_huber, clf__penalty=l1, features__transformer_weights={'char_level': 0.9, 'word_level': 0.3, 'word_count': 0.2, 'full_name_length': 0.7}, score=0.8583815028901735, total=   3.6s\n",
      "[CV] clf__loss=modified_huber, clf__penalty=l2, features__transformer_weights={'char_level': 0.2, 'word_level': 0.1, 'word_count': 0.4, 'full_name_length': 0.5} \n",
      "[CV]  clf__loss=modified_huber, clf__penalty=l2, features__transformer_weights={'char_level': 0.2, 'word_level': 0.1, 'word_count': 0.4, 'full_name_length': 0.5}, score=0.8330444829578278, total=   4.7s\n",
      "[CV] clf__loss=modified_huber, clf__penalty=l2, features__transformer_weights={'char_level': 0.2, 'word_level': 0.1, 'word_count': 0.4, 'full_name_length': 0.5} \n",
      "[CV]  clf__loss=modified_huber, clf__penalty=l2, features__transformer_weights={'char_level': 0.2, 'word_level': 0.1, 'word_count': 0.4, 'full_name_length': 0.5}, score=0.8567302137492778, total=   3.6s\n",
      "[CV] clf__loss=modified_huber, clf__penalty=l2, features__transformer_weights={'char_level': 0.2, 'word_level': 0.1, 'word_count': 0.4, 'full_name_length': 0.5} \n",
      "[CV]  clf__loss=modified_huber, clf__penalty=l2, features__transformer_weights={'char_level': 0.2, 'word_level': 0.1, 'word_count': 0.4, 'full_name_length': 0.5}, score=0.8352601156069365, total=   2.9s\n",
      "[CV] clf__loss=modified_huber, clf__penalty=l2, features__transformer_weights={'char_level': 0.9, 'word_level': 0.2, 'word_lengths': 0.9, 'full_name_length': 0.3} \n",
      "[CV]  clf__loss=modified_huber, clf__penalty=l2, features__transformer_weights={'char_level': 0.9, 'word_level': 0.2, 'word_lengths': 0.9, 'full_name_length': 0.3}, score=0.8526863084922011, total=   3.3s\n",
      "[CV] clf__loss=modified_huber, clf__penalty=l2, features__transformer_weights={'char_level': 0.9, 'word_level': 0.2, 'word_lengths': 0.9, 'full_name_length': 0.3} \n",
      "[CV]  clf__loss=modified_huber, clf__penalty=l2, features__transformer_weights={'char_level': 0.9, 'word_level': 0.2, 'word_lengths': 0.9, 'full_name_length': 0.3}, score=0.8752166377816292, total=   2.9s\n",
      "[CV] clf__loss=modified_huber, clf__penalty=l2, features__transformer_weights={'char_level': 0.9, 'word_level': 0.2, 'word_lengths': 0.9, 'full_name_length': 0.3} \n",
      "[CV]  clf__loss=modified_huber, clf__penalty=l2, features__transformer_weights={'char_level': 0.9, 'word_level': 0.2, 'word_lengths': 0.9, 'full_name_length': 0.3}, score=0.8502890173410405, total=   3.2s\n",
      "[CV] clf__loss=modified_huber, clf__penalty=l2, features__transformer_weights={'char_level': 0.9, 'word_level': 0.3, 'word_count': 0.2, 'full_name_length': 0.7} \n",
      "[CV]  clf__loss=modified_huber, clf__penalty=l2, features__transformer_weights={'char_level': 0.9, 'word_level': 0.3, 'word_count': 0.2, 'full_name_length': 0.7}, score=0.85210860774119, total=   2.8s\n",
      "[CV] clf__loss=modified_huber, clf__penalty=l2, features__transformer_weights={'char_level': 0.9, 'word_level': 0.3, 'word_count': 0.2, 'full_name_length': 0.7} \n",
      "[CV]  clf__loss=modified_huber, clf__penalty=l2, features__transformer_weights={'char_level': 0.9, 'word_level': 0.3, 'word_count': 0.2, 'full_name_length': 0.7}, score=0.8700173310225303, total=   2.9s\n",
      "[CV] clf__loss=modified_huber, clf__penalty=l2, features__transformer_weights={'char_level': 0.9, 'word_level': 0.3, 'word_count': 0.2, 'full_name_length': 0.7} \n",
      "[CV]  clf__loss=modified_huber, clf__penalty=l2, features__transformer_weights={'char_level': 0.9, 'word_level': 0.3, 'word_count': 0.2, 'full_name_length': 0.7}, score=0.8572254335260115, total=   2.9s\n",
      "[CV] clf__loss=modified_huber, clf__penalty=elasticnet, features__transformer_weights={'char_level': 0.2, 'word_level': 0.1, 'word_count': 0.4, 'full_name_length': 0.5} \n",
      "[CV]  clf__loss=modified_huber, clf__penalty=elasticnet, features__transformer_weights={'char_level': 0.2, 'word_level': 0.1, 'word_count': 0.4, 'full_name_length': 0.5}, score=0.8393991912189486, total=   4.0s\n",
      "[CV] clf__loss=modified_huber, clf__penalty=elasticnet, features__transformer_weights={'char_level': 0.2, 'word_level': 0.1, 'word_count': 0.4, 'full_name_length': 0.5} \n",
      "[CV]  clf__loss=modified_huber, clf__penalty=elasticnet, features__transformer_weights={'char_level': 0.2, 'word_level': 0.1, 'word_count': 0.4, 'full_name_length': 0.5}, score=0.8596187175043327, total=   4.4s\n",
      "[CV] clf__loss=modified_huber, clf__penalty=elasticnet, features__transformer_weights={'char_level': 0.2, 'word_level': 0.1, 'word_count': 0.4, 'full_name_length': 0.5} \n",
      "[CV]  clf__loss=modified_huber, clf__penalty=elasticnet, features__transformer_weights={'char_level': 0.2, 'word_level': 0.1, 'word_count': 0.4, 'full_name_length': 0.5}, score=0.8335260115606936, total=   4.1s\n",
      "[CV] clf__loss=modified_huber, clf__penalty=elasticnet, features__transformer_weights={'char_level': 0.9, 'word_level': 0.2, 'word_lengths': 0.9, 'full_name_length': 0.3} \n",
      "[CV]  clf__loss=modified_huber, clf__penalty=elasticnet, features__transformer_weights={'char_level': 0.9, 'word_level': 0.2, 'word_lengths': 0.9, 'full_name_length': 0.3}, score=0.8601964182553438, total=   3.8s\n",
      "[CV] clf__loss=modified_huber, clf__penalty=elasticnet, features__transformer_weights={'char_level': 0.9, 'word_level': 0.2, 'word_lengths': 0.9, 'full_name_length': 0.3} \n",
      "[CV]  clf__loss=modified_huber, clf__penalty=elasticnet, features__transformer_weights={'char_level': 0.9, 'word_level': 0.2, 'word_lengths': 0.9, 'full_name_length': 0.3}, score=0.8723281340265743, total=   3.7s\n",
      "[CV] clf__loss=modified_huber, clf__penalty=elasticnet, features__transformer_weights={'char_level': 0.9, 'word_level': 0.2, 'word_lengths': 0.9, 'full_name_length': 0.3} \n",
      "[CV]  clf__loss=modified_huber, clf__penalty=elasticnet, features__transformer_weights={'char_level': 0.9, 'word_level': 0.2, 'word_lengths': 0.9, 'full_name_length': 0.3}, score=0.8543352601156069, total=   3.7s\n",
      "[CV] clf__loss=modified_huber, clf__penalty=elasticnet, features__transformer_weights={'char_level': 0.9, 'word_level': 0.3, 'word_count': 0.2, 'full_name_length': 0.7} \n",
      "[CV]  clf__loss=modified_huber, clf__penalty=elasticnet, features__transformer_weights={'char_level': 0.9, 'word_level': 0.3, 'word_count': 0.2, 'full_name_length': 0.7}, score=0.8578856152512998, total=   3.6s\n",
      "[CV] clf__loss=modified_huber, clf__penalty=elasticnet, features__transformer_weights={'char_level': 0.9, 'word_level': 0.3, 'word_count': 0.2, 'full_name_length': 0.7} \n",
      "[CV]  clf__loss=modified_huber, clf__penalty=elasticnet, features__transformer_weights={'char_level': 0.9, 'word_level': 0.3, 'word_count': 0.2, 'full_name_length': 0.7}, score=0.8740612362796072, total=   3.7s\n",
      "[CV] clf__loss=modified_huber, clf__penalty=elasticnet, features__transformer_weights={'char_level': 0.9, 'word_level': 0.3, 'word_count': 0.2, 'full_name_length': 0.7} \n",
      "[CV]  clf__loss=modified_huber, clf__penalty=elasticnet, features__transformer_weights={'char_level': 0.9, 'word_level': 0.3, 'word_count': 0.2, 'full_name_length': 0.7}, score=0.8578034682080925, total=   3.7s\n",
      "[CV] clf__loss=log, clf__penalty=l1, features__transformer_weights={'char_level': 0.2, 'word_level': 0.1, 'word_count': 0.4, 'full_name_length': 0.5} \n",
      "[CV]  clf__loss=log, clf__penalty=l1, features__transformer_weights={'char_level': 0.2, 'word_level': 0.1, 'word_count': 0.4, 'full_name_length': 0.5}, score=0.8122472559214327, total=   5.1s\n",
      "[CV] clf__loss=log, clf__penalty=l1, features__transformer_weights={'char_level': 0.2, 'word_level': 0.1, 'word_count': 0.4, 'full_name_length': 0.5} \n"
     ]
    },
    {
     "name": "stdout",
     "output_type": "stream",
     "text": [
      "[CV]  clf__loss=log, clf__penalty=l1, features__transformer_weights={'char_level': 0.2, 'word_level': 0.1, 'word_count': 0.4, 'full_name_length': 0.5}, score=0.8203350664355864, total=   5.2s\n",
      "[CV] clf__loss=log, clf__penalty=l1, features__transformer_weights={'char_level': 0.2, 'word_level': 0.1, 'word_count': 0.4, 'full_name_length': 0.5} \n",
      "[CV]  clf__loss=log, clf__penalty=l1, features__transformer_weights={'char_level': 0.2, 'word_level': 0.1, 'word_count': 0.4, 'full_name_length': 0.5}, score=0.8109826589595376, total=   5.3s\n",
      "[CV] clf__loss=log, clf__penalty=l1, features__transformer_weights={'char_level': 0.9, 'word_level': 0.2, 'word_lengths': 0.9, 'full_name_length': 0.3} \n",
      "[CV]  clf__loss=log, clf__penalty=l1, features__transformer_weights={'char_level': 0.9, 'word_level': 0.2, 'word_lengths': 0.9, 'full_name_length': 0.3}, score=0.854419410745234, total=   4.5s\n",
      "[CV] clf__loss=log, clf__penalty=l1, features__transformer_weights={'char_level': 0.9, 'word_level': 0.2, 'word_lengths': 0.9, 'full_name_length': 0.3} \n",
      "[CV]  clf__loss=log, clf__penalty=l1, features__transformer_weights={'char_level': 0.9, 'word_level': 0.2, 'word_lengths': 0.9, 'full_name_length': 0.3}, score=0.8717504332755632, total=   4.2s\n",
      "[CV] clf__loss=log, clf__penalty=l1, features__transformer_weights={'char_level': 0.9, 'word_level': 0.2, 'word_lengths': 0.9, 'full_name_length': 0.3} \n",
      "[CV]  clf__loss=log, clf__penalty=l1, features__transformer_weights={'char_level': 0.9, 'word_level': 0.2, 'word_lengths': 0.9, 'full_name_length': 0.3}, score=0.8526011560693642, total=   4.3s\n",
      "[CV] clf__loss=log, clf__penalty=l1, features__transformer_weights={'char_level': 0.9, 'word_level': 0.3, 'word_count': 0.2, 'full_name_length': 0.7} \n",
      "[CV]  clf__loss=log, clf__penalty=l1, features__transformer_weights={'char_level': 0.9, 'word_level': 0.3, 'word_count': 0.2, 'full_name_length': 0.7}, score=0.8451761987290584, total=   4.8s\n",
      "[CV] clf__loss=log, clf__penalty=l1, features__transformer_weights={'char_level': 0.9, 'word_level': 0.3, 'word_count': 0.2, 'full_name_length': 0.7} \n",
      "[CV]  clf__loss=log, clf__penalty=l1, features__transformer_weights={'char_level': 0.9, 'word_level': 0.3, 'word_count': 0.2, 'full_name_length': 0.7}, score=0.8717504332755632, total=   4.7s\n",
      "[CV] clf__loss=log, clf__penalty=l1, features__transformer_weights={'char_level': 0.9, 'word_level': 0.3, 'word_count': 0.2, 'full_name_length': 0.7} \n",
      "[CV]  clf__loss=log, clf__penalty=l1, features__transformer_weights={'char_level': 0.9, 'word_level': 0.3, 'word_count': 0.2, 'full_name_length': 0.7}, score=0.8450867052023121, total=   4.6s\n",
      "[CV] clf__loss=log, clf__penalty=l2, features__transformer_weights={'char_level': 0.2, 'word_level': 0.1, 'word_count': 0.4, 'full_name_length': 0.5} \n",
      "[CV]  clf__loss=log, clf__penalty=l2, features__transformer_weights={'char_level': 0.2, 'word_level': 0.1, 'word_count': 0.4, 'full_name_length': 0.5}, score=0.7741190063547082, total=   2.9s\n",
      "[CV] clf__loss=log, clf__penalty=l2, features__transformer_weights={'char_level': 0.2, 'word_level': 0.1, 'word_count': 0.4, 'full_name_length': 0.5} \n",
      "[CV]  clf__loss=log, clf__penalty=l2, features__transformer_weights={'char_level': 0.2, 'word_level': 0.1, 'word_count': 0.4, 'full_name_length': 0.5}, score=0.7920277296360485, total=   2.9s\n",
      "[CV] clf__loss=log, clf__penalty=l2, features__transformer_weights={'char_level': 0.2, 'word_level': 0.1, 'word_count': 0.4, 'full_name_length': 0.5} \n",
      "[CV]  clf__loss=log, clf__penalty=l2, features__transformer_weights={'char_level': 0.2, 'word_level': 0.1, 'word_count': 0.4, 'full_name_length': 0.5}, score=0.7728323699421965, total=   2.9s\n",
      "[CV] clf__loss=log, clf__penalty=l2, features__transformer_weights={'char_level': 0.9, 'word_level': 0.2, 'word_lengths': 0.9, 'full_name_length': 0.3} \n",
      "[CV]  clf__loss=log, clf__penalty=l2, features__transformer_weights={'char_level': 0.9, 'word_level': 0.2, 'word_lengths': 0.9, 'full_name_length': 0.3}, score=0.8440207972270364, total=   2.9s\n",
      "[CV] clf__loss=log, clf__penalty=l2, features__transformer_weights={'char_level': 0.9, 'word_level': 0.2, 'word_lengths': 0.9, 'full_name_length': 0.3} \n",
      "[CV]  clf__loss=log, clf__penalty=l2, features__transformer_weights={'char_level': 0.9, 'word_level': 0.2, 'word_lengths': 0.9, 'full_name_length': 0.3}, score=0.8688619295205083, total=   2.9s\n",
      "[CV] clf__loss=log, clf__penalty=l2, features__transformer_weights={'char_level': 0.9, 'word_level': 0.2, 'word_lengths': 0.9, 'full_name_length': 0.3} \n",
      "[CV]  clf__loss=log, clf__penalty=l2, features__transformer_weights={'char_level': 0.9, 'word_level': 0.2, 'word_lengths': 0.9, 'full_name_length': 0.3}, score=0.8433526011560694, total=   3.1s\n",
      "[CV] clf__loss=log, clf__penalty=l2, features__transformer_weights={'char_level': 0.9, 'word_level': 0.3, 'word_count': 0.2, 'full_name_length': 0.7} \n",
      "[CV]  clf__loss=log, clf__penalty=l2, features__transformer_weights={'char_level': 0.9, 'word_level': 0.3, 'word_count': 0.2, 'full_name_length': 0.7}, score=0.8330444829578278, total=   3.0s\n",
      "[CV] clf__loss=log, clf__penalty=l2, features__transformer_weights={'char_level': 0.9, 'word_level': 0.3, 'word_count': 0.2, 'full_name_length': 0.7} \n",
      "[CV]  clf__loss=log, clf__penalty=l2, features__transformer_weights={'char_level': 0.9, 'word_level': 0.3, 'word_count': 0.2, 'full_name_length': 0.7}, score=0.8469093009820913, total=   3.2s\n",
      "[CV] clf__loss=log, clf__penalty=l2, features__transformer_weights={'char_level': 0.9, 'word_level': 0.3, 'word_count': 0.2, 'full_name_length': 0.7} \n",
      "[CV]  clf__loss=log, clf__penalty=l2, features__transformer_weights={'char_level': 0.9, 'word_level': 0.3, 'word_count': 0.2, 'full_name_length': 0.7}, score=0.8329479768786127, total=   3.1s\n",
      "[CV] clf__loss=log, clf__penalty=elasticnet, features__transformer_weights={'char_level': 0.2, 'word_level': 0.1, 'word_count': 0.4, 'full_name_length': 0.5} \n",
      "[CV]  clf__loss=log, clf__penalty=elasticnet, features__transformer_weights={'char_level': 0.2, 'word_level': 0.1, 'word_count': 0.4, 'full_name_length': 0.5}, score=0.7879838243789717, total=   4.0s\n",
      "[CV] clf__loss=log, clf__penalty=elasticnet, features__transformer_weights={'char_level': 0.2, 'word_level': 0.1, 'word_count': 0.4, 'full_name_length': 0.5} \n",
      "[CV]  clf__loss=log, clf__penalty=elasticnet, features__transformer_weights={'char_level': 0.2, 'word_level': 0.1, 'word_count': 0.4, 'full_name_length': 0.5}, score=0.7868284228769498, total=   4.2s\n",
      "[CV] clf__loss=log, clf__penalty=elasticnet, features__transformer_weights={'char_level': 0.2, 'word_level': 0.1, 'word_count': 0.4, 'full_name_length': 0.5} \n",
      "[CV]  clf__loss=log, clf__penalty=elasticnet, features__transformer_weights={'char_level': 0.2, 'word_level': 0.1, 'word_count': 0.4, 'full_name_length': 0.5}, score=0.7606936416184971, total=   4.4s\n",
      "[CV] clf__loss=log, clf__penalty=elasticnet, features__transformer_weights={'char_level': 0.9, 'word_level': 0.2, 'word_lengths': 0.9, 'full_name_length': 0.3} \n",
      "[CV]  clf__loss=log, clf__penalty=elasticnet, features__transformer_weights={'char_level': 0.9, 'word_level': 0.2, 'word_lengths': 0.9, 'full_name_length': 0.3}, score=0.8434430964760254, total=   4.2s\n",
      "[CV] clf__loss=log, clf__penalty=elasticnet, features__transformer_weights={'char_level': 0.9, 'word_level': 0.2, 'word_lengths': 0.9, 'full_name_length': 0.3} \n",
      "[CV]  clf__loss=log, clf__penalty=elasticnet, features__transformer_weights={'char_level': 0.9, 'word_level': 0.2, 'word_lengths': 0.9, 'full_name_length': 0.3}, score=0.8630849220103987, total=   3.9s\n",
      "[CV] clf__loss=log, clf__penalty=elasticnet, features__transformer_weights={'char_level': 0.9, 'word_level': 0.2, 'word_lengths': 0.9, 'full_name_length': 0.3} \n",
      "[CV]  clf__loss=log, clf__penalty=elasticnet, features__transformer_weights={'char_level': 0.9, 'word_level': 0.2, 'word_lengths': 0.9, 'full_name_length': 0.3}, score=0.8416184971098266, total=   3.9s\n",
      "[CV] clf__loss=log, clf__penalty=elasticnet, features__transformer_weights={'char_level': 0.9, 'word_level': 0.3, 'word_count': 0.2, 'full_name_length': 0.7} \n",
      "[CV]  clf__loss=log, clf__penalty=elasticnet, features__transformer_weights={'char_level': 0.9, 'word_level': 0.3, 'word_count': 0.2, 'full_name_length': 0.7}, score=0.8359329867128827, total=   3.9s\n",
      "[CV] clf__loss=log, clf__penalty=elasticnet, features__transformer_weights={'char_level': 0.9, 'word_level': 0.3, 'word_count': 0.2, 'full_name_length': 0.7} \n"
     ]
    },
    {
     "name": "stdout",
     "output_type": "stream",
     "text": [
      "[CV]  clf__loss=log, clf__penalty=elasticnet, features__transformer_weights={'char_level': 0.9, 'word_level': 0.3, 'word_count': 0.2, 'full_name_length': 0.7}, score=0.853264009243212, total=   3.9s\n",
      "[CV] clf__loss=log, clf__penalty=elasticnet, features__transformer_weights={'char_level': 0.9, 'word_level': 0.3, 'word_count': 0.2, 'full_name_length': 0.7} \n",
      "[CV]  clf__loss=log, clf__penalty=elasticnet, features__transformer_weights={'char_level': 0.9, 'word_level': 0.3, 'word_count': 0.2, 'full_name_length': 0.7}, score=0.8317919075144509, total=   4.0s\n",
      "[CV] clf__loss=perceptron, clf__penalty=l1, features__transformer_weights={'char_level': 0.2, 'word_level': 0.1, 'word_count': 0.4, 'full_name_length': 0.5} \n",
      "[CV]  clf__loss=perceptron, clf__penalty=l1, features__transformer_weights={'char_level': 0.2, 'word_level': 0.1, 'word_count': 0.4, 'full_name_length': 0.5}, score=0.6961294049682265, total=   3.9s\n",
      "[CV] clf__loss=perceptron, clf__penalty=l1, features__transformer_weights={'char_level': 0.2, 'word_level': 0.1, 'word_count': 0.4, 'full_name_length': 0.5} \n",
      "[CV]  clf__loss=perceptron, clf__penalty=l1, features__transformer_weights={'char_level': 0.2, 'word_level': 0.1, 'word_count': 0.4, 'full_name_length': 0.5}, score=0.7642980935875217, total=   3.8s\n",
      "[CV] clf__loss=perceptron, clf__penalty=l1, features__transformer_weights={'char_level': 0.2, 'word_level': 0.1, 'word_count': 0.4, 'full_name_length': 0.5} \n",
      "[CV]  clf__loss=perceptron, clf__penalty=l1, features__transformer_weights={'char_level': 0.2, 'word_level': 0.1, 'word_count': 0.4, 'full_name_length': 0.5}, score=0.6786127167630058, total=   3.8s\n",
      "[CV] clf__loss=perceptron, clf__penalty=l1, features__transformer_weights={'char_level': 0.9, 'word_level': 0.2, 'word_lengths': 0.9, 'full_name_length': 0.3} \n",
      "[CV]  clf__loss=perceptron, clf__penalty=l1, features__transformer_weights={'char_level': 0.9, 'word_level': 0.2, 'word_lengths': 0.9, 'full_name_length': 0.3}, score=0.8399768919699596, total=   3.4s\n",
      "[CV] clf__loss=perceptron, clf__penalty=l1, features__transformer_weights={'char_level': 0.9, 'word_level': 0.2, 'word_lengths': 0.9, 'full_name_length': 0.3} \n",
      "[CV]  clf__loss=perceptron, clf__penalty=l1, features__transformer_weights={'char_level': 0.9, 'word_level': 0.2, 'word_lengths': 0.9, 'full_name_length': 0.3}, score=0.8700173310225303, total=   3.4s\n",
      "[CV] clf__loss=perceptron, clf__penalty=l1, features__transformer_weights={'char_level': 0.9, 'word_level': 0.2, 'word_lengths': 0.9, 'full_name_length': 0.3} \n",
      "[CV]  clf__loss=perceptron, clf__penalty=l1, features__transformer_weights={'char_level': 0.9, 'word_level': 0.2, 'word_lengths': 0.9, 'full_name_length': 0.3}, score=0.5566473988439307, total=   3.4s\n",
      "[CV] clf__loss=perceptron, clf__penalty=l1, features__transformer_weights={'char_level': 0.9, 'word_level': 0.3, 'word_count': 0.2, 'full_name_length': 0.7} \n",
      "[CV]  clf__loss=perceptron, clf__penalty=l1, features__transformer_weights={'char_level': 0.9, 'word_level': 0.3, 'word_count': 0.2, 'full_name_length': 0.7}, score=0.8440207972270364, total=   3.4s\n",
      "[CV] clf__loss=perceptron, clf__penalty=l1, features__transformer_weights={'char_level': 0.9, 'word_level': 0.3, 'word_count': 0.2, 'full_name_length': 0.7} \n",
      "[CV]  clf__loss=perceptron, clf__penalty=l1, features__transformer_weights={'char_level': 0.9, 'word_level': 0.3, 'word_count': 0.2, 'full_name_length': 0.7}, score=0.7891392258809936, total=   3.4s\n",
      "[CV] clf__loss=perceptron, clf__penalty=l1, features__transformer_weights={'char_level': 0.9, 'word_level': 0.3, 'word_count': 0.2, 'full_name_length': 0.7} \n",
      "[CV]  clf__loss=perceptron, clf__penalty=l1, features__transformer_weights={'char_level': 0.9, 'word_level': 0.3, 'word_count': 0.2, 'full_name_length': 0.7}, score=0.7791907514450868, total=   3.4s\n",
      "[CV] clf__loss=perceptron, clf__penalty=l2, features__transformer_weights={'char_level': 0.2, 'word_level': 0.1, 'word_count': 0.4, 'full_name_length': 0.5} \n",
      "[CV]  clf__loss=perceptron, clf__penalty=l2, features__transformer_weights={'char_level': 0.2, 'word_level': 0.1, 'word_count': 0.4, 'full_name_length': 0.5}, score=0.8486424032351242, total=   2.4s\n",
      "[CV] clf__loss=perceptron, clf__penalty=l2, features__transformer_weights={'char_level': 0.2, 'word_level': 0.1, 'word_count': 0.4, 'full_name_length': 0.5} \n",
      "[CV]  clf__loss=perceptron, clf__penalty=l2, features__transformer_weights={'char_level': 0.2, 'word_level': 0.1, 'word_count': 0.4, 'full_name_length': 0.5}, score=0.8607741190063547, total=   2.5s\n",
      "[CV] clf__loss=perceptron, clf__penalty=l2, features__transformer_weights={'char_level': 0.2, 'word_level': 0.1, 'word_count': 0.4, 'full_name_length': 0.5} \n",
      "[CV]  clf__loss=perceptron, clf__penalty=l2, features__transformer_weights={'char_level': 0.2, 'word_level': 0.1, 'word_count': 0.4, 'full_name_length': 0.5}, score=0.7601156069364162, total=   2.5s\n",
      "[CV] clf__loss=perceptron, clf__penalty=l2, features__transformer_weights={'char_level': 0.9, 'word_level': 0.2, 'word_lengths': 0.9, 'full_name_length': 0.3} \n",
      "[CV]  clf__loss=perceptron, clf__penalty=l2, features__transformer_weights={'char_level': 0.9, 'word_level': 0.2, 'word_lengths': 0.9, 'full_name_length': 0.3}, score=0.8497978047371462, total=   2.5s\n",
      "[CV] clf__loss=perceptron, clf__penalty=l2, features__transformer_weights={'char_level': 0.9, 'word_level': 0.2, 'word_lengths': 0.9, 'full_name_length': 0.3} \n",
      "[CV]  clf__loss=perceptron, clf__penalty=l2, features__transformer_weights={'char_level': 0.9, 'word_level': 0.2, 'word_lengths': 0.9, 'full_name_length': 0.3}, score=0.8434430964760254, total=   2.6s\n",
      "[CV] clf__loss=perceptron, clf__penalty=l2, features__transformer_weights={'char_level': 0.9, 'word_level': 0.2, 'word_lengths': 0.9, 'full_name_length': 0.3} \n",
      "[CV]  clf__loss=perceptron, clf__penalty=l2, features__transformer_weights={'char_level': 0.9, 'word_level': 0.2, 'word_lengths': 0.9, 'full_name_length': 0.3}, score=0.7936416184971098, total=   2.5s\n",
      "[CV] clf__loss=perceptron, clf__penalty=l2, features__transformer_weights={'char_level': 0.9, 'word_level': 0.3, 'word_count': 0.2, 'full_name_length': 0.7} \n",
      "[CV]  clf__loss=perceptron, clf__penalty=l2, features__transformer_weights={'char_level': 0.9, 'word_level': 0.3, 'word_count': 0.2, 'full_name_length': 0.7}, score=0.8486424032351242, total=   2.4s\n",
      "[CV] clf__loss=perceptron, clf__penalty=l2, features__transformer_weights={'char_level': 0.9, 'word_level': 0.3, 'word_count': 0.2, 'full_name_length': 0.7} \n",
      "[CV]  clf__loss=perceptron, clf__penalty=l2, features__transformer_weights={'char_level': 0.9, 'word_level': 0.3, 'word_count': 0.2, 'full_name_length': 0.7}, score=0.8700173310225303, total=   2.4s\n",
      "[CV] clf__loss=perceptron, clf__penalty=l2, features__transformer_weights={'char_level': 0.9, 'word_level': 0.3, 'word_count': 0.2, 'full_name_length': 0.7} \n",
      "[CV]  clf__loss=perceptron, clf__penalty=l2, features__transformer_weights={'char_level': 0.9, 'word_level': 0.3, 'word_count': 0.2, 'full_name_length': 0.7}, score=0.7601156069364162, total=   2.4s\n",
      "[CV] clf__loss=perceptron, clf__penalty=elasticnet, features__transformer_weights={'char_level': 0.2, 'word_level': 0.1, 'word_count': 0.4, 'full_name_length': 0.5} \n",
      "[CV]  clf__loss=perceptron, clf__penalty=elasticnet, features__transformer_weights={'char_level': 0.2, 'word_level': 0.1, 'word_count': 0.4, 'full_name_length': 0.5}, score=0.7712305025996534, total=   3.4s\n",
      "[CV] clf__loss=perceptron, clf__penalty=elasticnet, features__transformer_weights={'char_level': 0.2, 'word_level': 0.1, 'word_count': 0.4, 'full_name_length': 0.5} \n",
      "[CV]  clf__loss=perceptron, clf__penalty=elasticnet, features__transformer_weights={'char_level': 0.2, 'word_level': 0.1, 'word_count': 0.4, 'full_name_length': 0.5}, score=0.8272674754477181, total=   3.4s\n",
      "[CV] clf__loss=perceptron, clf__penalty=elasticnet, features__transformer_weights={'char_level': 0.2, 'word_level': 0.1, 'word_count': 0.4, 'full_name_length': 0.5} \n",
      "[CV]  clf__loss=perceptron, clf__penalty=elasticnet, features__transformer_weights={'char_level': 0.2, 'word_level': 0.1, 'word_count': 0.4, 'full_name_length': 0.5}, score=0.8560693641618498, total=   3.4s\n",
      "[CV] clf__loss=perceptron, clf__penalty=elasticnet, features__transformer_weights={'char_level': 0.9, 'word_level': 0.2, 'word_lengths': 0.9, 'full_name_length': 0.3} \n"
     ]
    },
    {
     "name": "stdout",
     "output_type": "stream",
     "text": [
      "[CV]  clf__loss=perceptron, clf__penalty=elasticnet, features__transformer_weights={'char_level': 0.9, 'word_level': 0.2, 'word_lengths': 0.9, 'full_name_length': 0.3}, score=0.8174465626805315, total=   3.3s\n",
      "[CV] clf__loss=perceptron, clf__penalty=elasticnet, features__transformer_weights={'char_level': 0.9, 'word_level': 0.2, 'word_lengths': 0.9, 'full_name_length': 0.3} \n",
      "[CV]  clf__loss=perceptron, clf__penalty=elasticnet, features__transformer_weights={'char_level': 0.9, 'word_level': 0.2, 'word_lengths': 0.9, 'full_name_length': 0.3}, score=0.8711727325245523, total=   3.5s\n",
      "[CV] clf__loss=perceptron, clf__penalty=elasticnet, features__transformer_weights={'char_level': 0.9, 'word_level': 0.2, 'word_lengths': 0.9, 'full_name_length': 0.3} \n",
      "[CV]  clf__loss=perceptron, clf__penalty=elasticnet, features__transformer_weights={'char_level': 0.9, 'word_level': 0.2, 'word_lengths': 0.9, 'full_name_length': 0.3}, score=0.8173410404624277, total=   3.6s\n",
      "[CV] clf__loss=perceptron, clf__penalty=elasticnet, features__transformer_weights={'char_level': 0.9, 'word_level': 0.3, 'word_count': 0.2, 'full_name_length': 0.7} \n",
      "[CV]  clf__loss=perceptron, clf__penalty=elasticnet, features__transformer_weights={'char_level': 0.9, 'word_level': 0.3, 'word_count': 0.2, 'full_name_length': 0.7}, score=0.8307336799537839, total=   3.3s\n",
      "[CV] clf__loss=perceptron, clf__penalty=elasticnet, features__transformer_weights={'char_level': 0.9, 'word_level': 0.3, 'word_count': 0.2, 'full_name_length': 0.7} \n",
      "[CV]  clf__loss=perceptron, clf__penalty=elasticnet, features__transformer_weights={'char_level': 0.9, 'word_level': 0.3, 'word_count': 0.2, 'full_name_length': 0.7}, score=0.8682842287694974, total=   3.3s\n",
      "[CV] clf__loss=perceptron, clf__penalty=elasticnet, features__transformer_weights={'char_level': 0.9, 'word_level': 0.3, 'word_count': 0.2, 'full_name_length': 0.7} \n",
      "[CV]  clf__loss=perceptron, clf__penalty=elasticnet, features__transformer_weights={'char_level': 0.9, 'word_level': 0.3, 'word_count': 0.2, 'full_name_length': 0.7}, score=0.7433526011560694, total=   3.4s\n"
     ]
    },
    {
     "name": "stderr",
     "output_type": "stream",
     "text": [
      "[Parallel(n_jobs=1)]: Done 108 out of 108 | elapsed:  6.9min finished\n"
     ]
    }
   ],
   "source": [
    "if __name__ == '__main__':\n",
    "    \n",
    "    ic = EP('german')\n",
    "    #.add_nodoubt_names()\n",
    "    \n",
    "    # split into the training and testing sets\n",
    "    X_train, X_test, y_train, y_test = train_test_split(ic.data.drop([ic.target_col], axis=1), \n",
    "                                                        ic.data[ic.target_col],  test_size=0.2, \n",
    "                                                        random_state=391, stratify=ic.data[ic.target_col])\n",
    "    \n",
    "\n",
    "    pipe = Pipeline([('select_fullname', Selector('full_name')),  # df with 1 column\n",
    "                        ('features', FeatureUnion(\n",
    "                             [('char_level', CountVectorizer(strip_accents='ascii', analyzer='char', \n",
    "                                                          ngram_range=(1, 4))),\n",
    "                              ('word_level', CountVectorizer(strip_accents='ascii', analyzer='word',\n",
    "                                                       ngram_range=(1,2))),\n",
    "                              ('word_count', WordCount()),\n",
    "                              ('full_name_length', NameLength()),\n",
    "                              ('firstlast', FirstLast())],\n",
    "                                 transformer_weights={\n",
    "                                            'char_level': 0.8,\n",
    "                                            'word_level': 0.5,\n",
    "                                            'word_lengths': 1.0,\n",
    "                                                        })\n",
    "                     ),\n",
    "                     ('normalise', Normalizer()),\n",
    "                     ('pca', TruncatedSVD(n_components=120)),\n",
    "                    ('clf', SGDClassifier(max_iter=1000))])\n",
    "    \n",
    "    param_grid = {'features__transformer_weights': [{'char_level': 0.2,\n",
    "                                                     'word_level': 0.1,\n",
    "                                                     'word_count':0.4,\n",
    "                                                    'full_name_length': 0.5}, \n",
    "                                                   {'char_level': 0.9,\n",
    "                                                     'word_level': 0.2,\n",
    "                                                     'word_lengths':0.9,\n",
    "                                                   'full_name_length': 0.3},\n",
    "                                                   {'char_level': 0.9,\n",
    "                                                     'word_level': 0.3,\n",
    "                                                     'word_count':0.2,\n",
    "                                                   'full_name_length': 0.7}],\n",
    "                    \"clf__loss\": ['hinge', 'modified_huber', 'log', 'perceptron'],\n",
    "                     'clf__penalty': ['l1','l2','elasticnet']}\n",
    "    \n",
    "    grid_search = GridSearchCV(pipe, param_grid=param_grid, verbose=10)\n",
    "    \n",
    "    grid_search.fit(X_train, y_train)"
   ]
  },
  {
   "cell_type": "code",
   "execution_count": 16,
   "metadata": {},
   "outputs": [
    {
     "name": "stdout",
     "output_type": "stream",
     "text": [
      "             precision    recall  f1-score   support\n",
      "\n",
      "          0       0.89      0.86      0.88       709\n",
      "          1       0.84      0.88      0.86       589\n",
      "\n",
      "avg / total       0.87      0.87      0.87      1298\n",
      "\n"
     ]
    }
   ],
   "source": [
    "print(classification_report(y_test, grid_search.predict(X_test)))"
   ]
  },
  {
   "cell_type": "code",
   "execution_count": 17,
   "metadata": {},
   "outputs": [],
   "source": [
    "test_data = pd.DataFrame({'full_name': ['mohammad kumar', 'chan','stanislaw', 'mohammad', 'mehrdad','myriam',\n",
    "                                         'nejad myriam','hosein', 'xi','babak', 'igor', \n",
    "                                        'andrzej woods', 'kumar', 'otto floms', 'ahmad lopes zeto', 'bob', 'mario razzi', 'john reed']})\n",
    "\n",
    "test_data['prediction'] = grid_search.predict(test_data)\n",
    "test_data['prediction'] = test_data['prediction'].apply(lambda _: 'yes' if _ else 'no')"
   ]
  },
  {
   "cell_type": "code",
   "execution_count": 18,
   "metadata": {},
   "outputs": [
    {
     "data": {
      "text/html": [
       "<div>\n",
       "<style scoped>\n",
       "    .dataframe tbody tr th:only-of-type {\n",
       "        vertical-align: middle;\n",
       "    }\n",
       "\n",
       "    .dataframe tbody tr th {\n",
       "        vertical-align: top;\n",
       "    }\n",
       "\n",
       "    .dataframe thead th {\n",
       "        text-align: right;\n",
       "    }\n",
       "</style>\n",
       "<table border=\"1\" class=\"dataframe\">\n",
       "  <thead>\n",
       "    <tr style=\"text-align: right;\">\n",
       "      <th></th>\n",
       "      <th>full_name</th>\n",
       "      <th>prediction</th>\n",
       "    </tr>\n",
       "  </thead>\n",
       "  <tbody>\n",
       "    <tr>\n",
       "      <th>0</th>\n",
       "      <td>mohammad kumar</td>\n",
       "      <td>no</td>\n",
       "    </tr>\n",
       "    <tr>\n",
       "      <th>1</th>\n",
       "      <td>chan</td>\n",
       "      <td>no</td>\n",
       "    </tr>\n",
       "    <tr>\n",
       "      <th>2</th>\n",
       "      <td>stanislaw</td>\n",
       "      <td>no</td>\n",
       "    </tr>\n",
       "    <tr>\n",
       "      <th>3</th>\n",
       "      <td>mohammad</td>\n",
       "      <td>no</td>\n",
       "    </tr>\n",
       "    <tr>\n",
       "      <th>4</th>\n",
       "      <td>mehrdad</td>\n",
       "      <td>no</td>\n",
       "    </tr>\n",
       "    <tr>\n",
       "      <th>5</th>\n",
       "      <td>myriam</td>\n",
       "      <td>no</td>\n",
       "    </tr>\n",
       "    <tr>\n",
       "      <th>6</th>\n",
       "      <td>nejad myriam</td>\n",
       "      <td>no</td>\n",
       "    </tr>\n",
       "    <tr>\n",
       "      <th>7</th>\n",
       "      <td>hosein</td>\n",
       "      <td>yes</td>\n",
       "    </tr>\n",
       "    <tr>\n",
       "      <th>8</th>\n",
       "      <td>xi</td>\n",
       "      <td>no</td>\n",
       "    </tr>\n",
       "    <tr>\n",
       "      <th>9</th>\n",
       "      <td>babak</td>\n",
       "      <td>no</td>\n",
       "    </tr>\n",
       "    <tr>\n",
       "      <th>10</th>\n",
       "      <td>igor</td>\n",
       "      <td>no</td>\n",
       "    </tr>\n",
       "    <tr>\n",
       "      <th>11</th>\n",
       "      <td>andrzej woods</td>\n",
       "      <td>no</td>\n",
       "    </tr>\n",
       "    <tr>\n",
       "      <th>12</th>\n",
       "      <td>kumar</td>\n",
       "      <td>no</td>\n",
       "    </tr>\n",
       "    <tr>\n",
       "      <th>13</th>\n",
       "      <td>otto floms</td>\n",
       "      <td>yes</td>\n",
       "    </tr>\n",
       "    <tr>\n",
       "      <th>14</th>\n",
       "      <td>ahmad lopes zeto</td>\n",
       "      <td>no</td>\n",
       "    </tr>\n",
       "    <tr>\n",
       "      <th>15</th>\n",
       "      <td>bob</td>\n",
       "      <td>no</td>\n",
       "    </tr>\n",
       "    <tr>\n",
       "      <th>16</th>\n",
       "      <td>mario razzi</td>\n",
       "      <td>no</td>\n",
       "    </tr>\n",
       "    <tr>\n",
       "      <th>17</th>\n",
       "      <td>john reed</td>\n",
       "      <td>no</td>\n",
       "    </tr>\n",
       "  </tbody>\n",
       "</table>\n",
       "</div>"
      ],
      "text/plain": [
       "           full_name prediction\n",
       "0     mohammad kumar         no\n",
       "1               chan         no\n",
       "2          stanislaw         no\n",
       "3           mohammad         no\n",
       "4            mehrdad         no\n",
       "5             myriam         no\n",
       "6       nejad myriam         no\n",
       "7             hosein        yes\n",
       "8                 xi         no\n",
       "9              babak         no\n",
       "10              igor         no\n",
       "11     andrzej woods         no\n",
       "12             kumar         no\n",
       "13        otto floms        yes\n",
       "14  ahmad lopes zeto         no\n",
       "15               bob         no\n",
       "16       mario razzi         no\n",
       "17         john reed         no"
      ]
     },
     "execution_count": 18,
     "metadata": {},
     "output_type": "execute_result"
    }
   ],
   "source": [
    "test_data"
   ]
  },
  {
   "cell_type": "code",
   "execution_count": 19,
   "metadata": {},
   "outputs": [
    {
     "data": {
      "text/plain": [
       "{'clf__loss': 'modified_huber',\n",
       " 'clf__penalty': 'elasticnet',\n",
       " 'features__transformer_weights': {'char_level': 0.9,\n",
       "  'full_name_length': 0.7,\n",
       "  'word_count': 0.2,\n",
       "  'word_level': 0.3}}"
      ]
     },
     "execution_count": 19,
     "metadata": {},
     "output_type": "execute_result"
    }
   ],
   "source": [
    "grid_search.best_params_"
   ]
  },
  {
   "cell_type": "code",
   "execution_count": null,
   "metadata": {},
   "outputs": [],
   "source": []
  }
 ],
 "metadata": {
  "kernelspec": {
   "display_name": "Python 3",
   "language": "python",
   "name": "python3"
  },
  "language_info": {
   "codemirror_mode": {
    "name": "ipython",
    "version": 3
   },
   "file_extension": ".py",
   "mimetype": "text/x-python",
   "name": "python",
   "nbconvert_exporter": "python",
   "pygments_lexer": "ipython3",
   "version": "3.6.4"
  }
 },
 "nbformat": 4,
 "nbformat_minor": 2
}
