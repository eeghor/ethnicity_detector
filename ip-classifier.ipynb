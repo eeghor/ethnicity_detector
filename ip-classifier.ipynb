{
 "cells": [
  {
   "cell_type": "code",
   "execution_count": 41,
   "metadata": {},
   "outputs": [],
   "source": [
    "import json\n",
    "import pandas as pd\n",
    "from sklearn.externals import joblib\n",
    "from collections import defaultdict, Counter\n",
    "from sklearn.feature_extraction.text import CountVectorizer\n",
    "from sklearn.pipeline import Pipeline, FeatureUnion\n",
    "from sklearn.model_selection import train_test_split\n",
    "from sklearn.metrics import classification_report, accuracy_score\n",
    "from sklearn.naive_bayes import GaussianNB\n",
    "from string import punctuation\n",
    "from sklearn.svm import SVC\n",
    "from sklearn.linear_model import SGDClassifier\n",
    "from sklearn.model_selection import GridSearchCV\n",
    "from sklearn.preprocessing import Normalizer\n",
    "from sklearn.decomposition import TruncatedSVD\n",
    "from unidecode import unidecode\n",
    "from sklearn.gaussian_process import GaussianProcessClassifier\n",
    "from sklearn.neural_network import MLPClassifier\n",
    "from sklearn.cluster import KMeans, MeanShift\n",
    "from ethnicity_features import (Selector, WordCount, NameLength, \n",
    "                                FirstLast, DictFirstNameFeatures, \n",
    "                                VowelsShare, ModelTransformer, MakeDense)\n",
    "from sklearn.ensemble import VotingClassifier, RandomForestClassifier, AdaBoostClassifier, GradientBoostingClassifier, ExtraTreesClassifier"
   ]
  },
  {
   "cell_type": "code",
   "execution_count": 42,
   "metadata": {},
   "outputs": [],
   "source": [
    "class EP:\n",
    "    \n",
    "    def __init__(self, ethnicity):  \n",
    "        \n",
    "        assert ethnicity in ('iranian polish italian german japanese vietnamese'\n",
    "                             ' portuguese fijian indian croatian greek'\n",
    "                             ' serbian spanish korean thai turkish' \n",
    "                             ' english cambodian russian bosnian').split(), f'incorrect ethnicity: {ethnicity}!'\n",
    "        \n",
    "        datafile = f'/Users/ik/Data/names/training-{ethnicity}.csv'\n",
    "        self.target_col = f'is_{ethnicity}'\n",
    "        \n",
    "        self.data = pd.read_csv(datafile).sample(frac=1.)\n",
    "        self.data['full_name'] = self.data['full_name'].apply(lambda _: unidecode(_))\n",
    "        \n",
    "        assert self.target_col in self.data.columns, f'there is no {self.target_col} in data file!'  \n",
    "        \n",
    "        try:\n",
    "            self.NODOUBT_FIRST_NAMES = list({line.strip() for line in open(f'/Users/ik/Data/names/real_{ethnicity}.txt','r').readlines() if line.strip()})\n",
    "        except:\n",
    "            self.NODOUBT_FIRST_NAMES = []\n",
    "        print(self.NODOUBT_FIRST_NAMES)\n",
    "        \n",
    "    def add_nodoubt_names(self):\n",
    "        \n",
    "        print(f'adding {len(self.NODOUBT_FIRST_NAMES)} first names..')\n",
    "        \n",
    "        self.data = pd.concat([self.data, pd.DataFrame({'full_name': self.NODOUBT_FIRST_NAMES, \n",
    "                                                        self.target_col: [1]*len(self.NODOUBT_FIRST_NAMES)})], \n",
    "                              ignore_index=True).sample(frac=1.)\n",
    "        return self"
   ]
  },
  {
   "cell_type": "code",
   "execution_count": 43,
   "metadata": {},
   "outputs": [
    {
     "name": "stdout",
     "output_type": "stream",
     "text": [
      "[]\n",
      "adding 0 first names..\n"
     ]
    },
    {
     "data": {
      "text/plain": [
       "Pipeline(memory=None,\n",
       "     steps=[('select_fullname', Selector(col_name='full_name')), ('features', FeatureUnion(n_jobs=1,\n",
       "       transformer_list=[('char_level', CountVectorizer(analyzer='char', binary=False, decode_error='strict',\n",
       "        dtype=<class 'numpy.int64'>, encoding='utf-8', input='content',\n",
       "        lowercase=True...restarts_optimizer=1, optimizer='fmin_l_bfgs_b',\n",
       "             random_state=None, warm_start=False))])"
      ]
     },
     "execution_count": 43,
     "metadata": {},
     "output_type": "execute_result"
    }
   ],
   "source": [
    "if __name__ == '__main__':\n",
    "    \n",
    "    ETHN = 'bosnian'\n",
    "    \n",
    "    ic = EP(ETHN).add_nodoubt_names()\n",
    "    \n",
    "    # split into the training and testing sets\n",
    "    X_train, X_test, y_train, y_test = train_test_split(ic.data.drop([ic.target_col], axis=1), \n",
    "                                                        ic.data[ic.target_col],  test_size=0.25, \n",
    "                                                        random_state=391, stratify=ic.data[ic.target_col])\n",
    "    \n",
    "\n",
    "    pipe = Pipeline([('select_fullname', Selector('full_name')),  # df with 1 column\n",
    "                     ('features', FeatureUnion(\n",
    "                         [('char_level', CountVectorizer(strip_accents='ascii', analyzer='char', \n",
    "                                                          ngram_range=(2, 4))),\n",
    "                          ('word_level', CountVectorizer(strip_accents='ascii', analyzer='word',\n",
    "                                                       ngram_range=(1,3))),\n",
    "                          ('word_count', WordCount()),\n",
    "                          ('dict_fname', DictFirstNameFeatures(ic.NODOUBT_FIRST_NAMES)),\n",
    "                          ('vow_share', VowelsShare()),\n",
    "                          ('full_name_length', NameLength()),  \n",
    "                          ('firstlast', FirstLast())])),\n",
    "#                               transformer_weights={\n",
    "#                                             'char_level': 0.8,\n",
    "#                                             'word_level': 0.5,\n",
    "#                                             'word_lengths': 1.0,})),\n",
    "#                          ])),\n",
    "                     ('normalise', Normalizer()),\n",
    "#                      ('pca', TruncatedSVD(n_components=120)),\n",
    "#                      ('clf', VotingClassifier(estimators=[('sgd', SGDClassifier(max_iter=1000)),\n",
    "#                                                            ('rf', RandomForestClassifier(class_weight='balanced')),\n",
    "#                                                             ('svc', SVC(C=0.0001)),\n",
    "#                                                              ('abst', AdaBoostClassifier(n_estimators=200)),\n",
    "#                                                              ('gb', GradientBoostingClassifier(n_estimators=200)),\n",
    "#                                                          ('kmeans', KMeans(n_clusters=2))], \n",
    "#                                                                     voting='hard'))])\n",
    "                     ('clf', FeatureUnion([('sgd', ModelTransformer(SGDClassifier(max_iter=1000))),\n",
    "                                             ('rf', ModelTransformer(RandomForestClassifier(class_weight='balanced', n_estimators=200))),\n",
    "                                             ('kmeans', ModelTransformer(KMeans(n_clusters=2))),\n",
    "                                             ('gb', ModelTransformer(GradientBoostingClassifier(n_estimators=200))),\n",
    "                                             ('abst', ModelTransformer(AdaBoostClassifier(n_estimators=200))),\n",
    "                                             ('svc', ModelTransformer(SVC(C=0.0001))),\n",
    "                                             ('mlpc', ModelTransformer(MLPClassifier())),\n",
    "                                             ('gau', ModelTransformer(ExtraTreesClassifier(n_estimators=40)))\n",
    "                                            ])),\n",
    "                     ('final_cls',GaussianProcessClassifier(n_restarts_optimizer=1) )])\n",
    "    \n",
    "#     param_grid = {\n",
    "#         'features__transformer_weights': [{'char_level': 0.2,\n",
    "#                                                      'word_level': 0.1,\n",
    "#                                                      'word_count':0.4,\n",
    "#                                                     'full_name_length': 0.5}, \n",
    "#                                                    {'char_level': 0.9,\n",
    "#                                                      'word_level': 0.2,\n",
    "#                                                      'word_lengths':0.9,\n",
    "#                                                    'full_name_length': 0.3},\n",
    "#                                                    {'char_level': 0.9,\n",
    "#                                                      'word_level': 0.3,\n",
    "#                                                      'word_count':0.2,\n",
    "#                                                    'full_name_length': 0.7}],\n",
    "#                     'clf__sgd__loss': ['modified_huber'], # also 'hinge', 'perceptron', 'log'\n",
    "#                     'clf__sgd__penalty': ['l2'],  # 'elasticnet', 'l1'\n",
    "#                     'clf__rf__n_estimators': [100, 200, 300],\n",
    "#                     'clf__rf__max_depth': [None, 2, 3],\n",
    "#                     'clf__svc__C': [1e-6, 1e-5, 1e-4, 1e-2, 1.]}  # default is 1.\n",
    "#                  'pca__n_components': [30, 120, 400]}\n",
    "    \n",
    "#     grid_search = GridSearchCV(pipe, param_grid=param_grid, verbose=10)\n",
    "pipe.fit(X_train, y_train)\n",
    "    \n",
    "#     grid_search.fit(X_train, y_train)\n",
    "    \n",
    "#     joblib.dump(grid_search.best_estimator_, f'{ETHN}_model.pkl', compress = 1)"
   ]
  },
  {
   "cell_type": "code",
   "execution_count": 44,
   "metadata": {},
   "outputs": [
    {
     "name": "stdout",
     "output_type": "stream",
     "text": [
      "             precision    recall  f1-score   support\n",
      "\n",
      "        0.0       0.90      0.92      0.91       300\n",
      "        1.0       0.88      0.85      0.86       200\n",
      "\n",
      "avg / total       0.89      0.89      0.89       500\n",
      "\n"
     ]
    }
   ],
   "source": [
    "print(classification_report(y_test, pipe.predict(X_test)))"
   ]
  },
  {
   "cell_type": "code",
   "execution_count": 45,
   "metadata": {},
   "outputs": [],
   "source": [
    "test_data = pd.DataFrame({'full_name': ['han walota', 'xi','babak', 'igor souza', 'yash patel', 'david perron',\n",
    "                                        'andrzej woods','otto floms', 'suzuki', 'iloilovatu', \n",
    "                                        'edilson', 'kawasaki','silva', 'james tran', \n",
    "                                        'bo nguyen', 'zlatan ibrahimovic', 'ronaldo barbosa', 'natalia klanchinkova', \n",
    "                                        'bob', 'keresi right','kalara',  'kona reed', 'andreas vlachos', 'con', 'nemanja vidic']})\n",
    "\n",
    "test_data['prediction'] = pipe.predict(test_data)\n",
    "test_data['prediction'] = test_data['prediction'].apply(lambda _: 'yes' if _ else 'no')"
   ]
  },
  {
   "cell_type": "code",
   "execution_count": 46,
   "metadata": {},
   "outputs": [],
   "source": [
    "# grid_search.best_params_"
   ]
  },
  {
   "cell_type": "code",
   "execution_count": 47,
   "metadata": {
    "scrolled": false
   },
   "outputs": [
    {
     "name": "stdout",
     "output_type": "stream",
     "text": [
      "STOJAN VRANJES predicted 0.0 but it is 1.0 // prob of NO: 0.679, prob of YES: 0.321\n",
      "TIHANA STOJSAVLJEVIC predicted 1.0 but it is 0.0 // prob of NO: 0.108, prob of YES: 0.892\n",
      "JURICA BADROV predicted 0.0 but it is 1.0 // prob of NO: 0.994, prob of YES: 0.006\n",
      "ANDREJA PEJIC predicted 0.0 but it is 1.0 // prob of NO: 0.962, prob of YES: 0.038\n",
      "BRUNO BOGOJEVIC predicted 1.0 but it is 0.0 // prob of NO: 0.108, prob of YES: 0.892\n",
      "IDDA VAN MUNSTER predicted 0.0 but it is 1.0 // prob of NO: 0.994, prob of YES: 0.006\n",
      "ZORAN PRERAD predicted 0.0 but it is 1.0 // prob of NO: 0.679, prob of YES: 0.321\n",
      "IVAN MIOC predicted 0.0 but it is 1.0 // prob of NO: 0.962, prob of YES: 0.038\n",
      "SASA KAJKUT predicted 0.0 but it is 1.0 // prob of NO: 0.679, prob of YES: 0.321\n",
      "NENAD KLJAIC predicted 1.0 but it is 0.0 // prob of NO: 0.01, prob of YES: 0.99\n",
      "ANEL KARABEG predicted 0.0 but it is 1.0 // prob of NO: 0.994, prob of YES: 0.006\n",
      "PREDRAG PERKOVIC predicted 0.0 but it is 1.0 // prob of NO: 0.538, prob of YES: 0.462\n",
      "LUCIA KIMANI predicted 0.0 but it is 1.0 // prob of NO: 0.994, prob of YES: 0.006\n",
      "BRANA DIMITRIJEVIC predicted 1.0 but it is 0.0 // prob of NO: 0.108, prob of YES: 0.892\n",
      "STIPE MILOS predicted 0.0 but it is 1.0 // prob of NO: 0.919, prob of YES: 0.081\n",
      "GORAN BREGOVIC predicted 1.0 but it is 0.0 // prob of NO: 0.01, prob of YES: 0.99\n",
      "PORTUGAL ACACIO CASIMIRO predicted 0.0 but it is 1.0 // prob of NO: 0.994, prob of YES: 0.006\n",
      "NIKOLA BALA predicted 0.0 but it is 1.0 // prob of NO: 0.994, prob of YES: 0.006\n",
      "AMAR PRUTINA predicted 0.0 but it is 1.0 // prob of NO: 0.994, prob of YES: 0.006\n",
      "STANKO MRSIC predicted 1.0 but it is 0.0 // prob of NO: 0.01, prob of YES: 0.99\n",
      "DARKO JOVIC predicted 1.0 but it is 0.0 // prob of NO: 0.01, prob of YES: 0.99\n",
      "NIKOLA MITROVIC predicted 1.0 but it is 0.0 // prob of NO: 0.108, prob of YES: 0.892\n",
      "SALKO JAZVIN predicted 0.0 but it is 1.0 // prob of NO: 0.691, prob of YES: 0.309\n",
      "DRAZENKO BOGDAN predicted 0.0 but it is 1.0 // prob of NO: 0.994, prob of YES: 0.006\n",
      "EMINA ZECAJ predicted 0.0 but it is 1.0 // prob of NO: 0.919, prob of YES: 0.081\n",
      "DAMIR MUZEK predicted 1.0 but it is 0.0 // prob of NO: 0.019, prob of YES: 0.981\n",
      "AVDO HUMO predicted 0.0 but it is 1.0 // prob of NO: 0.919, prob of YES: 0.081\n",
      "HELENA BULAJA predicted 1.0 but it is 0.0 // prob of NO: 0.175, prob of YES: 0.825\n",
      "SVETOMIR NIKOLAJEVIC predicted 1.0 but it is 0.0 // prob of NO: 0.01, prob of YES: 0.99\n",
      "NENAD ZUGAJ predicted 1.0 but it is 0.0 // prob of NO: 0.357, prob of YES: 0.643\n",
      "JOSIP EREIZ predicted 0.0 but it is 1.0 // prob of NO: 0.691, prob of YES: 0.309\n",
      "JOVAN MILADINOVIC predicted 1.0 but it is 0.0 // prob of NO: 0.01, prob of YES: 0.99\n",
      "PETAR DODIG predicted 0.0 but it is 1.0 // prob of NO: 0.691, prob of YES: 0.309\n",
      "ANA TASIC predicted 1.0 but it is 0.0 // prob of NO: 0.01, prob of YES: 0.99\n",
      "MANUEL PAMIC predicted 1.0 but it is 0.0 // prob of NO: 0.108, prob of YES: 0.892\n",
      "MARKO TOMIC predicted 1.0 but it is 0.0 // prob of NO: 0.108, prob of YES: 0.892\n",
      "VUK LEKOVIC predicted 1.0 but it is 0.0 // prob of NO: 0.108, prob of YES: 0.892\n",
      "ELISABETH RADO predicted 0.0 but it is 1.0 // prob of NO: 0.994, prob of YES: 0.006\n",
      "DRAGISA ZUNIC predicted 1.0 but it is 0.0 // prob of NO: 0.01, prob of YES: 0.99\n",
      "JULIJANA MATANOVIC predicted 1.0 but it is 0.0 // prob of NO: 0.271, prob of YES: 0.729\n",
      "STEFAN FICOVIC predicted 1.0 but it is 0.0 // prob of NO: 0.01, prob of YES: 0.99\n",
      "KADRI AYTAC predicted 1.0 but it is 0.0 // prob of NO: 0.392, prob of YES: 0.608\n",
      "ZORAN SUMAR predicted 0.0 but it is 1.0 // prob of NO: 0.691, prob of YES: 0.309\n",
      "KRUNOSLAV JURCIC predicted 1.0 but it is 0.0 // prob of NO: 0.108, prob of YES: 0.892\n",
      "IVO ANDRIC predicted 0.0 but it is 1.0 // prob of NO: 0.538, prob of YES: 0.462\n",
      "MARKO JOVANOVIC predicted 1.0 but it is 0.0 // prob of NO: 0.108, prob of YES: 0.892\n",
      "JOVAN MOTIKA predicted 0.0 but it is 1.0 // prob of NO: 0.994, prob of YES: 0.006\n",
      "MILENKO ZUPUR predicted 0.0 but it is 1.0 // prob of NO: 0.994, prob of YES: 0.006\n",
      "MELDIN JUSUFI predicted 0.0 but it is 1.0 // prob of NO: 0.919, prob of YES: 0.081\n",
      "JASMIN REPESA predicted 0.0 but it is 1.0 // prob of NO: 0.919, prob of YES: 0.081\n",
      "SELMA BAJRAMI predicted 0.0 but it is 1.0 // prob of NO: 0.919, prob of YES: 0.081\n",
      "VLADICA PETROVIC predicted 1.0 but it is 0.0 // prob of NO: 0.01, prob of YES: 0.99\n",
      "STJEPAN VEGO predicted 0.0 but it is 1.0 // prob of NO: 0.919, prob of YES: 0.081\n",
      "GORAN VUKLIS predicted 0.0 but it is 1.0 // prob of NO: 0.994, prob of YES: 0.006\n"
     ]
    }
   ],
   "source": [
    "for t in zip(X_test.values, pipe.predict(X_test), y_test.values, pipe.predict_proba(X_test)):\n",
    "    if t[1] != t[2]:\n",
    "        print(f'{t[0][0].upper()} predicted {t[1]} but it is {t[2]} // prob of NO: {round(t[3][0],3)}, prob of YES: {round(t[3][1],3)}')"
   ]
  },
  {
   "cell_type": "code",
   "execution_count": 48,
   "metadata": {},
   "outputs": [
    {
     "data": {
      "text/plain": [
       "['bosnian_model.pkl']"
      ]
     },
     "execution_count": 48,
     "metadata": {},
     "output_type": "execute_result"
    }
   ],
   "source": [
    "# grid_search.best_estimator_\n",
    "joblib.dump(pipe, f'{ETHN}_model.pkl', compress = 1)"
   ]
  }
 ],
 "metadata": {
  "kernelspec": {
   "display_name": "Python 3",
   "language": "python",
   "name": "python3"
  },
  "language_info": {
   "codemirror_mode": {
    "name": "ipython",
    "version": 3
   },
   "file_extension": ".py",
   "mimetype": "text/x-python",
   "name": "python",
   "nbconvert_exporter": "python",
   "pygments_lexer": "ipython3",
   "version": "3.6.4"
  }
 },
 "nbformat": 4,
 "nbformat_minor": 2
}
