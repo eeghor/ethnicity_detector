{
 "cells": [
  {
   "cell_type": "code",
   "execution_count": 6,
   "metadata": {},
   "outputs": [],
   "source": [
    "import json\n",
    "import pandas as pd\n",
    "import numpy as np\n",
    "from collections import defaultdict, Counter\n",
    "from sklearn.feature_extraction.text import CountVectorizer\n",
    "from sklearn.feature_extraction import DictVectorizer\n",
    "from sklearn.pipeline import Pipeline, FeatureUnion\n",
    "from sklearn.model_selection import train_test_split\n",
    "from sklearn.base import BaseEstimator, TransformerMixin\n",
    "from sklearn.metrics import classification_report, accuracy_score\n",
    "from pprint import pprint\n",
    "from string import punctuation\n",
    "from sklearn.svm import SVC\n",
    "from sklearn.linear_model import SGDClassifier\n",
    "from sklearn.model_selection import GridSearchCV\n",
    "from sklearn.preprocessing import Normalizer\n",
    "from sklearn.decomposition import TruncatedSVD"
   ]
  },
  {
   "cell_type": "code",
   "execution_count": 7,
   "metadata": {},
   "outputs": [],
   "source": [
    "class EP:\n",
    "    \n",
    "    def __init__(self, ethnicity):  \n",
    "        \n",
    "        assert ethnicity in 'iranian polish italian'.split(), f'incorrect ethnicity: {ethnicity}!'\n",
    "        \n",
    "        datafile = f'/Users/ik/Data/names/training-{ethnicity}.csv'\n",
    "        self.target_col = f'is_{ethnicity}'\n",
    "        \n",
    "        self.data = pd.read_csv(datafile)\n",
    "        \n",
    "        assert self.target_col in self.data.columns, f'there is no {self.target_col} in data file!'  \n",
    "        \n",
    "        try:\n",
    "            self.NODOUBT_FIRST_NAMES = list({line.strip() for line in open(f'/Users/ik/Data/names/real_{ethnicity}.txt','r').readlines() if line.strip()})\n",
    "        except:\n",
    "            self.NODOUBT_FIRST_NAMES = []\n",
    "        \n",
    "    def add_nodoubt_names(self):\n",
    "        \n",
    "        print(f'adding {len(self.NODOUBT_FIRST_NAMES)} first names..')\n",
    "        \n",
    "        self.data = pd.concat([self.data, pd.DataFrame({'full_name': self.NODOUBT_FIRST_NAMES, \n",
    "                                                        self.target_col: [1]*len(self.NODOUBT_FIRST_NAMES)})], \n",
    "                              ignore_index=True).sample(frac=1.)\n",
    "        return self"
   ]
  },
  {
   "cell_type": "code",
   "execution_count": 8,
   "metadata": {},
   "outputs": [],
   "source": [
    "class Selector(BaseEstimator, TransformerMixin):\n",
    "    \"\"\"\n",
    "    select a columns from a data frame and return as a list\n",
    "    \"\"\"\n",
    "    def __init__(self, col_name):\n",
    "        self.col_name = col_name\n",
    "    \n",
    "    def fit(self, x, y=None):\n",
    "        return self\n",
    "\n",
    "    def transform(self, x):\n",
    "        return '_start_' + x[self.col_name] + '_end_'\n",
    "\n",
    "class WordCount(BaseEstimator, TransformerMixin):\n",
    "    \"\"\"\n",
    "    select a columns from a data frame and return as a list\n",
    "    \"\"\"\n",
    "    def __init__(self):\n",
    "        pass\n",
    "    \n",
    "    def fit(self, x, y=None):\n",
    "        return self\n",
    "\n",
    "    def transform(self, x):\n",
    "        res = x.apply(lambda _: len(_.split())).values.reshape(x.shape[0],1)\n",
    "        return res\n",
    "\n",
    "class NameLength(BaseEstimator, TransformerMixin):\n",
    "    \"\"\"\n",
    "    return the length of the full name\n",
    "    \"\"\"\n",
    "    def __init__(self):\n",
    "        pass\n",
    "    \n",
    "    def fit(self, x, y=None):\n",
    "        return self\n",
    "\n",
    "    def transform(self, x):\n",
    "        res = x.str.len().values.reshape(x.shape[0],1)\n",
    "        return res\n",
    "\n",
    "class FirstLast(BaseEstimator, TransformerMixin):\n",
    "    \"\"\"\n",
    "    is the first word longer than the last one\n",
    "    \"\"\"\n",
    "    def __init__(self):\n",
    "        pass\n",
    "    \n",
    "    def fit(self, x, y=None):\n",
    "        return self\n",
    "\n",
    "    def transform(self, x):\n",
    "        res = x.apply(lambda _: np.argmax([len(p) for i, p in enumerate(_.split()) if i in [0,len(_.split())-1]])).values.reshape(x.shape[0],1)\n",
    "        return res"
   ]
  },
  {
   "cell_type": "code",
   "execution_count": 9,
   "metadata": {},
   "outputs": [
    {
     "name": "stdout",
     "output_type": "stream",
     "text": [
      "Fitting 3 folds for each of 36 candidates, totalling 108 fits\n",
      "[CV] clf__loss=hinge, clf__penalty=l1, features__transformer_weights={'char_level': 0.2, 'word_level': 0.1, 'word_count': 0.4, 'full_name_length': 0.5} \n",
      "[CV]  clf__loss=hinge, clf__penalty=l1, features__transformer_weights={'char_level': 0.2, 'word_level': 0.1, 'word_count': 0.4, 'full_name_length': 0.5}, score=0.9241071428571429, total=   2.2s\n",
      "[CV] clf__loss=hinge, clf__penalty=l1, features__transformer_weights={'char_level': 0.2, 'word_level': 0.1, 'word_count': 0.4, 'full_name_length': 0.5} \n"
     ]
    },
    {
     "name": "stderr",
     "output_type": "stream",
     "text": [
      "[Parallel(n_jobs=1)]: Done   1 out of   1 | elapsed:    2.4s remaining:    0.0s\n"
     ]
    },
    {
     "name": "stdout",
     "output_type": "stream",
     "text": [
      "[CV]  clf__loss=hinge, clf__penalty=l1, features__transformer_weights={'char_level': 0.2, 'word_level': 0.1, 'word_count': 0.4, 'full_name_length': 0.5}, score=0.9357142857142857, total=   2.2s\n",
      "[CV] clf__loss=hinge, clf__penalty=l1, features__transformer_weights={'char_level': 0.2, 'word_level': 0.1, 'word_count': 0.4, 'full_name_length': 0.5} \n"
     ]
    },
    {
     "name": "stderr",
     "output_type": "stream",
     "text": [
      "[Parallel(n_jobs=1)]: Done   2 out of   2 | elapsed:    4.8s remaining:    0.0s\n"
     ]
    },
    {
     "name": "stdout",
     "output_type": "stream",
     "text": [
      "[CV]  clf__loss=hinge, clf__penalty=l1, features__transformer_weights={'char_level': 0.2, 'word_level': 0.1, 'word_count': 0.4, 'full_name_length': 0.5}, score=0.9339285714285714, total=   2.1s\n",
      "[CV] clf__loss=hinge, clf__penalty=l1, features__transformer_weights={'char_level': 0.9, 'word_level': 0.2, 'word_lengths': 0.9, 'full_name_length': 0.3} \n"
     ]
    },
    {
     "name": "stderr",
     "output_type": "stream",
     "text": [
      "[Parallel(n_jobs=1)]: Done   3 out of   3 | elapsed:    7.2s remaining:    0.0s\n"
     ]
    },
    {
     "name": "stdout",
     "output_type": "stream",
     "text": [
      "[CV]  clf__loss=hinge, clf__penalty=l1, features__transformer_weights={'char_level': 0.9, 'word_level': 0.2, 'word_lengths': 0.9, 'full_name_length': 0.3}, score=0.9392857142857143, total=   2.0s\n",
      "[CV] clf__loss=hinge, clf__penalty=l1, features__transformer_weights={'char_level': 0.9, 'word_level': 0.2, 'word_lengths': 0.9, 'full_name_length': 0.3} \n"
     ]
    },
    {
     "name": "stderr",
     "output_type": "stream",
     "text": [
      "[Parallel(n_jobs=1)]: Done   4 out of   4 | elapsed:    9.3s remaining:    0.0s\n"
     ]
    },
    {
     "name": "stdout",
     "output_type": "stream",
     "text": [
      "[CV]  clf__loss=hinge, clf__penalty=l1, features__transformer_weights={'char_level': 0.9, 'word_level': 0.2, 'word_lengths': 0.9, 'full_name_length': 0.3}, score=0.94375, total=   2.0s\n",
      "[CV] clf__loss=hinge, clf__penalty=l1, features__transformer_weights={'char_level': 0.9, 'word_level': 0.2, 'word_lengths': 0.9, 'full_name_length': 0.3} \n"
     ]
    },
    {
     "name": "stderr",
     "output_type": "stream",
     "text": [
      "[Parallel(n_jobs=1)]: Done   5 out of   5 | elapsed:   11.6s remaining:    0.0s\n"
     ]
    },
    {
     "name": "stdout",
     "output_type": "stream",
     "text": [
      "[CV]  clf__loss=hinge, clf__penalty=l1, features__transformer_weights={'char_level': 0.9, 'word_level': 0.2, 'word_lengths': 0.9, 'full_name_length': 0.3}, score=0.9401785714285714, total=   2.0s\n",
      "[CV] clf__loss=hinge, clf__penalty=l1, features__transformer_weights={'char_level': 0.9, 'word_level': 0.3, 'word_count': 0.2, 'full_name_length': 0.7} \n"
     ]
    },
    {
     "name": "stderr",
     "output_type": "stream",
     "text": [
      "[Parallel(n_jobs=1)]: Done   6 out of   6 | elapsed:   13.8s remaining:    0.0s\n"
     ]
    },
    {
     "name": "stdout",
     "output_type": "stream",
     "text": [
      "[CV]  clf__loss=hinge, clf__penalty=l1, features__transformer_weights={'char_level': 0.9, 'word_level': 0.3, 'word_count': 0.2, 'full_name_length': 0.7}, score=0.9375, total=   2.1s\n",
      "[CV] clf__loss=hinge, clf__penalty=l1, features__transformer_weights={'char_level': 0.9, 'word_level': 0.3, 'word_count': 0.2, 'full_name_length': 0.7} \n"
     ]
    },
    {
     "name": "stderr",
     "output_type": "stream",
     "text": [
      "[Parallel(n_jobs=1)]: Done   7 out of   7 | elapsed:   16.0s remaining:    0.0s\n"
     ]
    },
    {
     "name": "stdout",
     "output_type": "stream",
     "text": [
      "[CV]  clf__loss=hinge, clf__penalty=l1, features__transformer_weights={'char_level': 0.9, 'word_level': 0.3, 'word_count': 0.2, 'full_name_length': 0.7}, score=0.9455357142857143, total=   2.0s\n",
      "[CV] clf__loss=hinge, clf__penalty=l1, features__transformer_weights={'char_level': 0.9, 'word_level': 0.3, 'word_count': 0.2, 'full_name_length': 0.7} \n"
     ]
    },
    {
     "name": "stderr",
     "output_type": "stream",
     "text": [
      "[Parallel(n_jobs=1)]: Done   8 out of   8 | elapsed:   18.2s remaining:    0.0s\n"
     ]
    },
    {
     "name": "stdout",
     "output_type": "stream",
     "text": [
      "[CV]  clf__loss=hinge, clf__penalty=l1, features__transformer_weights={'char_level': 0.9, 'word_level': 0.3, 'word_count': 0.2, 'full_name_length': 0.7}, score=0.9392857142857143, total=   2.0s\n",
      "[CV] clf__loss=hinge, clf__penalty=l2, features__transformer_weights={'char_level': 0.2, 'word_level': 0.1, 'word_count': 0.4, 'full_name_length': 0.5} \n"
     ]
    },
    {
     "name": "stderr",
     "output_type": "stream",
     "text": [
      "[Parallel(n_jobs=1)]: Done   9 out of   9 | elapsed:   20.4s remaining:    0.0s\n"
     ]
    },
    {
     "name": "stdout",
     "output_type": "stream",
     "text": [
      "[CV]  clf__loss=hinge, clf__penalty=l2, features__transformer_weights={'char_level': 0.2, 'word_level': 0.1, 'word_count': 0.4, 'full_name_length': 0.5}, score=0.9214285714285714, total=   1.6s\n",
      "[CV] clf__loss=hinge, clf__penalty=l2, features__transformer_weights={'char_level': 0.2, 'word_level': 0.1, 'word_count': 0.4, 'full_name_length': 0.5} \n",
      "[CV]  clf__loss=hinge, clf__penalty=l2, features__transformer_weights={'char_level': 0.2, 'word_level': 0.1, 'word_count': 0.4, 'full_name_length': 0.5}, score=0.93125, total=   1.6s\n",
      "[CV] clf__loss=hinge, clf__penalty=l2, features__transformer_weights={'char_level': 0.2, 'word_level': 0.1, 'word_count': 0.4, 'full_name_length': 0.5} \n",
      "[CV]  clf__loss=hinge, clf__penalty=l2, features__transformer_weights={'char_level': 0.2, 'word_level': 0.1, 'word_count': 0.4, 'full_name_length': 0.5}, score=0.925, total=   1.6s\n",
      "[CV] clf__loss=hinge, clf__penalty=l2, features__transformer_weights={'char_level': 0.9, 'word_level': 0.2, 'word_lengths': 0.9, 'full_name_length': 0.3} \n",
      "[CV]  clf__loss=hinge, clf__penalty=l2, features__transformer_weights={'char_level': 0.9, 'word_level': 0.2, 'word_lengths': 0.9, 'full_name_length': 0.3}, score=0.9473214285714285, total=   1.5s\n",
      "[CV] clf__loss=hinge, clf__penalty=l2, features__transformer_weights={'char_level': 0.9, 'word_level': 0.2, 'word_lengths': 0.9, 'full_name_length': 0.3} \n",
      "[CV]  clf__loss=hinge, clf__penalty=l2, features__transformer_weights={'char_level': 0.9, 'word_level': 0.2, 'word_lengths': 0.9, 'full_name_length': 0.3}, score=0.9383928571428571, total=   1.5s\n",
      "[CV] clf__loss=hinge, clf__penalty=l2, features__transformer_weights={'char_level': 0.9, 'word_level': 0.2, 'word_lengths': 0.9, 'full_name_length': 0.3} \n",
      "[CV]  clf__loss=hinge, clf__penalty=l2, features__transformer_weights={'char_level': 0.9, 'word_level': 0.2, 'word_lengths': 0.9, 'full_name_length': 0.3}, score=0.9366071428571429, total=   1.5s\n",
      "[CV] clf__loss=hinge, clf__penalty=l2, features__transformer_weights={'char_level': 0.9, 'word_level': 0.3, 'word_count': 0.2, 'full_name_length': 0.7} \n",
      "[CV]  clf__loss=hinge, clf__penalty=l2, features__transformer_weights={'char_level': 0.9, 'word_level': 0.3, 'word_count': 0.2, 'full_name_length': 0.7}, score=0.9446428571428571, total=   1.5s\n",
      "[CV] clf__loss=hinge, clf__penalty=l2, features__transformer_weights={'char_level': 0.9, 'word_level': 0.3, 'word_count': 0.2, 'full_name_length': 0.7} \n",
      "[CV]  clf__loss=hinge, clf__penalty=l2, features__transformer_weights={'char_level': 0.9, 'word_level': 0.3, 'word_count': 0.2, 'full_name_length': 0.7}, score=0.9366071428571429, total=   1.6s\n",
      "[CV] clf__loss=hinge, clf__penalty=l2, features__transformer_weights={'char_level': 0.9, 'word_level': 0.3, 'word_count': 0.2, 'full_name_length': 0.7} \n",
      "[CV]  clf__loss=hinge, clf__penalty=l2, features__transformer_weights={'char_level': 0.9, 'word_level': 0.3, 'word_count': 0.2, 'full_name_length': 0.7}, score=0.9357142857142857, total=   1.5s\n",
      "[CV] clf__loss=hinge, clf__penalty=elasticnet, features__transformer_weights={'char_level': 0.2, 'word_level': 0.1, 'word_count': 0.4, 'full_name_length': 0.5} \n",
      "[CV]  clf__loss=hinge, clf__penalty=elasticnet, features__transformer_weights={'char_level': 0.2, 'word_level': 0.1, 'word_count': 0.4, 'full_name_length': 0.5}, score=0.9294642857142857, total=   2.3s\n",
      "[CV] clf__loss=hinge, clf__penalty=elasticnet, features__transformer_weights={'char_level': 0.2, 'word_level': 0.1, 'word_count': 0.4, 'full_name_length': 0.5} \n",
      "[CV]  clf__loss=hinge, clf__penalty=elasticnet, features__transformer_weights={'char_level': 0.2, 'word_level': 0.1, 'word_count': 0.4, 'full_name_length': 0.5}, score=0.925, total=   2.3s\n",
      "[CV] clf__loss=hinge, clf__penalty=elasticnet, features__transformer_weights={'char_level': 0.2, 'word_level': 0.1, 'word_count': 0.4, 'full_name_length': 0.5} \n",
      "[CV]  clf__loss=hinge, clf__penalty=elasticnet, features__transformer_weights={'char_level': 0.2, 'word_level': 0.1, 'word_count': 0.4, 'full_name_length': 0.5}, score=0.9276785714285715, total=   2.3s\n",
      "[CV] clf__loss=hinge, clf__penalty=elasticnet, features__transformer_weights={'char_level': 0.9, 'word_level': 0.2, 'word_lengths': 0.9, 'full_name_length': 0.3} \n",
      "[CV]  clf__loss=hinge, clf__penalty=elasticnet, features__transformer_weights={'char_level': 0.9, 'word_level': 0.2, 'word_lengths': 0.9, 'full_name_length': 0.3}, score=0.94375, total=   2.1s\n",
      "[CV] clf__loss=hinge, clf__penalty=elasticnet, features__transformer_weights={'char_level': 0.9, 'word_level': 0.2, 'word_lengths': 0.9, 'full_name_length': 0.3} \n",
      "[CV]  clf__loss=hinge, clf__penalty=elasticnet, features__transformer_weights={'char_level': 0.9, 'word_level': 0.2, 'word_lengths': 0.9, 'full_name_length': 0.3}, score=0.9428571428571428, total=   2.1s\n",
      "[CV] clf__loss=hinge, clf__penalty=elasticnet, features__transformer_weights={'char_level': 0.9, 'word_level': 0.2, 'word_lengths': 0.9, 'full_name_length': 0.3} \n",
      "[CV]  clf__loss=hinge, clf__penalty=elasticnet, features__transformer_weights={'char_level': 0.9, 'word_level': 0.2, 'word_lengths': 0.9, 'full_name_length': 0.3}, score=0.9383928571428571, total=   2.1s\n",
      "[CV] clf__loss=hinge, clf__penalty=elasticnet, features__transformer_weights={'char_level': 0.9, 'word_level': 0.3, 'word_count': 0.2, 'full_name_length': 0.7} \n",
      "[CV]  clf__loss=hinge, clf__penalty=elasticnet, features__transformer_weights={'char_level': 0.9, 'word_level': 0.3, 'word_count': 0.2, 'full_name_length': 0.7}, score=0.9419642857142857, total=   2.1s\n",
      "[CV] clf__loss=hinge, clf__penalty=elasticnet, features__transformer_weights={'char_level': 0.9, 'word_level': 0.3, 'word_count': 0.2, 'full_name_length': 0.7} \n",
      "[CV]  clf__loss=hinge, clf__penalty=elasticnet, features__transformer_weights={'char_level': 0.9, 'word_level': 0.3, 'word_count': 0.2, 'full_name_length': 0.7}, score=0.9401785714285714, total=   2.1s\n",
      "[CV] clf__loss=hinge, clf__penalty=elasticnet, features__transformer_weights={'char_level': 0.9, 'word_level': 0.3, 'word_count': 0.2, 'full_name_length': 0.7} \n",
      "[CV]  clf__loss=hinge, clf__penalty=elasticnet, features__transformer_weights={'char_level': 0.9, 'word_level': 0.3, 'word_count': 0.2, 'full_name_length': 0.7}, score=0.9375, total=   2.1s\n",
      "[CV] clf__loss=modified_huber, clf__penalty=l1, features__transformer_weights={'char_level': 0.2, 'word_level': 0.1, 'word_count': 0.4, 'full_name_length': 0.5} \n",
      "[CV]  clf__loss=modified_huber, clf__penalty=l1, features__transformer_weights={'char_level': 0.2, 'word_level': 0.1, 'word_count': 0.4, 'full_name_length': 0.5}, score=0.9258928571428572, total=   2.0s\n",
      "[CV] clf__loss=modified_huber, clf__penalty=l1, features__transformer_weights={'char_level': 0.2, 'word_level': 0.1, 'word_count': 0.4, 'full_name_length': 0.5} \n",
      "[CV]  clf__loss=modified_huber, clf__penalty=l1, features__transformer_weights={'char_level': 0.2, 'word_level': 0.1, 'word_count': 0.4, 'full_name_length': 0.5}, score=0.9366071428571429, total=   2.0s\n",
      "[CV] clf__loss=modified_huber, clf__penalty=l1, features__transformer_weights={'char_level': 0.2, 'word_level': 0.1, 'word_count': 0.4, 'full_name_length': 0.5} \n",
      "[CV]  clf__loss=modified_huber, clf__penalty=l1, features__transformer_weights={'char_level': 0.2, 'word_level': 0.1, 'word_count': 0.4, 'full_name_length': 0.5}, score=0.9321428571428572, total=   2.0s\n",
      "[CV] clf__loss=modified_huber, clf__penalty=l1, features__transformer_weights={'char_level': 0.9, 'word_level': 0.2, 'word_lengths': 0.9, 'full_name_length': 0.3} \n",
      "[CV]  clf__loss=modified_huber, clf__penalty=l1, features__transformer_weights={'char_level': 0.9, 'word_level': 0.2, 'word_lengths': 0.9, 'full_name_length': 0.3}, score=0.9285714285714286, total=   2.1s\n",
      "[CV] clf__loss=modified_huber, clf__penalty=l1, features__transformer_weights={'char_level': 0.9, 'word_level': 0.2, 'word_lengths': 0.9, 'full_name_length': 0.3} \n",
      "[CV]  clf__loss=modified_huber, clf__penalty=l1, features__transformer_weights={'char_level': 0.9, 'word_level': 0.2, 'word_lengths': 0.9, 'full_name_length': 0.3}, score=0.9392857142857143, total=   2.3s\n",
      "[CV] clf__loss=modified_huber, clf__penalty=l1, features__transformer_weights={'char_level': 0.9, 'word_level': 0.2, 'word_lengths': 0.9, 'full_name_length': 0.3} \n"
     ]
    },
    {
     "name": "stdout",
     "output_type": "stream",
     "text": [
      "[CV]  clf__loss=modified_huber, clf__penalty=l1, features__transformer_weights={'char_level': 0.9, 'word_level': 0.2, 'word_lengths': 0.9, 'full_name_length': 0.3}, score=0.925, total=   2.3s\n",
      "[CV] clf__loss=modified_huber, clf__penalty=l1, features__transformer_weights={'char_level': 0.9, 'word_level': 0.3, 'word_count': 0.2, 'full_name_length': 0.7} \n",
      "[CV]  clf__loss=modified_huber, clf__penalty=l1, features__transformer_weights={'char_level': 0.9, 'word_level': 0.3, 'word_count': 0.2, 'full_name_length': 0.7}, score=0.9276785714285715, total=   2.3s\n",
      "[CV] clf__loss=modified_huber, clf__penalty=l1, features__transformer_weights={'char_level': 0.9, 'word_level': 0.3, 'word_count': 0.2, 'full_name_length': 0.7} \n",
      "[CV]  clf__loss=modified_huber, clf__penalty=l1, features__transformer_weights={'char_level': 0.9, 'word_level': 0.3, 'word_count': 0.2, 'full_name_length': 0.7}, score=0.9464285714285714, total=   2.2s\n",
      "[CV] clf__loss=modified_huber, clf__penalty=l1, features__transformer_weights={'char_level': 0.9, 'word_level': 0.3, 'word_count': 0.2, 'full_name_length': 0.7} \n",
      "[CV]  clf__loss=modified_huber, clf__penalty=l1, features__transformer_weights={'char_level': 0.9, 'word_level': 0.3, 'word_count': 0.2, 'full_name_length': 0.7}, score=0.9348214285714286, total=   2.1s\n",
      "[CV] clf__loss=modified_huber, clf__penalty=l2, features__transformer_weights={'char_level': 0.2, 'word_level': 0.1, 'word_count': 0.4, 'full_name_length': 0.5} \n",
      "[CV]  clf__loss=modified_huber, clf__penalty=l2, features__transformer_weights={'char_level': 0.2, 'word_level': 0.1, 'word_count': 0.4, 'full_name_length': 0.5}, score=0.9348214285714286, total=   1.6s\n",
      "[CV] clf__loss=modified_huber, clf__penalty=l2, features__transformer_weights={'char_level': 0.2, 'word_level': 0.1, 'word_count': 0.4, 'full_name_length': 0.5} \n",
      "[CV]  clf__loss=modified_huber, clf__penalty=l2, features__transformer_weights={'char_level': 0.2, 'word_level': 0.1, 'word_count': 0.4, 'full_name_length': 0.5}, score=0.9348214285714286, total=   1.7s\n",
      "[CV] clf__loss=modified_huber, clf__penalty=l2, features__transformer_weights={'char_level': 0.2, 'word_level': 0.1, 'word_count': 0.4, 'full_name_length': 0.5} \n",
      "[CV]  clf__loss=modified_huber, clf__penalty=l2, features__transformer_weights={'char_level': 0.2, 'word_level': 0.1, 'word_count': 0.4, 'full_name_length': 0.5}, score=0.9321428571428572, total=   1.7s\n",
      "[CV] clf__loss=modified_huber, clf__penalty=l2, features__transformer_weights={'char_level': 0.9, 'word_level': 0.2, 'word_lengths': 0.9, 'full_name_length': 0.3} \n",
      "[CV]  clf__loss=modified_huber, clf__penalty=l2, features__transformer_weights={'char_level': 0.9, 'word_level': 0.2, 'word_lengths': 0.9, 'full_name_length': 0.3}, score=0.9401785714285714, total=   1.5s\n",
      "[CV] clf__loss=modified_huber, clf__penalty=l2, features__transformer_weights={'char_level': 0.9, 'word_level': 0.2, 'word_lengths': 0.9, 'full_name_length': 0.3} \n",
      "[CV]  clf__loss=modified_huber, clf__penalty=l2, features__transformer_weights={'char_level': 0.9, 'word_level': 0.2, 'word_lengths': 0.9, 'full_name_length': 0.3}, score=0.9446428571428571, total=   1.6s\n",
      "[CV] clf__loss=modified_huber, clf__penalty=l2, features__transformer_weights={'char_level': 0.9, 'word_level': 0.2, 'word_lengths': 0.9, 'full_name_length': 0.3} \n",
      "[CV]  clf__loss=modified_huber, clf__penalty=l2, features__transformer_weights={'char_level': 0.9, 'word_level': 0.2, 'word_lengths': 0.9, 'full_name_length': 0.3}, score=0.9348214285714286, total=   1.7s\n",
      "[CV] clf__loss=modified_huber, clf__penalty=l2, features__transformer_weights={'char_level': 0.9, 'word_level': 0.3, 'word_count': 0.2, 'full_name_length': 0.7} \n",
      "[CV]  clf__loss=modified_huber, clf__penalty=l2, features__transformer_weights={'char_level': 0.9, 'word_level': 0.3, 'word_count': 0.2, 'full_name_length': 0.7}, score=0.93125, total=   1.7s\n",
      "[CV] clf__loss=modified_huber, clf__penalty=l2, features__transformer_weights={'char_level': 0.9, 'word_level': 0.3, 'word_count': 0.2, 'full_name_length': 0.7} \n",
      "[CV]  clf__loss=modified_huber, clf__penalty=l2, features__transformer_weights={'char_level': 0.9, 'word_level': 0.3, 'word_count': 0.2, 'full_name_length': 0.7}, score=0.9419642857142857, total=   1.7s\n",
      "[CV] clf__loss=modified_huber, clf__penalty=l2, features__transformer_weights={'char_level': 0.9, 'word_level': 0.3, 'word_count': 0.2, 'full_name_length': 0.7} \n",
      "[CV]  clf__loss=modified_huber, clf__penalty=l2, features__transformer_weights={'char_level': 0.9, 'word_level': 0.3, 'word_count': 0.2, 'full_name_length': 0.7}, score=0.9401785714285714, total=   1.8s\n",
      "[CV] clf__loss=modified_huber, clf__penalty=elasticnet, features__transformer_weights={'char_level': 0.2, 'word_level': 0.1, 'word_count': 0.4, 'full_name_length': 0.5} \n",
      "[CV]  clf__loss=modified_huber, clf__penalty=elasticnet, features__transformer_weights={'char_level': 0.2, 'word_level': 0.1, 'word_count': 0.4, 'full_name_length': 0.5}, score=0.9348214285714286, total=   2.5s\n",
      "[CV] clf__loss=modified_huber, clf__penalty=elasticnet, features__transformer_weights={'char_level': 0.2, 'word_level': 0.1, 'word_count': 0.4, 'full_name_length': 0.5} \n",
      "[CV]  clf__loss=modified_huber, clf__penalty=elasticnet, features__transformer_weights={'char_level': 0.2, 'word_level': 0.1, 'word_count': 0.4, 'full_name_length': 0.5}, score=0.9348214285714286, total=   2.3s\n",
      "[CV] clf__loss=modified_huber, clf__penalty=elasticnet, features__transformer_weights={'char_level': 0.2, 'word_level': 0.1, 'word_count': 0.4, 'full_name_length': 0.5} \n",
      "[CV]  clf__loss=modified_huber, clf__penalty=elasticnet, features__transformer_weights={'char_level': 0.2, 'word_level': 0.1, 'word_count': 0.4, 'full_name_length': 0.5}, score=0.9339285714285714, total=   2.3s\n",
      "[CV] clf__loss=modified_huber, clf__penalty=elasticnet, features__transformer_weights={'char_level': 0.9, 'word_level': 0.2, 'word_lengths': 0.9, 'full_name_length': 0.3} \n",
      "[CV]  clf__loss=modified_huber, clf__penalty=elasticnet, features__transformer_weights={'char_level': 0.9, 'word_level': 0.2, 'word_lengths': 0.9, 'full_name_length': 0.3}, score=0.9419642857142857, total=   2.1s\n",
      "[CV] clf__loss=modified_huber, clf__penalty=elasticnet, features__transformer_weights={'char_level': 0.9, 'word_level': 0.2, 'word_lengths': 0.9, 'full_name_length': 0.3} \n",
      "[CV]  clf__loss=modified_huber, clf__penalty=elasticnet, features__transformer_weights={'char_level': 0.9, 'word_level': 0.2, 'word_lengths': 0.9, 'full_name_length': 0.3}, score=0.9491071428571428, total=   2.1s\n",
      "[CV] clf__loss=modified_huber, clf__penalty=elasticnet, features__transformer_weights={'char_level': 0.9, 'word_level': 0.2, 'word_lengths': 0.9, 'full_name_length': 0.3} \n",
      "[CV]  clf__loss=modified_huber, clf__penalty=elasticnet, features__transformer_weights={'char_level': 0.9, 'word_level': 0.2, 'word_lengths': 0.9, 'full_name_length': 0.3}, score=0.9357142857142857, total=   2.1s\n",
      "[CV] clf__loss=modified_huber, clf__penalty=elasticnet, features__transformer_weights={'char_level': 0.9, 'word_level': 0.3, 'word_count': 0.2, 'full_name_length': 0.7} \n",
      "[CV]  clf__loss=modified_huber, clf__penalty=elasticnet, features__transformer_weights={'char_level': 0.9, 'word_level': 0.3, 'word_count': 0.2, 'full_name_length': 0.7}, score=0.94375, total=   2.1s\n",
      "[CV] clf__loss=modified_huber, clf__penalty=elasticnet, features__transformer_weights={'char_level': 0.9, 'word_level': 0.3, 'word_count': 0.2, 'full_name_length': 0.7} \n",
      "[CV]  clf__loss=modified_huber, clf__penalty=elasticnet, features__transformer_weights={'char_level': 0.9, 'word_level': 0.3, 'word_count': 0.2, 'full_name_length': 0.7}, score=0.9383928571428571, total=   2.2s\n",
      "[CV] clf__loss=modified_huber, clf__penalty=elasticnet, features__transformer_weights={'char_level': 0.9, 'word_level': 0.3, 'word_count': 0.2, 'full_name_length': 0.7} \n",
      "[CV]  clf__loss=modified_huber, clf__penalty=elasticnet, features__transformer_weights={'char_level': 0.9, 'word_level': 0.3, 'word_count': 0.2, 'full_name_length': 0.7}, score=0.9401785714285714, total=   2.4s\n",
      "[CV] clf__loss=log, clf__penalty=l1, features__transformer_weights={'char_level': 0.2, 'word_level': 0.1, 'word_count': 0.4, 'full_name_length': 0.5} \n",
      "[CV]  clf__loss=log, clf__penalty=l1, features__transformer_weights={'char_level': 0.2, 'word_level': 0.1, 'word_count': 0.4, 'full_name_length': 0.5}, score=0.9107142857142857, total=   3.7s\n",
      "[CV] clf__loss=log, clf__penalty=l1, features__transformer_weights={'char_level': 0.2, 'word_level': 0.1, 'word_count': 0.4, 'full_name_length': 0.5} \n"
     ]
    },
    {
     "name": "stdout",
     "output_type": "stream",
     "text": [
      "[CV]  clf__loss=log, clf__penalty=l1, features__transformer_weights={'char_level': 0.2, 'word_level': 0.1, 'word_count': 0.4, 'full_name_length': 0.5}, score=0.9214285714285714, total=   3.4s\n",
      "[CV] clf__loss=log, clf__penalty=l1, features__transformer_weights={'char_level': 0.2, 'word_level': 0.1, 'word_count': 0.4, 'full_name_length': 0.5} \n",
      "[CV]  clf__loss=log, clf__penalty=l1, features__transformer_weights={'char_level': 0.2, 'word_level': 0.1, 'word_count': 0.4, 'full_name_length': 0.5}, score=0.9178571428571428, total=   3.1s\n",
      "[CV] clf__loss=log, clf__penalty=l1, features__transformer_weights={'char_level': 0.9, 'word_level': 0.2, 'word_lengths': 0.9, 'full_name_length': 0.3} \n",
      "[CV]  clf__loss=log, clf__penalty=l1, features__transformer_weights={'char_level': 0.9, 'word_level': 0.2, 'word_lengths': 0.9, 'full_name_length': 0.3}, score=0.9375, total=   2.9s\n",
      "[CV] clf__loss=log, clf__penalty=l1, features__transformer_weights={'char_level': 0.9, 'word_level': 0.2, 'word_lengths': 0.9, 'full_name_length': 0.3} \n",
      "[CV]  clf__loss=log, clf__penalty=l1, features__transformer_weights={'char_level': 0.9, 'word_level': 0.2, 'word_lengths': 0.9, 'full_name_length': 0.3}, score=0.9455357142857143, total=   3.0s\n",
      "[CV] clf__loss=log, clf__penalty=l1, features__transformer_weights={'char_level': 0.9, 'word_level': 0.2, 'word_lengths': 0.9, 'full_name_length': 0.3} \n",
      "[CV]  clf__loss=log, clf__penalty=l1, features__transformer_weights={'char_level': 0.9, 'word_level': 0.2, 'word_lengths': 0.9, 'full_name_length': 0.3}, score=0.9375, total=   3.2s\n",
      "[CV] clf__loss=log, clf__penalty=l1, features__transformer_weights={'char_level': 0.9, 'word_level': 0.3, 'word_count': 0.2, 'full_name_length': 0.7} \n",
      "[CV]  clf__loss=log, clf__penalty=l1, features__transformer_weights={'char_level': 0.9, 'word_level': 0.3, 'word_count': 0.2, 'full_name_length': 0.7}, score=0.9339285714285714, total=   3.0s\n",
      "[CV] clf__loss=log, clf__penalty=l1, features__transformer_weights={'char_level': 0.9, 'word_level': 0.3, 'word_count': 0.2, 'full_name_length': 0.7} \n",
      "[CV]  clf__loss=log, clf__penalty=l1, features__transformer_weights={'char_level': 0.9, 'word_level': 0.3, 'word_count': 0.2, 'full_name_length': 0.7}, score=0.9473214285714285, total=   3.1s\n",
      "[CV] clf__loss=log, clf__penalty=l1, features__transformer_weights={'char_level': 0.9, 'word_level': 0.3, 'word_count': 0.2, 'full_name_length': 0.7} \n",
      "[CV]  clf__loss=log, clf__penalty=l1, features__transformer_weights={'char_level': 0.9, 'word_level': 0.3, 'word_count': 0.2, 'full_name_length': 0.7}, score=0.9330357142857143, total=   3.1s\n",
      "[CV] clf__loss=log, clf__penalty=l2, features__transformer_weights={'char_level': 0.2, 'word_level': 0.1, 'word_count': 0.4, 'full_name_length': 0.5} \n",
      "[CV]  clf__loss=log, clf__penalty=l2, features__transformer_weights={'char_level': 0.2, 'word_level': 0.1, 'word_count': 0.4, 'full_name_length': 0.5}, score=0.9017857142857143, total=   1.9s\n",
      "[CV] clf__loss=log, clf__penalty=l2, features__transformer_weights={'char_level': 0.2, 'word_level': 0.1, 'word_count': 0.4, 'full_name_length': 0.5} \n",
      "[CV]  clf__loss=log, clf__penalty=l2, features__transformer_weights={'char_level': 0.2, 'word_level': 0.1, 'word_count': 0.4, 'full_name_length': 0.5}, score=0.9151785714285714, total=   1.9s\n",
      "[CV] clf__loss=log, clf__penalty=l2, features__transformer_weights={'char_level': 0.2, 'word_level': 0.1, 'word_count': 0.4, 'full_name_length': 0.5} \n",
      "[CV]  clf__loss=log, clf__penalty=l2, features__transformer_weights={'char_level': 0.2, 'word_level': 0.1, 'word_count': 0.4, 'full_name_length': 0.5}, score=0.9151785714285714, total=   1.9s\n",
      "[CV] clf__loss=log, clf__penalty=l2, features__transformer_weights={'char_level': 0.9, 'word_level': 0.2, 'word_lengths': 0.9, 'full_name_length': 0.3} \n",
      "[CV]  clf__loss=log, clf__penalty=l2, features__transformer_weights={'char_level': 0.9, 'word_level': 0.2, 'word_lengths': 0.9, 'full_name_length': 0.3}, score=0.9357142857142857, total=   2.1s\n",
      "[CV] clf__loss=log, clf__penalty=l2, features__transformer_weights={'char_level': 0.9, 'word_level': 0.2, 'word_lengths': 0.9, 'full_name_length': 0.3} \n",
      "[CV]  clf__loss=log, clf__penalty=l2, features__transformer_weights={'char_level': 0.9, 'word_level': 0.2, 'word_lengths': 0.9, 'full_name_length': 0.3}, score=0.9383928571428571, total=   2.1s\n",
      "[CV] clf__loss=log, clf__penalty=l2, features__transformer_weights={'char_level': 0.9, 'word_level': 0.2, 'word_lengths': 0.9, 'full_name_length': 0.3} \n",
      "[CV]  clf__loss=log, clf__penalty=l2, features__transformer_weights={'char_level': 0.9, 'word_level': 0.2, 'word_lengths': 0.9, 'full_name_length': 0.3}, score=0.9339285714285714, total=   2.0s\n",
      "[CV] clf__loss=log, clf__penalty=l2, features__transformer_weights={'char_level': 0.9, 'word_level': 0.3, 'word_count': 0.2, 'full_name_length': 0.7} \n",
      "[CV]  clf__loss=log, clf__penalty=l2, features__transformer_weights={'char_level': 0.9, 'word_level': 0.3, 'word_count': 0.2, 'full_name_length': 0.7}, score=0.9321428571428572, total=   1.8s\n",
      "[CV] clf__loss=log, clf__penalty=l2, features__transformer_weights={'char_level': 0.9, 'word_level': 0.3, 'word_count': 0.2, 'full_name_length': 0.7} \n",
      "[CV]  clf__loss=log, clf__penalty=l2, features__transformer_weights={'char_level': 0.9, 'word_level': 0.3, 'word_count': 0.2, 'full_name_length': 0.7}, score=0.9339285714285714, total=   1.8s\n",
      "[CV] clf__loss=log, clf__penalty=l2, features__transformer_weights={'char_level': 0.9, 'word_level': 0.3, 'word_count': 0.2, 'full_name_length': 0.7} \n",
      "[CV]  clf__loss=log, clf__penalty=l2, features__transformer_weights={'char_level': 0.9, 'word_level': 0.3, 'word_count': 0.2, 'full_name_length': 0.7}, score=0.9276785714285715, total=   1.8s\n",
      "[CV] clf__loss=log, clf__penalty=elasticnet, features__transformer_weights={'char_level': 0.2, 'word_level': 0.1, 'word_count': 0.4, 'full_name_length': 0.5} \n",
      "[CV]  clf__loss=log, clf__penalty=elasticnet, features__transformer_weights={'char_level': 0.2, 'word_level': 0.1, 'word_count': 0.4, 'full_name_length': 0.5}, score=0.9080357142857143, total=   2.7s\n",
      "[CV] clf__loss=log, clf__penalty=elasticnet, features__transformer_weights={'char_level': 0.2, 'word_level': 0.1, 'word_count': 0.4, 'full_name_length': 0.5} \n",
      "[CV]  clf__loss=log, clf__penalty=elasticnet, features__transformer_weights={'char_level': 0.2, 'word_level': 0.1, 'word_count': 0.4, 'full_name_length': 0.5}, score=0.91875, total=   2.8s\n",
      "[CV] clf__loss=log, clf__penalty=elasticnet, features__transformer_weights={'char_level': 0.2, 'word_level': 0.1, 'word_count': 0.4, 'full_name_length': 0.5} \n",
      "[CV]  clf__loss=log, clf__penalty=elasticnet, features__transformer_weights={'char_level': 0.2, 'word_level': 0.1, 'word_count': 0.4, 'full_name_length': 0.5}, score=0.9080357142857143, total=   2.6s\n",
      "[CV] clf__loss=log, clf__penalty=elasticnet, features__transformer_weights={'char_level': 0.9, 'word_level': 0.2, 'word_lengths': 0.9, 'full_name_length': 0.3} \n",
      "[CV]  clf__loss=log, clf__penalty=elasticnet, features__transformer_weights={'char_level': 0.9, 'word_level': 0.2, 'word_lengths': 0.9, 'full_name_length': 0.3}, score=0.9339285714285714, total=   2.6s\n",
      "[CV] clf__loss=log, clf__penalty=elasticnet, features__transformer_weights={'char_level': 0.9, 'word_level': 0.2, 'word_lengths': 0.9, 'full_name_length': 0.3} \n",
      "[CV]  clf__loss=log, clf__penalty=elasticnet, features__transformer_weights={'char_level': 0.9, 'word_level': 0.2, 'word_lengths': 0.9, 'full_name_length': 0.3}, score=0.9392857142857143, total=   2.6s\n",
      "[CV] clf__loss=log, clf__penalty=elasticnet, features__transformer_weights={'char_level': 0.9, 'word_level': 0.2, 'word_lengths': 0.9, 'full_name_length': 0.3} \n",
      "[CV]  clf__loss=log, clf__penalty=elasticnet, features__transformer_weights={'char_level': 0.9, 'word_level': 0.2, 'word_lengths': 0.9, 'full_name_length': 0.3}, score=0.9330357142857143, total=   2.7s\n",
      "[CV] clf__loss=log, clf__penalty=elasticnet, features__transformer_weights={'char_level': 0.9, 'word_level': 0.3, 'word_count': 0.2, 'full_name_length': 0.7} \n",
      "[CV]  clf__loss=log, clf__penalty=elasticnet, features__transformer_weights={'char_level': 0.9, 'word_level': 0.3, 'word_count': 0.2, 'full_name_length': 0.7}, score=0.9339285714285714, total=   3.0s\n",
      "[CV] clf__loss=log, clf__penalty=elasticnet, features__transformer_weights={'char_level': 0.9, 'word_level': 0.3, 'word_count': 0.2, 'full_name_length': 0.7} \n"
     ]
    },
    {
     "name": "stdout",
     "output_type": "stream",
     "text": [
      "[CV]  clf__loss=log, clf__penalty=elasticnet, features__transformer_weights={'char_level': 0.9, 'word_level': 0.3, 'word_count': 0.2, 'full_name_length': 0.7}, score=0.9339285714285714, total=   2.6s\n",
      "[CV] clf__loss=log, clf__penalty=elasticnet, features__transformer_weights={'char_level': 0.9, 'word_level': 0.3, 'word_count': 0.2, 'full_name_length': 0.7} \n",
      "[CV]  clf__loss=log, clf__penalty=elasticnet, features__transformer_weights={'char_level': 0.9, 'word_level': 0.3, 'word_count': 0.2, 'full_name_length': 0.7}, score=0.9294642857142857, total=   2.6s\n",
      "[CV] clf__loss=perceptron, clf__penalty=l1, features__transformer_weights={'char_level': 0.2, 'word_level': 0.1, 'word_count': 0.4, 'full_name_length': 0.5} \n",
      "[CV]  clf__loss=perceptron, clf__penalty=l1, features__transformer_weights={'char_level': 0.2, 'word_level': 0.1, 'word_count': 0.4, 'full_name_length': 0.5}, score=0.825, total=   2.0s\n",
      "[CV] clf__loss=perceptron, clf__penalty=l1, features__transformer_weights={'char_level': 0.2, 'word_level': 0.1, 'word_count': 0.4, 'full_name_length': 0.5} \n",
      "[CV]  clf__loss=perceptron, clf__penalty=l1, features__transformer_weights={'char_level': 0.2, 'word_level': 0.1, 'word_count': 0.4, 'full_name_length': 0.5}, score=0.8848214285714285, total=   2.0s\n",
      "[CV] clf__loss=perceptron, clf__penalty=l1, features__transformer_weights={'char_level': 0.2, 'word_level': 0.1, 'word_count': 0.4, 'full_name_length': 0.5} \n",
      "[CV]  clf__loss=perceptron, clf__penalty=l1, features__transformer_weights={'char_level': 0.2, 'word_level': 0.1, 'word_count': 0.4, 'full_name_length': 0.5}, score=0.9258928571428572, total=   1.9s\n",
      "[CV] clf__loss=perceptron, clf__penalty=l1, features__transformer_weights={'char_level': 0.9, 'word_level': 0.2, 'word_lengths': 0.9, 'full_name_length': 0.3} \n",
      "[CV]  clf__loss=perceptron, clf__penalty=l1, features__transformer_weights={'char_level': 0.9, 'word_level': 0.2, 'word_lengths': 0.9, 'full_name_length': 0.3}, score=0.93125, total=   1.9s\n",
      "[CV] clf__loss=perceptron, clf__penalty=l1, features__transformer_weights={'char_level': 0.9, 'word_level': 0.2, 'word_lengths': 0.9, 'full_name_length': 0.3} \n",
      "[CV]  clf__loss=perceptron, clf__penalty=l1, features__transformer_weights={'char_level': 0.9, 'word_level': 0.2, 'word_lengths': 0.9, 'full_name_length': 0.3}, score=0.9285714285714286, total=   2.1s\n",
      "[CV] clf__loss=perceptron, clf__penalty=l1, features__transformer_weights={'char_level': 0.9, 'word_level': 0.2, 'word_lengths': 0.9, 'full_name_length': 0.3} \n",
      "[CV]  clf__loss=perceptron, clf__penalty=l1, features__transformer_weights={'char_level': 0.9, 'word_level': 0.2, 'word_lengths': 0.9, 'full_name_length': 0.3}, score=0.9142857142857143, total=   2.1s\n",
      "[CV] clf__loss=perceptron, clf__penalty=l1, features__transformer_weights={'char_level': 0.9, 'word_level': 0.3, 'word_count': 0.2, 'full_name_length': 0.7} \n",
      "[CV]  clf__loss=perceptron, clf__penalty=l1, features__transformer_weights={'char_level': 0.9, 'word_level': 0.3, 'word_count': 0.2, 'full_name_length': 0.7}, score=0.9267857142857143, total=   2.3s\n",
      "[CV] clf__loss=perceptron, clf__penalty=l1, features__transformer_weights={'char_level': 0.9, 'word_level': 0.3, 'word_count': 0.2, 'full_name_length': 0.7} \n",
      "[CV]  clf__loss=perceptron, clf__penalty=l1, features__transformer_weights={'char_level': 0.9, 'word_level': 0.3, 'word_count': 0.2, 'full_name_length': 0.7}, score=0.9205357142857142, total=   2.2s\n",
      "[CV] clf__loss=perceptron, clf__penalty=l1, features__transformer_weights={'char_level': 0.9, 'word_level': 0.3, 'word_count': 0.2, 'full_name_length': 0.7} \n",
      "[CV]  clf__loss=perceptron, clf__penalty=l1, features__transformer_weights={'char_level': 0.9, 'word_level': 0.3, 'word_count': 0.2, 'full_name_length': 0.7}, score=0.9223214285714286, total=   1.9s\n",
      "[CV] clf__loss=perceptron, clf__penalty=l2, features__transformer_weights={'char_level': 0.2, 'word_level': 0.1, 'word_count': 0.4, 'full_name_length': 0.5} \n",
      "[CV]  clf__loss=perceptron, clf__penalty=l2, features__transformer_weights={'char_level': 0.2, 'word_level': 0.1, 'word_count': 0.4, 'full_name_length': 0.5}, score=0.9267857142857143, total=   1.5s\n",
      "[CV] clf__loss=perceptron, clf__penalty=l2, features__transformer_weights={'char_level': 0.2, 'word_level': 0.1, 'word_count': 0.4, 'full_name_length': 0.5} \n",
      "[CV]  clf__loss=perceptron, clf__penalty=l2, features__transformer_weights={'char_level': 0.2, 'word_level': 0.1, 'word_count': 0.4, 'full_name_length': 0.5}, score=0.8678571428571429, total=   1.6s\n",
      "[CV] clf__loss=perceptron, clf__penalty=l2, features__transformer_weights={'char_level': 0.2, 'word_level': 0.1, 'word_count': 0.4, 'full_name_length': 0.5} \n",
      "[CV]  clf__loss=perceptron, clf__penalty=l2, features__transformer_weights={'char_level': 0.2, 'word_level': 0.1, 'word_count': 0.4, 'full_name_length': 0.5}, score=0.8214285714285714, total=   1.5s\n",
      "[CV] clf__loss=perceptron, clf__penalty=l2, features__transformer_weights={'char_level': 0.9, 'word_level': 0.2, 'word_lengths': 0.9, 'full_name_length': 0.3} \n",
      "[CV]  clf__loss=perceptron, clf__penalty=l2, features__transformer_weights={'char_level': 0.9, 'word_level': 0.2, 'word_lengths': 0.9, 'full_name_length': 0.3}, score=0.9339285714285714, total=   1.5s\n",
      "[CV] clf__loss=perceptron, clf__penalty=l2, features__transformer_weights={'char_level': 0.9, 'word_level': 0.2, 'word_lengths': 0.9, 'full_name_length': 0.3} \n",
      "[CV]  clf__loss=perceptron, clf__penalty=l2, features__transformer_weights={'char_level': 0.9, 'word_level': 0.2, 'word_lengths': 0.9, 'full_name_length': 0.3}, score=0.94375, total=   1.5s\n",
      "[CV] clf__loss=perceptron, clf__penalty=l2, features__transformer_weights={'char_level': 0.9, 'word_level': 0.2, 'word_lengths': 0.9, 'full_name_length': 0.3} \n",
      "[CV]  clf__loss=perceptron, clf__penalty=l2, features__transformer_weights={'char_level': 0.9, 'word_level': 0.2, 'word_lengths': 0.9, 'full_name_length': 0.3}, score=0.9142857142857143, total=   1.5s\n",
      "[CV] clf__loss=perceptron, clf__penalty=l2, features__transformer_weights={'char_level': 0.9, 'word_level': 0.3, 'word_count': 0.2, 'full_name_length': 0.7} \n",
      "[CV]  clf__loss=perceptron, clf__penalty=l2, features__transformer_weights={'char_level': 0.9, 'word_level': 0.3, 'word_count': 0.2, 'full_name_length': 0.7}, score=0.8428571428571429, total=   1.4s\n",
      "[CV] clf__loss=perceptron, clf__penalty=l2, features__transformer_weights={'char_level': 0.9, 'word_level': 0.3, 'word_count': 0.2, 'full_name_length': 0.7} \n",
      "[CV]  clf__loss=perceptron, clf__penalty=l2, features__transformer_weights={'char_level': 0.9, 'word_level': 0.3, 'word_count': 0.2, 'full_name_length': 0.7}, score=0.9410714285714286, total=   1.7s\n",
      "[CV] clf__loss=perceptron, clf__penalty=l2, features__transformer_weights={'char_level': 0.9, 'word_level': 0.3, 'word_count': 0.2, 'full_name_length': 0.7} \n",
      "[CV]  clf__loss=perceptron, clf__penalty=l2, features__transformer_weights={'char_level': 0.9, 'word_level': 0.3, 'word_count': 0.2, 'full_name_length': 0.7}, score=0.8616071428571429, total=   1.6s\n",
      "[CV] clf__loss=perceptron, clf__penalty=elasticnet, features__transformer_weights={'char_level': 0.2, 'word_level': 0.1, 'word_count': 0.4, 'full_name_length': 0.5} \n",
      "[CV]  clf__loss=perceptron, clf__penalty=elasticnet, features__transformer_weights={'char_level': 0.2, 'word_level': 0.1, 'word_count': 0.4, 'full_name_length': 0.5}, score=0.9366071428571429, total=   2.1s\n",
      "[CV] clf__loss=perceptron, clf__penalty=elasticnet, features__transformer_weights={'char_level': 0.2, 'word_level': 0.1, 'word_count': 0.4, 'full_name_length': 0.5} \n",
      "[CV]  clf__loss=perceptron, clf__penalty=elasticnet, features__transformer_weights={'char_level': 0.2, 'word_level': 0.1, 'word_count': 0.4, 'full_name_length': 0.5}, score=0.8723214285714286, total=   2.2s\n",
      "[CV] clf__loss=perceptron, clf__penalty=elasticnet, features__transformer_weights={'char_level': 0.2, 'word_level': 0.1, 'word_count': 0.4, 'full_name_length': 0.5} \n",
      "[CV]  clf__loss=perceptron, clf__penalty=elasticnet, features__transformer_weights={'char_level': 0.2, 'word_level': 0.1, 'word_count': 0.4, 'full_name_length': 0.5}, score=0.9285714285714286, total=   2.1s\n",
      "[CV] clf__loss=perceptron, clf__penalty=elasticnet, features__transformer_weights={'char_level': 0.9, 'word_level': 0.2, 'word_lengths': 0.9, 'full_name_length': 0.3} \n"
     ]
    },
    {
     "name": "stdout",
     "output_type": "stream",
     "text": [
      "[CV]  clf__loss=perceptron, clf__penalty=elasticnet, features__transformer_weights={'char_level': 0.9, 'word_level': 0.2, 'word_lengths': 0.9, 'full_name_length': 0.3}, score=0.93125, total=   2.2s\n",
      "[CV] clf__loss=perceptron, clf__penalty=elasticnet, features__transformer_weights={'char_level': 0.9, 'word_level': 0.2, 'word_lengths': 0.9, 'full_name_length': 0.3} \n",
      "[CV]  clf__loss=perceptron, clf__penalty=elasticnet, features__transformer_weights={'char_level': 0.9, 'word_level': 0.2, 'word_lengths': 0.9, 'full_name_length': 0.3}, score=0.9357142857142857, total=   2.7s\n",
      "[CV] clf__loss=perceptron, clf__penalty=elasticnet, features__transformer_weights={'char_level': 0.9, 'word_level': 0.2, 'word_lengths': 0.9, 'full_name_length': 0.3} \n",
      "[CV]  clf__loss=perceptron, clf__penalty=elasticnet, features__transformer_weights={'char_level': 0.9, 'word_level': 0.2, 'word_lengths': 0.9, 'full_name_length': 0.3}, score=0.9357142857142857, total=   2.8s\n",
      "[CV] clf__loss=perceptron, clf__penalty=elasticnet, features__transformer_weights={'char_level': 0.9, 'word_level': 0.3, 'word_count': 0.2, 'full_name_length': 0.7} \n",
      "[CV]  clf__loss=perceptron, clf__penalty=elasticnet, features__transformer_weights={'char_level': 0.9, 'word_level': 0.3, 'word_count': 0.2, 'full_name_length': 0.7}, score=0.9294642857142857, total=   2.3s\n",
      "[CV] clf__loss=perceptron, clf__penalty=elasticnet, features__transformer_weights={'char_level': 0.9, 'word_level': 0.3, 'word_count': 0.2, 'full_name_length': 0.7} \n",
      "[CV]  clf__loss=perceptron, clf__penalty=elasticnet, features__transformer_weights={'char_level': 0.9, 'word_level': 0.3, 'word_count': 0.2, 'full_name_length': 0.7}, score=0.9160714285714285, total=   2.2s\n",
      "[CV] clf__loss=perceptron, clf__penalty=elasticnet, features__transformer_weights={'char_level': 0.9, 'word_level': 0.3, 'word_count': 0.2, 'full_name_length': 0.7} \n",
      "[CV]  clf__loss=perceptron, clf__penalty=elasticnet, features__transformer_weights={'char_level': 0.9, 'word_level': 0.3, 'word_count': 0.2, 'full_name_length': 0.7}, score=0.9196428571428571, total=   2.1s\n"
     ]
    },
    {
     "name": "stderr",
     "output_type": "stream",
     "text": [
      "[Parallel(n_jobs=1)]: Done 108 out of 108 | elapsed:  4.2min finished\n"
     ]
    }
   ],
   "source": [
    "if __name__ == '__main__':\n",
    "    \n",
    "    ic = EP('italian')\n",
    "    #.add_nodoubt_names()\n",
    "    \n",
    "    # split into the training and testing sets\n",
    "    X_train, X_test, y_train, y_test = train_test_split(ic.data.drop([ic.target_col], axis=1), \n",
    "                                                        ic.data[ic.target_col],  test_size=0.2, \n",
    "                                                        random_state=391, stratify=ic.data[ic.target_col])\n",
    "    \n",
    "\n",
    "    pipe = Pipeline([('select_fullname', Selector('full_name')),  # df with 1 column\n",
    "                        ('features', FeatureUnion(\n",
    "                             [('char_level', CountVectorizer(strip_accents='ascii', analyzer='char', \n",
    "                                                          ngram_range=(1, 4))),\n",
    "                              ('word_level', CountVectorizer(strip_accents='ascii', analyzer='word',\n",
    "                                                       ngram_range=(1,2))),\n",
    "                              ('word_count', WordCount()),\n",
    "                              ('full_name_length', NameLength()),\n",
    "                              ('firstlast', FirstLast())],\n",
    "                                 transformer_weights={\n",
    "                                            'char_level': 0.8,\n",
    "                                            'word_level': 0.5,\n",
    "                                            'word_lengths': 1.0,\n",
    "                                                        })\n",
    "                     ),\n",
    "                     ('normalise', Normalizer()),\n",
    "                     ('pca', TruncatedSVD(n_components=120)),\n",
    "                    ('clf', SGDClassifier(max_iter=1000))])\n",
    "    \n",
    "    param_grid = {'features__transformer_weights': [{'char_level': 0.2,\n",
    "                                                     'word_level': 0.1,\n",
    "                                                     'word_count':0.4,\n",
    "                                                    'full_name_length': 0.5}, \n",
    "                                                   {'char_level': 0.9,\n",
    "                                                     'word_level': 0.2,\n",
    "                                                     'word_lengths':0.9,\n",
    "                                                   'full_name_length': 0.3},\n",
    "                                                   {'char_level': 0.9,\n",
    "                                                     'word_level': 0.3,\n",
    "                                                     'word_count':0.2,\n",
    "                                                   'full_name_length': 0.7}],\n",
    "                    \"clf__loss\": ['hinge', 'modified_huber', 'log', 'perceptron'],\n",
    "                     'clf__penalty': ['l1','l2','elasticnet']}\n",
    "    \n",
    "    grid_search = GridSearchCV(pipe, param_grid=param_grid, verbose=10)\n",
    "    \n",
    "    grid_search.fit(X_train, y_train)"
   ]
  },
  {
   "cell_type": "code",
   "execution_count": 10,
   "metadata": {},
   "outputs": [
    {
     "name": "stdout",
     "output_type": "stream",
     "text": [
      "             precision    recall  f1-score   support\n",
      "\n",
      "          0       0.94      0.96      0.95       431\n",
      "          1       0.95      0.93      0.94       410\n",
      "\n",
      "avg / total       0.94      0.94      0.94       841\n",
      "\n"
     ]
    }
   ],
   "source": [
    "print(classification_report(y_test, grid_search.predict(X_test)))"
   ]
  },
  {
   "cell_type": "code",
   "execution_count": 16,
   "metadata": {},
   "outputs": [],
   "source": [
    "test_data = pd.DataFrame({'full_name': ['mohammad kumar', 'chan','stanislaw', 'mohammad', 'mehrdad','myriam',\n",
    "                                         'nejad myriam','hosein', 'xi','babak', 'igor', \n",
    "                                        'andrzej woods', 'kumar', 'ahmad lopes zeto', 'bob', 'mario razzi', 'john reed']})\n",
    "\n",
    "test_data['prediction'] = grid_search.predict(test_data)\n",
    "test_data['prediction'] = test_data['prediction'].apply(lambda _: 'yes' if _ else 'no')"
   ]
  },
  {
   "cell_type": "code",
   "execution_count": 17,
   "metadata": {},
   "outputs": [
    {
     "data": {
      "text/html": [
       "<div>\n",
       "<style scoped>\n",
       "    .dataframe tbody tr th:only-of-type {\n",
       "        vertical-align: middle;\n",
       "    }\n",
       "\n",
       "    .dataframe tbody tr th {\n",
       "        vertical-align: top;\n",
       "    }\n",
       "\n",
       "    .dataframe thead th {\n",
       "        text-align: right;\n",
       "    }\n",
       "</style>\n",
       "<table border=\"1\" class=\"dataframe\">\n",
       "  <thead>\n",
       "    <tr style=\"text-align: right;\">\n",
       "      <th></th>\n",
       "      <th>full_name</th>\n",
       "      <th>prediction</th>\n",
       "    </tr>\n",
       "  </thead>\n",
       "  <tbody>\n",
       "    <tr>\n",
       "      <th>0</th>\n",
       "      <td>mohammad kumar</td>\n",
       "      <td>no</td>\n",
       "    </tr>\n",
       "    <tr>\n",
       "      <th>1</th>\n",
       "      <td>chan</td>\n",
       "      <td>no</td>\n",
       "    </tr>\n",
       "    <tr>\n",
       "      <th>2</th>\n",
       "      <td>stanislaw</td>\n",
       "      <td>no</td>\n",
       "    </tr>\n",
       "    <tr>\n",
       "      <th>3</th>\n",
       "      <td>mohammad</td>\n",
       "      <td>no</td>\n",
       "    </tr>\n",
       "    <tr>\n",
       "      <th>4</th>\n",
       "      <td>mehrdad</td>\n",
       "      <td>no</td>\n",
       "    </tr>\n",
       "    <tr>\n",
       "      <th>5</th>\n",
       "      <td>myriam</td>\n",
       "      <td>no</td>\n",
       "    </tr>\n",
       "    <tr>\n",
       "      <th>6</th>\n",
       "      <td>nejad myriam</td>\n",
       "      <td>no</td>\n",
       "    </tr>\n",
       "    <tr>\n",
       "      <th>7</th>\n",
       "      <td>hosein</td>\n",
       "      <td>no</td>\n",
       "    </tr>\n",
       "    <tr>\n",
       "      <th>8</th>\n",
       "      <td>xi</td>\n",
       "      <td>no</td>\n",
       "    </tr>\n",
       "    <tr>\n",
       "      <th>9</th>\n",
       "      <td>babak</td>\n",
       "      <td>no</td>\n",
       "    </tr>\n",
       "    <tr>\n",
       "      <th>10</th>\n",
       "      <td>igor</td>\n",
       "      <td>no</td>\n",
       "    </tr>\n",
       "    <tr>\n",
       "      <th>11</th>\n",
       "      <td>andrzej woods</td>\n",
       "      <td>no</td>\n",
       "    </tr>\n",
       "    <tr>\n",
       "      <th>12</th>\n",
       "      <td>kumar</td>\n",
       "      <td>no</td>\n",
       "    </tr>\n",
       "    <tr>\n",
       "      <th>13</th>\n",
       "      <td>ahmad lopes zeto</td>\n",
       "      <td>no</td>\n",
       "    </tr>\n",
       "    <tr>\n",
       "      <th>14</th>\n",
       "      <td>bob</td>\n",
       "      <td>no</td>\n",
       "    </tr>\n",
       "    <tr>\n",
       "      <th>15</th>\n",
       "      <td>mario razzi</td>\n",
       "      <td>yes</td>\n",
       "    </tr>\n",
       "    <tr>\n",
       "      <th>16</th>\n",
       "      <td>john reed</td>\n",
       "      <td>no</td>\n",
       "    </tr>\n",
       "  </tbody>\n",
       "</table>\n",
       "</div>"
      ],
      "text/plain": [
       "           full_name prediction\n",
       "0     mohammad kumar         no\n",
       "1               chan         no\n",
       "2          stanislaw         no\n",
       "3           mohammad         no\n",
       "4            mehrdad         no\n",
       "5             myriam         no\n",
       "6       nejad myriam         no\n",
       "7             hosein         no\n",
       "8                 xi         no\n",
       "9              babak         no\n",
       "10              igor         no\n",
       "11     andrzej woods         no\n",
       "12             kumar         no\n",
       "13  ahmad lopes zeto         no\n",
       "14               bob         no\n",
       "15       mario razzi        yes\n",
       "16         john reed         no"
      ]
     },
     "execution_count": 17,
     "metadata": {},
     "output_type": "execute_result"
    }
   ],
   "source": [
    "test_data"
   ]
  },
  {
   "cell_type": "code",
   "execution_count": 15,
   "metadata": {},
   "outputs": [
    {
     "data": {
      "text/plain": [
       "{'clf__loss': 'modified_huber',\n",
       " 'clf__penalty': 'elasticnet',\n",
       " 'features__transformer_weights': {'char_level': 0.9,\n",
       "  'full_name_length': 0.3,\n",
       "  'word_lengths': 0.9,\n",
       "  'word_level': 0.2}}"
      ]
     },
     "execution_count": 15,
     "metadata": {},
     "output_type": "execute_result"
    }
   ],
   "source": [
    "grid_search.best_params_"
   ]
  },
  {
   "cell_type": "code",
   "execution_count": null,
   "metadata": {},
   "outputs": [],
   "source": []
  }
 ],
 "metadata": {
  "kernelspec": {
   "display_name": "Python 3",
   "language": "python",
   "name": "python3"
  },
  "language_info": {
   "codemirror_mode": {
    "name": "ipython",
    "version": 3
   },
   "file_extension": ".py",
   "mimetype": "text/x-python",
   "name": "python",
   "nbconvert_exporter": "python",
   "pygments_lexer": "ipython3",
   "version": "3.6.4"
  }
 },
 "nbformat": 4,
 "nbformat_minor": 2
}
