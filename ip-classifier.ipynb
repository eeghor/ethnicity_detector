{
 "cells": [
  {
   "cell_type": "code",
   "execution_count": 1,
   "metadata": {},
   "outputs": [],
   "source": [
    "import json\n",
    "import pandas as pd\n",
    "from sklearn.externals import joblib\n",
    "from collections import defaultdict, Counter\n",
    "from sklearn.feature_extraction.text import CountVectorizer\n",
    "from sklearn.pipeline import Pipeline, FeatureUnion\n",
    "from sklearn.model_selection import train_test_split\n",
    "from sklearn.metrics import classification_report, accuracy_score\n",
    "from sklearn.naive_bayes import GaussianNB\n",
    "from string import punctuation\n",
    "from sklearn.svm import SVC\n",
    "from sklearn.linear_model import SGDClassifier\n",
    "from sklearn.model_selection import GridSearchCV\n",
    "from sklearn.preprocessing import Normalizer\n",
    "from sklearn.decomposition import TruncatedSVD\n",
    "from unidecode import unidecode\n",
    "from sklearn.neural_network import MLPClassifier\n",
    "from sklearn.cluster import KMeans, MeanShift\n",
    "from ethnicity_features import (Selector, WordCount, NameLength, \n",
    "                                FirstLast, DictFirstNameFeatures, \n",
    "                                VowelsShare, ModelTransformer, MakeDense)\n",
    "from sklearn.ensemble import VotingClassifier, RandomForestClassifier, AdaBoostClassifier, GradientBoostingClassifier"
   ]
  },
  {
   "cell_type": "code",
   "execution_count": 2,
   "metadata": {},
   "outputs": [],
   "source": [
    "class EP:\n",
    "    \n",
    "    def __init__(self, ethnicity):  \n",
    "        \n",
    "        assert ethnicity in ('iranian polish italian german japanese vietnamese'\n",
    "                             ' portuguese fijian indian croatian greek'\n",
    "                             ' serbian spanish korean thai turkish' \n",
    "                             ' english cambodian russian').split(), f'incorrect ethnicity: {ethnicity}!'\n",
    "        \n",
    "        datafile = f'/Users/ik/Data/names/training-{ethnicity}.csv'\n",
    "        self.target_col = f'is_{ethnicity}'\n",
    "        \n",
    "        self.data = pd.read_csv(datafile).sample(frac=1.)\n",
    "        self.data['full_name'] = self.data['full_name'].apply(lambda _: unidecode(_))\n",
    "        \n",
    "        assert self.target_col in self.data.columns, f'there is no {self.target_col} in data file!'  \n",
    "        \n",
    "        try:\n",
    "            self.NODOUBT_FIRST_NAMES = list({line.strip() for line in open(f'/Users/ik/Data/names/real_{ethnicity}.txt','r').readlines() if line.strip()})\n",
    "        except:\n",
    "            self.NODOUBT_FIRST_NAMES = []\n",
    "        print(self.NODOUBT_FIRST_NAMES)\n",
    "        \n",
    "    def add_nodoubt_names(self):\n",
    "        \n",
    "        print(f'adding {len(self.NODOUBT_FIRST_NAMES)} first names..')\n",
    "        \n",
    "        self.data = pd.concat([self.data, pd.DataFrame({'full_name': self.NODOUBT_FIRST_NAMES, \n",
    "                                                        self.target_col: [1]*len(self.NODOUBT_FIRST_NAMES)})], \n",
    "                              ignore_index=True).sample(frac=1.)\n",
    "        return self"
   ]
  },
  {
   "cell_type": "code",
   "execution_count": 3,
   "metadata": {},
   "outputs": [
    {
     "name": "stdout",
     "output_type": "stream",
     "text": [
      "['giovanni', 'angelo', 'andrea', 'gianluca', 'alessio', 'matteo', 'scilla', 'fiorella', 'antonio', 'fabio', 'alessandro', 'tomasso', 'massimo', 'giuseppe', 'luca', 'giacomo', 'jacopo', 'carlo', 'giulia', 'gennaro', 'filippo', 'mauro']\n",
      "adding 22 first names..\n"
     ]
    },
    {
     "data": {
      "text/plain": [
       "Pipeline(memory=None,\n",
       "     steps=[('select_fullname', Selector(col_name='full_name')), ('features', FeatureUnion(n_jobs=1,\n",
       "       transformer_list=[('char_level', CountVectorizer(analyzer='char', binary=False, decode_error='strict',\n",
       "        dtype=<class 'numpy.int64'>, encoding='utf-8', input='content',\n",
       "        lowercase=True...se, warm_start=False)))],\n",
       "       transformer_weights=None)), ('final_cls', GaussianNB(priors=None))])"
      ]
     },
     "execution_count": 3,
     "metadata": {},
     "output_type": "execute_result"
    }
   ],
   "source": [
    "if __name__ == '__main__':\n",
    "    \n",
    "    ETHN = 'italian'\n",
    "    \n",
    "    ic = EP(ETHN).add_nodoubt_names()\n",
    "    \n",
    "    # split into the training and testing sets\n",
    "    X_train, X_test, y_train, y_test = train_test_split(ic.data.drop([ic.target_col], axis=1), \n",
    "                                                        ic.data[ic.target_col],  test_size=0.25, \n",
    "                                                        random_state=391, stratify=ic.data[ic.target_col])\n",
    "    \n",
    "\n",
    "    pipe = Pipeline([('select_fullname', Selector('full_name')),  # df with 1 column\n",
    "                     ('features', FeatureUnion(\n",
    "                         [('char_level', CountVectorizer(strip_accents='ascii', analyzer='char', \n",
    "                                                          ngram_range=(2, 4))),\n",
    "                          ('word_level', CountVectorizer(strip_accents='ascii', analyzer='word',\n",
    "                                                       ngram_range=(1,3))),\n",
    "                          ('word_count', WordCount()),\n",
    "                          ('dict_fname', DictFirstNameFeatures(ic.NODOUBT_FIRST_NAMES)),\n",
    "                          ('vow_share', VowelsShare()),\n",
    "                          ('full_name_length', NameLength()),  \n",
    "                          ('firstlast', FirstLast())])),\n",
    "#                               transformer_weights={\n",
    "#                                             'char_level': 0.8,\n",
    "#                                             'word_level': 0.5,\n",
    "#                                             'word_lengths': 1.0,})),\n",
    "#                          ])),\n",
    "                     ('normalise', Normalizer()),\n",
    "#                      ('pca', TruncatedSVD(n_components=120)),\n",
    "#                      ('clf', VotingClassifier(estimators=[('sgd', SGDClassifier(max_iter=1000)),\n",
    "#                                                            ('rf', RandomForestClassifier(class_weight='balanced')),\n",
    "#                                                             ('svc', SVC(C=0.0001)),\n",
    "#                                                              ('abst', AdaBoostClassifier(n_estimators=200)),\n",
    "#                                                              ('gb', GradientBoostingClassifier(n_estimators=200)),\n",
    "#                                                          ('kmeans', KMeans(n_clusters=2))], \n",
    "#                                                                     voting='hard'))])\n",
    "                     ('clf', FeatureUnion([('sgd', ModelTransformer(SGDClassifier(max_iter=1000))),\n",
    "                                             ('rf', ModelTransformer(RandomForestClassifier(class_weight='balanced', n_estimators=200))),\n",
    "                                             ('kmeans', ModelTransformer(KMeans(n_clusters=2))),\n",
    "                                             ('gb', ModelTransformer(GradientBoostingClassifier(n_estimators=200))),\n",
    "                                             ('abst', ModelTransformer(AdaBoostClassifier(n_estimators=200))),\n",
    "                                             ('svc', ModelTransformer(SVC(C=0.0001))),\n",
    "                                             ('mlpc', ModelTransformer(MLPClassifier()))\n",
    "                                            ])),\n",
    "                     ('final_cls', GaussianNB())])\n",
    "    \n",
    "#     param_grid = {\n",
    "#         'features__transformer_weights': [{'char_level': 0.2,\n",
    "#                                                      'word_level': 0.1,\n",
    "#                                                      'word_count':0.4,\n",
    "#                                                     'full_name_length': 0.5}, \n",
    "#                                                    {'char_level': 0.9,\n",
    "#                                                      'word_level': 0.2,\n",
    "#                                                      'word_lengths':0.9,\n",
    "#                                                    'full_name_length': 0.3},\n",
    "#                                                    {'char_level': 0.9,\n",
    "#                                                      'word_level': 0.3,\n",
    "#                                                      'word_count':0.2,\n",
    "#                                                    'full_name_length': 0.7}],\n",
    "#                     'clf__sgd__loss': ['modified_huber'], # also 'hinge', 'perceptron', 'log'\n",
    "#                     'clf__sgd__penalty': ['l2'],  # 'elasticnet', 'l1'\n",
    "#                     'clf__rf__n_estimators': [100, 200, 300],\n",
    "#                     'clf__rf__max_depth': [None, 2, 3],\n",
    "#                     'clf__svc__C': [1e-6, 1e-5, 1e-4, 1e-2, 1.]}  # default is 1.\n",
    "#                  'pca__n_components': [30, 120, 400]}\n",
    "    \n",
    "#     grid_search = GridSearchCV(pipe, param_grid=param_grid, verbose=10)\n",
    "pipe.fit(X_train, y_train)\n",
    "    \n",
    "#     grid_search.fit(X_train, y_train)\n",
    "    \n",
    "#     joblib.dump(grid_search.best_estimator_, f'{ETHN}_model.pkl', compress = 1)"
   ]
  },
  {
   "cell_type": "code",
   "execution_count": 4,
   "metadata": {},
   "outputs": [
    {
     "name": "stdout",
     "output_type": "stream",
     "text": [
      "             precision    recall  f1-score   support\n",
      "\n",
      "          0       0.96      0.96      0.96       541\n",
      "          1       0.96      0.96      0.96       515\n",
      "\n",
      "avg / total       0.96      0.96      0.96      1056\n",
      "\n"
     ]
    }
   ],
   "source": [
    "print(classification_report(y_test, pipe.predict(X_test)))"
   ]
  },
  {
   "cell_type": "code",
   "execution_count": 5,
   "metadata": {},
   "outputs": [],
   "source": [
    "test_data = pd.DataFrame({'full_name': ['han walota', 'xi','babak', 'igor souza', 'yash patel', 'david perron',\n",
    "                                        'andrzej woods','otto floms', 'suzuki', 'iloilovatu', \n",
    "                                        'edilson', 'kawasaki','silva', 'james tran', \n",
    "                                        'bo nguyen', 'zlatan ibrahimovic', 'ronaldo barbosa', 'natalia klanchinkova', \n",
    "                                        'bob', 'keresi right','kalara',  'kona reed', 'andreas vlachos', 'con', 'nemanja vidic']})\n",
    "\n",
    "test_data['prediction'] = pipe.predict(test_data)\n",
    "test_data['prediction'] = test_data['prediction'].apply(lambda _: 'yes' if _ else 'no')"
   ]
  },
  {
   "cell_type": "code",
   "execution_count": 6,
   "metadata": {},
   "outputs": [],
   "source": [
    "# grid_search.best_params_"
   ]
  },
  {
   "cell_type": "code",
   "execution_count": 7,
   "metadata": {},
   "outputs": [
    {
     "name": "stdout",
     "output_type": "stream",
     "text": [
      "CASSANDRA THORPE predicted 1 but it is 0\n",
      "AUDREN RIO predicted 1 but it is 0\n",
      "GEORGIA DOVI predicted 1 but it is 0\n",
      "JEREMY CHAPPELL predicted 0 but it is 1\n",
      "DAMIAN BOMBARDIERE predicted 1 but it is 0\n",
      "GRETA ADAMI predicted 0 but it is 1\n",
      "VINCENT CORDI predicted 1 but it is 0\n",
      "ANDREA predicted 0 but it is 1\n",
      "LISA MINAMI predicted 1 but it is 0\n",
      "LEONARDO RAM REZ predicted 1 but it is 0\n",
      "STELLA MANZINI predicted 1 but it is 0\n",
      "NAIS LAGO predicted 0 but it is 1\n",
      "ACHILLE COSER predicted 0 but it is 1\n",
      "BRUNO LAUZI predicted 0 but it is 1\n",
      "SIONE MOLISI predicted 1 but it is 0\n",
      "HESPERIA predicted 0 but it is 1\n",
      "MONJA CAMPONOVO predicted 1 but it is 0\n",
      "LIA AMANDA predicted 0 but it is 1\n",
      "MAYA SANSA predicted 0 but it is 1\n",
      "JOSE GRECI predicted 0 but it is 1\n",
      "ANDREA DUKE predicted 1 but it is 0\n",
      "SYLVA KOSCINA predicted 0 but it is 1\n",
      "LIU BOSISIO predicted 0 but it is 1\n",
      "FATIMA FAORO predicted 1 but it is 0\n",
      "JONAS BERGSTEDT predicted 0 but it is 1\n",
      "GLORIA MILLAND predicted 0 but it is 1\n",
      "JOLE FIERRO predicted 0 but it is 1\n",
      "ALEXIS FERRANTE predicted 0 but it is 1\n",
      "LUCY CORONATI predicted 1 but it is 0\n",
      "YUCANDO NAVARRETE GARCIA predicted 1 but it is 0\n",
      "GEORGIA BORGHESI predicted 1 but it is 0\n",
      "STEPHANIE LITTERI predicted 1 but it is 0\n",
      "MITA MEDICI predicted 0 but it is 1\n",
      "SCILLA predicted 0 but it is 1\n",
      "MIWA MIYAUCHI predicted 1 but it is 0\n",
      "DAMIANO ZANON predicted 0 but it is 1\n",
      "JEAN PIERRE APPIETTO predicted 1 but it is 0\n",
      "MASSIMO PAKULA predicted 1 but it is 0\n",
      "LIA MASCIULLI predicted 1 but it is 0\n",
      "HASSAN MOUSSELAMANI predicted 1 but it is 0\n"
     ]
    }
   ],
   "source": [
    "for t in zip(X_test.values, pipe.predict(X_test), y_test.values):\n",
    "    if t[1] != t[2]:\n",
    "        print(f'{t[0][0].upper()} predicted {t[1]} but it is {t[2]}')"
   ]
  },
  {
   "cell_type": "code",
   "execution_count": 8,
   "metadata": {},
   "outputs": [
    {
     "data": {
      "text/plain": [
       "['italian_model.pkl']"
      ]
     },
     "execution_count": 8,
     "metadata": {},
     "output_type": "execute_result"
    }
   ],
   "source": [
    "# grid_search.best_estimator_\n",
    "joblib.dump(pipe, f'{ETHN}_model.pkl', compress = 1)"
   ]
  },
  {
   "cell_type": "code",
   "execution_count": null,
   "metadata": {},
   "outputs": [],
   "source": []
  }
 ],
 "metadata": {
  "kernelspec": {
   "display_name": "Python 3",
   "language": "python",
   "name": "python3"
  },
  "language_info": {
   "codemirror_mode": {
    "name": "ipython",
    "version": 3
   },
   "file_extension": ".py",
   "mimetype": "text/x-python",
   "name": "python",
   "nbconvert_exporter": "python",
   "pygments_lexer": "ipython3",
   "version": "3.6.4"
  }
 },
 "nbformat": 4,
 "nbformat_minor": 2
}
