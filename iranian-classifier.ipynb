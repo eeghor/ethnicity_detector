{
 "cells": [
  {
   "cell_type": "code",
   "execution_count": 34,
   "metadata": {},
   "outputs": [],
   "source": [
    "import json\n",
    "import pandas as pd\n",
    "from collections import defaultdict, Counter\n",
    "from sklearn.feature_extraction.text import CountVectorizer\n",
    "from sklearn.feature_extraction import DictVectorizer\n",
    "from sklearn.pipeline import Pipeline, FeatureUnion\n",
    "from sklearn.model_selection import train_test_split\n",
    "from sklearn.base import BaseEstimator, TransformerMixin\n",
    "from sklearn.metrics import classification_report, accuracy_score\n",
    "from pprint import pprint\n",
    "from string import punctuation\n",
    "from sklearn.svm import SVC\n",
    "from sklearn.linear_model import SGDClassifier\n",
    "from sklearn.model_selection import GridSearchCV"
   ]
  },
  {
   "cell_type": "code",
   "execution_count": 35,
   "metadata": {},
   "outputs": [],
   "source": [
    "class IranianNames:\n",
    "    \n",
    "    def __init__(self):        \n",
    "        self.data = pd.read_csv('/Users/ik/Data/names/training-polish.csv')\n",
    "        print(f'iranian names: {Counter(self.data[\"is_polish\"])[1]}/{len(self.data)}')"
   ]
  },
  {
   "cell_type": "code",
   "execution_count": 36,
   "metadata": {},
   "outputs": [],
   "source": [
    "class Selector(BaseEstimator, TransformerMixin):\n",
    "    \"\"\"\n",
    "    select a columns from a data frame and return as a list\n",
    "    \"\"\"\n",
    "    def __init__(self, col_name):\n",
    "        self.col_name = col_name\n",
    "    \n",
    "    def fit(self, x, y=None):\n",
    "        return self\n",
    "\n",
    "    def transform(self, x):\n",
    "        return '_start_' + x[self.col_name] + '_end_'\n",
    "\n",
    "class WordLengths(BaseEstimator, TransformerMixin):\n",
    "    \"\"\"\n",
    "    select a columns from a data frame and return as a list\n",
    "    \"\"\"\n",
    "    def __init__(self):\n",
    "        pass\n",
    "    \n",
    "    def fit(self, x, y=None):\n",
    "        return self\n",
    "\n",
    "    def transform(self, x):\n",
    "        res = x.apply(lambda _: len(_.split())).values.reshape(x.shape[0],1)\n",
    "        return res"
   ]
  },
  {
   "cell_type": "code",
   "execution_count": 37,
   "metadata": {},
   "outputs": [
    {
     "name": "stdout",
     "output_type": "stream",
     "text": [
      "iranian names: 2484/9736\n",
      "Fitting 3 folds for each of 12 candidates, totalling 36 fits\n",
      "[CV] clf__loss=hinge, clf__penalty=l1 ................................\n",
      "[CV]  clf__loss=hinge, clf__penalty=l1, score=0.9715055833654216, total=   4.5s\n",
      "[CV] clf__loss=hinge, clf__penalty=l1 ................................\n"
     ]
    },
    {
     "name": "stderr",
     "output_type": "stream",
     "text": [
      "[Parallel(n_jobs=1)]: Done   1 out of   1 | elapsed:    4.8s remaining:    0.0s\n"
     ]
    },
    {
     "name": "stdout",
     "output_type": "stream",
     "text": [
      "[CV]  clf__loss=hinge, clf__penalty=l1, score=0.9687981510015409, total=   4.7s\n",
      "[CV] clf__loss=hinge, clf__penalty=l1 ................................\n"
     ]
    },
    {
     "name": "stderr",
     "output_type": "stream",
     "text": [
      "[Parallel(n_jobs=1)]: Done   2 out of   2 | elapsed:    9.8s remaining:    0.0s\n"
     ]
    },
    {
     "name": "stdout",
     "output_type": "stream",
     "text": [
      "[CV]  clf__loss=hinge, clf__penalty=l1, score=0.9695568400770713, total=   4.7s\n",
      "[CV] clf__loss=hinge, clf__penalty=l2 ................................\n"
     ]
    },
    {
     "name": "stderr",
     "output_type": "stream",
     "text": [
      "[Parallel(n_jobs=1)]: Done   3 out of   3 | elapsed:   14.8s remaining:    0.0s\n"
     ]
    },
    {
     "name": "stdout",
     "output_type": "stream",
     "text": [
      "[CV]  clf__loss=hinge, clf__penalty=l2, score=0.9776665383134386, total=   1.6s\n",
      "[CV] clf__loss=hinge, clf__penalty=l2 ................................\n"
     ]
    },
    {
     "name": "stderr",
     "output_type": "stream",
     "text": [
      "[Parallel(n_jobs=1)]: Done   4 out of   4 | elapsed:   16.8s remaining:    0.0s\n"
     ]
    },
    {
     "name": "stdout",
     "output_type": "stream",
     "text": [
      "[CV]  clf__loss=hinge, clf__penalty=l2, score=0.975346687211094, total=   1.7s\n",
      "[CV] clf__loss=hinge, clf__penalty=l2 ................................\n"
     ]
    },
    {
     "name": "stderr",
     "output_type": "stream",
     "text": [
      "[Parallel(n_jobs=1)]: Done   5 out of   5 | elapsed:   18.8s remaining:    0.0s\n"
     ]
    },
    {
     "name": "stdout",
     "output_type": "stream",
     "text": [
      "[CV]  clf__loss=hinge, clf__penalty=l2, score=0.9761078998073218, total=   1.6s\n",
      "[CV] clf__loss=hinge, clf__penalty=elasticnet ........................\n"
     ]
    },
    {
     "name": "stderr",
     "output_type": "stream",
     "text": [
      "[Parallel(n_jobs=1)]: Done   6 out of   6 | elapsed:   20.7s remaining:    0.0s\n"
     ]
    },
    {
     "name": "stdout",
     "output_type": "stream",
     "text": [
      "[CV]  clf__loss=hinge, clf__penalty=elasticnet, score=0.9788217173661917, total=   4.5s\n",
      "[CV] clf__loss=hinge, clf__penalty=elasticnet ........................\n"
     ]
    },
    {
     "name": "stderr",
     "output_type": "stream",
     "text": [
      "[Parallel(n_jobs=1)]: Done   7 out of   7 | elapsed:   25.5s remaining:    0.0s\n"
     ]
    },
    {
     "name": "stdout",
     "output_type": "stream",
     "text": [
      "[CV]  clf__loss=hinge, clf__penalty=elasticnet, score=0.9722650231124808, total=   4.4s\n",
      "[CV] clf__loss=hinge, clf__penalty=elasticnet ........................\n"
     ]
    },
    {
     "name": "stderr",
     "output_type": "stream",
     "text": [
      "[Parallel(n_jobs=1)]: Done   8 out of   8 | elapsed:   30.2s remaining:    0.0s\n"
     ]
    },
    {
     "name": "stdout",
     "output_type": "stream",
     "text": [
      "[CV]  clf__loss=hinge, clf__penalty=elasticnet, score=0.9772639691714836, total=   4.8s\n",
      "[CV] clf__loss=modified_huber, clf__penalty=l1 .......................\n"
     ]
    },
    {
     "name": "stderr",
     "output_type": "stream",
     "text": [
      "[Parallel(n_jobs=1)]: Done   9 out of   9 | elapsed:   35.3s remaining:    0.0s\n"
     ]
    },
    {
     "name": "stdout",
     "output_type": "stream",
     "text": [
      "[CV]  clf__loss=modified_huber, clf__penalty=l1, score=0.9726607624181748, total=   4.6s\n",
      "[CV] clf__loss=modified_huber, clf__penalty=l1 .......................\n",
      "[CV]  clf__loss=modified_huber, clf__penalty=l1, score=0.9699537750385208, total=   4.5s\n",
      "[CV] clf__loss=modified_huber, clf__penalty=l1 .......................\n",
      "[CV]  clf__loss=modified_huber, clf__penalty=l1, score=0.9714836223506744, total=   4.7s\n",
      "[CV] clf__loss=modified_huber, clf__penalty=l2 .......................\n",
      "[CV]  clf__loss=modified_huber, clf__penalty=l2, score=0.9776665383134386, total=   1.7s\n",
      "[CV] clf__loss=modified_huber, clf__penalty=l2 .......................\n",
      "[CV]  clf__loss=modified_huber, clf__penalty=l2, score=0.9699537750385208, total=   1.5s\n",
      "[CV] clf__loss=modified_huber, clf__penalty=l2 .......................\n",
      "[CV]  clf__loss=modified_huber, clf__penalty=l2, score=0.976878612716763, total=   1.5s\n",
      "[CV] clf__loss=modified_huber, clf__penalty=elasticnet ...............\n",
      "[CV]  clf__loss=modified_huber, clf__penalty=elasticnet, score=0.9780515979976896, total=   4.4s\n",
      "[CV] clf__loss=modified_huber, clf__penalty=elasticnet ...............\n",
      "[CV]  clf__loss=modified_huber, clf__penalty=elasticnet, score=0.9722650231124808, total=   4.5s\n",
      "[CV] clf__loss=modified_huber, clf__penalty=elasticnet ...............\n",
      "[CV]  clf__loss=modified_huber, clf__penalty=elasticnet, score=0.9761078998073218, total=   4.7s\n",
      "[CV] clf__loss=log, clf__penalty=l1 ..................................\n",
      "[CV]  clf__loss=log, clf__penalty=l1, score=0.974201001155179, total=   4.6s\n",
      "[CV] clf__loss=log, clf__penalty=l1 ..................................\n",
      "[CV]  clf__loss=log, clf__penalty=l1, score=0.9691833590138675, total=   4.5s\n",
      "[CV] clf__loss=log, clf__penalty=l1 ..................................\n",
      "[CV]  clf__loss=log, clf__penalty=l1, score=0.9737957610789981, total=   4.4s\n",
      "[CV] clf__loss=log, clf__penalty=l2 ..................................\n",
      "[CV]  clf__loss=log, clf__penalty=l2, score=0.9784366576819407, total=   2.3s\n",
      "[CV] clf__loss=log, clf__penalty=l2 ..................................\n",
      "[CV]  clf__loss=log, clf__penalty=l2, score=0.9734206471494607, total=   2.3s\n",
      "[CV] clf__loss=log, clf__penalty=l2 ..................................\n",
      "[CV]  clf__loss=log, clf__penalty=l2, score=0.9761078998073218, total=   2.3s\n",
      "[CV] clf__loss=log, clf__penalty=elasticnet ..........................\n",
      "[CV]  clf__loss=log, clf__penalty=elasticnet, score=0.9792067770504428, total=   4.5s\n",
      "[CV] clf__loss=log, clf__penalty=elasticnet ..........................\n",
      "[CV]  clf__loss=log, clf__penalty=elasticnet, score=0.9745762711864406, total=   4.4s\n",
      "[CV] clf__loss=log, clf__penalty=elasticnet ..........................\n",
      "[CV]  clf__loss=log, clf__penalty=elasticnet, score=0.9788053949903661, total=   4.4s\n",
      "[CV] clf__loss=perceptron, clf__penalty=l1 ...........................\n",
      "[CV]  clf__loss=perceptron, clf__penalty=l1, score=0.9699653446284174, total=   4.6s\n",
      "[CV] clf__loss=perceptron, clf__penalty=l1 ...........................\n",
      "[CV]  clf__loss=perceptron, clf__penalty=l1, score=0.9707241910631741, total=   4.4s\n",
      "[CV] clf__loss=perceptron, clf__penalty=l1 ...........................\n",
      "[CV]  clf__loss=perceptron, clf__penalty=l1, score=0.9714836223506744, total=   4.7s\n",
      "[CV] clf__loss=perceptron, clf__penalty=l2 ...........................\n",
      "[CV]  clf__loss=perceptron, clf__penalty=l2, score=0.9691952252599153, total=   1.5s\n",
      "[CV] clf__loss=perceptron, clf__penalty=l2 ...........................\n",
      "[CV]  clf__loss=perceptron, clf__penalty=l2, score=0.9714946070878274, total=   1.5s\n",
      "[CV] clf__loss=perceptron, clf__penalty=l2 ...........................\n",
      "[CV]  clf__loss=perceptron, clf__penalty=l2, score=0.9776493256262042, total=   1.6s\n",
      "[CV] clf__loss=perceptron, clf__penalty=elasticnet ...................\n",
      "[CV]  clf__loss=perceptron, clf__penalty=elasticnet, score=0.9703504043126685, total=   3.2s\n",
      "[CV] clf__loss=perceptron, clf__penalty=elasticnet ...................\n",
      "[CV]  clf__loss=perceptron, clf__penalty=elasticnet, score=0.9714946070878274, total=   3.8s\n",
      "[CV] clf__loss=perceptron, clf__penalty=elasticnet ...................\n",
      "[CV]  clf__loss=perceptron, clf__penalty=elasticnet, score=0.971868978805395, total=   3.6s\n"
     ]
    },
    {
     "name": "stderr",
     "output_type": "stream",
     "text": [
      "[Parallel(n_jobs=1)]: Done  36 out of  36 | elapsed:  2.3min finished\n"
     ]
    }
   ],
   "source": [
    "if __name__ == '__main__':\n",
    "    \n",
    "    ic = IranianNames()\n",
    "    \n",
    "    # split into the training and testing sets\n",
    "    X_train, X_test, y_train, y_test = train_test_split(ic.data.drop(['is_polish'], axis=1), \n",
    "                                                        ic.data['is_polish'],  test_size=0.2, \n",
    "                                                        random_state=391, stratify=ic.data['is_polish'])\n",
    "    \n",
    "\n",
    "    pipe = Pipeline([('select_fullname', Selector('full_name')),  # df with 1 column\n",
    "                     ('features', FeatureUnion(\n",
    "                         [('char_level', CountVectorizer(strip_accents='ascii', analyzer='char', \n",
    "                                                          ngram_range=(1, 4))),\n",
    "                         ('word_level', CountVectorizer(strip_accents='ascii', analyzer='word',\n",
    "                                                       ngram_range=(1,2))),\n",
    "                         ('word_lengths', WordLengths())])\n",
    "                     ),\n",
    "                    ('clf', SGDClassifier(max_iter=1000))])\n",
    "    \n",
    "    param_grid = dict(clf__loss=['hinge', 'modified_huber', 'log', 'perceptron'],\n",
    "                     clf__penalty=['l1','l2','elasticnet'])\n",
    "    \n",
    "    grid_search = GridSearchCV(pipe, param_grid=param_grid, verbose=10)\n",
    "    \n",
    "    grid_search.fit(X_train, y_train)"
   ]
  },
  {
   "cell_type": "code",
   "execution_count": 38,
   "metadata": {},
   "outputs": [
    {
     "name": "stdout",
     "output_type": "stream",
     "text": [
      "             precision    recall  f1-score   support\n",
      "\n",
      "          0       0.98      0.99      0.98      1451\n",
      "          1       0.96      0.95      0.96       497\n",
      "\n",
      "avg / total       0.98      0.98      0.98      1948\n",
      "\n"
     ]
    }
   ],
   "source": [
    "print(classification_report(y_test, grid_search.predict(X_test)))"
   ]
  },
  {
   "cell_type": "code",
   "execution_count": 39,
   "metadata": {},
   "outputs": [
    {
     "data": {
      "text/plain": [
       "array([0, 0, 1, 0, 0, 1])"
      ]
     },
     "execution_count": 39,
     "metadata": {},
     "output_type": "execute_result"
    }
   ],
   "source": [
    "grid_search.predict(pd.DataFrame({'full_name': ['mohammad kumar', 'mehri','maryam ziaei nejad','hosein', 'QUI CHAN','babak']}))"
   ]
  },
  {
   "cell_type": "code",
   "execution_count": null,
   "metadata": {},
   "outputs": [],
   "source": []
  }
 ],
 "metadata": {
  "kernelspec": {
   "display_name": "Python 3",
   "language": "python",
   "name": "python3"
  },
  "language_info": {
   "codemirror_mode": {
    "name": "ipython",
    "version": 3
   },
   "file_extension": ".py",
   "mimetype": "text/x-python",
   "name": "python",
   "nbconvert_exporter": "python",
   "pygments_lexer": "ipython3",
   "version": "3.6.4"
  }
 },
 "nbformat": 4,
 "nbformat_minor": 2
}
