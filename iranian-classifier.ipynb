{
 "cells": [
  {
   "cell_type": "code",
   "execution_count": 25,
   "metadata": {},
   "outputs": [],
   "source": [
    "import json\n",
    "import pandas as pd\n",
    "import numpy as np\n",
    "from collections import defaultdict, Counter\n",
    "from sklearn.feature_extraction.text import CountVectorizer\n",
    "from sklearn.feature_extraction import DictVectorizer\n",
    "from sklearn.pipeline import Pipeline, FeatureUnion\n",
    "from sklearn.model_selection import train_test_split\n",
    "from sklearn.base import BaseEstimator, TransformerMixin\n",
    "from sklearn.metrics import classification_report, accuracy_score\n",
    "from pprint import pprint\n",
    "from string import punctuation\n",
    "from sklearn.svm import SVC\n",
    "from sklearn.linear_model import SGDClassifier\n",
    "from sklearn.model_selection import GridSearchCV\n",
    "from sklearn.preprocessing import Normalizer"
   ]
  },
  {
   "cell_type": "code",
   "execution_count": 26,
   "metadata": {},
   "outputs": [],
   "source": [
    "class IranianNames:\n",
    "    \n",
    "    def __init__(self):        \n",
    "        self.data = pd.read_csv('/Users/ik/Data/names/training-polish.csv')\n",
    "        print(f'iranian names: {Counter(self.data[\"is_polish\"])[1]}/{len(self.data)}')"
   ]
  },
  {
   "cell_type": "code",
   "execution_count": 27,
   "metadata": {},
   "outputs": [],
   "source": [
    "class Selector(BaseEstimator, TransformerMixin):\n",
    "    \"\"\"\n",
    "    select a columns from a data frame and return as a list\n",
    "    \"\"\"\n",
    "    def __init__(self, col_name):\n",
    "        self.col_name = col_name\n",
    "    \n",
    "    def fit(self, x, y=None):\n",
    "        return self\n",
    "\n",
    "    def transform(self, x):\n",
    "        return '_start_' + x[self.col_name] + '_end_'\n",
    "\n",
    "class WordLengths(BaseEstimator, TransformerMixin):\n",
    "    \"\"\"\n",
    "    select a columns from a data frame and return as a list\n",
    "    \"\"\"\n",
    "    def __init__(self):\n",
    "        pass\n",
    "    \n",
    "    def fit(self, x, y=None):\n",
    "        return self\n",
    "\n",
    "    def transform(self, x):\n",
    "        res = x.apply(lambda _: len(_.split())).values.reshape(x.shape[0],1)\n",
    "        return res\n",
    "\n",
    "class FirstLast(BaseEstimator, TransformerMixin):\n",
    "    \"\"\"\n",
    "    is the first word longer than the last one\n",
    "    \"\"\"\n",
    "    def __init__(self):\n",
    "        pass\n",
    "    \n",
    "    def fit(self, x, y=None):\n",
    "        return self\n",
    "\n",
    "    def transform(self, x):\n",
    "        res = x.apply(lambda _: np.argmax([len(p) for i, p in enumerate(_.split()) if i in [0,len(_.split())-1]])).values.reshape(x.shape[0],1)\n",
    "        return res"
   ]
  },
  {
   "cell_type": "code",
   "execution_count": 35,
   "metadata": {},
   "outputs": [
    {
     "name": "stdout",
     "output_type": "stream",
     "text": [
      "iranian names: 2484/9736\n",
      "Fitting 3 folds for each of 36 candidates, totalling 108 fits\n",
      "[CV] clf__loss=hinge, clf__penalty=l1, features__transformer_weights={'char_level': 0.2, 'word_level': 0.1, 'word_lengths': 0.4} \n",
      "[CV]  clf__loss=hinge, clf__penalty=l1, features__transformer_weights={'char_level': 0.2, 'word_level': 0.1, 'word_lengths': 0.4}, score=0.973815941470928, total=   3.8s\n",
      "[CV] clf__loss=hinge, clf__penalty=l1, features__transformer_weights={'char_level': 0.2, 'word_level': 0.1, 'word_lengths': 0.4} \n"
     ]
    },
    {
     "name": "stderr",
     "output_type": "stream",
     "text": [
      "[Parallel(n_jobs=1)]: Done   1 out of   1 | elapsed:    4.3s remaining:    0.0s\n"
     ]
    },
    {
     "name": "stdout",
     "output_type": "stream",
     "text": [
      "[CV]  clf__loss=hinge, clf__penalty=l1, features__transformer_weights={'char_level': 0.2, 'word_level': 0.1, 'word_lengths': 0.4}, score=0.9714946070878274, total=   4.0s\n",
      "[CV] clf__loss=hinge, clf__penalty=l1, features__transformer_weights={'char_level': 0.2, 'word_level': 0.1, 'word_lengths': 0.4} \n"
     ]
    },
    {
     "name": "stderr",
     "output_type": "stream",
     "text": [
      "[Parallel(n_jobs=1)]: Done   2 out of   2 | elapsed:    8.8s remaining:    0.0s\n"
     ]
    },
    {
     "name": "stdout",
     "output_type": "stream",
     "text": [
      "[CV]  clf__loss=hinge, clf__penalty=l1, features__transformer_weights={'char_level': 0.2, 'word_level': 0.1, 'word_lengths': 0.4}, score=0.9703275529865125, total=   3.7s\n",
      "[CV] clf__loss=hinge, clf__penalty=l1, features__transformer_weights={'char_level': 0.4, 'word_level': 0.6, 'word_lengths': 0.8} \n"
     ]
    },
    {
     "name": "stderr",
     "output_type": "stream",
     "text": [
      "[Parallel(n_jobs=1)]: Done   3 out of   3 | elapsed:   13.1s remaining:    0.0s\n"
     ]
    },
    {
     "name": "stdout",
     "output_type": "stream",
     "text": [
      "[CV]  clf__loss=hinge, clf__penalty=l1, features__transformer_weights={'char_level': 0.4, 'word_level': 0.6, 'word_lengths': 0.8}, score=0.9745860608394301, total=   3.8s\n",
      "[CV] clf__loss=hinge, clf__penalty=l1, features__transformer_weights={'char_level': 0.4, 'word_level': 0.6, 'word_lengths': 0.8} \n"
     ]
    },
    {
     "name": "stderr",
     "output_type": "stream",
     "text": [
      "[Parallel(n_jobs=1)]: Done   4 out of   4 | elapsed:   17.4s remaining:    0.0s\n"
     ]
    },
    {
     "name": "stdout",
     "output_type": "stream",
     "text": [
      "[CV]  clf__loss=hinge, clf__penalty=l1, features__transformer_weights={'char_level': 0.4, 'word_level': 0.6, 'word_lengths': 0.8}, score=0.9734206471494607, total=   3.9s\n",
      "[CV] clf__loss=hinge, clf__penalty=l1, features__transformer_weights={'char_level': 0.4, 'word_level': 0.6, 'word_lengths': 0.8} \n"
     ]
    },
    {
     "name": "stderr",
     "output_type": "stream",
     "text": [
      "[Parallel(n_jobs=1)]: Done   5 out of   5 | elapsed:   21.9s remaining:    0.0s\n"
     ]
    },
    {
     "name": "stdout",
     "output_type": "stream",
     "text": [
      "[CV]  clf__loss=hinge, clf__penalty=l1, features__transformer_weights={'char_level': 0.4, 'word_level': 0.6, 'word_lengths': 0.8}, score=0.9722543352601156, total=   4.0s\n",
      "[CV] clf__loss=hinge, clf__penalty=l1, features__transformer_weights={'char_level': 0.9, 'word_level': 0.3, 'word_lengths': 0.5} \n"
     ]
    },
    {
     "name": "stderr",
     "output_type": "stream",
     "text": [
      "[Parallel(n_jobs=1)]: Done   6 out of   6 | elapsed:   26.2s remaining:    0.0s\n"
     ]
    },
    {
     "name": "stdout",
     "output_type": "stream",
     "text": [
      "[CV]  clf__loss=hinge, clf__penalty=l1, features__transformer_weights={'char_level': 0.9, 'word_level': 0.3, 'word_lengths': 0.5}, score=0.9726607624181748, total=   3.5s\n",
      "[CV] clf__loss=hinge, clf__penalty=l1, features__transformer_weights={'char_level': 0.9, 'word_level': 0.3, 'word_lengths': 0.5} \n"
     ]
    },
    {
     "name": "stderr",
     "output_type": "stream",
     "text": [
      "[Parallel(n_jobs=1)]: Done   7 out of   7 | elapsed:   30.2s remaining:    0.0s\n"
     ]
    },
    {
     "name": "stdout",
     "output_type": "stream",
     "text": [
      "[CV]  clf__loss=hinge, clf__penalty=l1, features__transformer_weights={'char_level': 0.9, 'word_level': 0.3, 'word_lengths': 0.5}, score=0.9718798151001541, total=   3.8s\n",
      "[CV] clf__loss=hinge, clf__penalty=l1, features__transformer_weights={'char_level': 0.9, 'word_level': 0.3, 'word_lengths': 0.5} \n"
     ]
    },
    {
     "name": "stderr",
     "output_type": "stream",
     "text": [
      "[Parallel(n_jobs=1)]: Done   8 out of   8 | elapsed:   34.5s remaining:    0.0s\n"
     ]
    },
    {
     "name": "stdout",
     "output_type": "stream",
     "text": [
      "[CV]  clf__loss=hinge, clf__penalty=l1, features__transformer_weights={'char_level': 0.9, 'word_level': 0.3, 'word_lengths': 0.5}, score=0.9714836223506744, total=   3.9s\n",
      "[CV] clf__loss=hinge, clf__penalty=l2, features__transformer_weights={'char_level': 0.2, 'word_level': 0.1, 'word_lengths': 0.4} \n"
     ]
    },
    {
     "name": "stderr",
     "output_type": "stream",
     "text": [
      "[Parallel(n_jobs=1)]: Done   9 out of   9 | elapsed:   38.9s remaining:    0.0s\n"
     ]
    },
    {
     "name": "stdout",
     "output_type": "stream",
     "text": [
      "[CV]  clf__loss=hinge, clf__penalty=l2, features__transformer_weights={'char_level': 0.2, 'word_level': 0.1, 'word_lengths': 0.4}, score=0.9765113592606854, total=   1.9s\n",
      "[CV] clf__loss=hinge, clf__penalty=l2, features__transformer_weights={'char_level': 0.2, 'word_level': 0.1, 'word_lengths': 0.4} \n",
      "[CV]  clf__loss=hinge, clf__penalty=l2, features__transformer_weights={'char_level': 0.2, 'word_level': 0.1, 'word_lengths': 0.4}, score=0.9757318952234206, total=   1.9s\n",
      "[CV] clf__loss=hinge, clf__penalty=l2, features__transformer_weights={'char_level': 0.2, 'word_level': 0.1, 'word_lengths': 0.4} \n",
      "[CV]  clf__loss=hinge, clf__penalty=l2, features__transformer_weights={'char_level': 0.2, 'word_level': 0.1, 'word_lengths': 0.4}, score=0.9749518304431599, total=   2.3s\n",
      "[CV] clf__loss=hinge, clf__penalty=l2, features__transformer_weights={'char_level': 0.4, 'word_level': 0.6, 'word_lengths': 0.8} \n",
      "[CV]  clf__loss=hinge, clf__penalty=l2, features__transformer_weights={'char_level': 0.4, 'word_level': 0.6, 'word_lengths': 0.8}, score=0.9761262995764344, total=   1.9s\n",
      "[CV] clf__loss=hinge, clf__penalty=l2, features__transformer_weights={'char_level': 0.4, 'word_level': 0.6, 'word_lengths': 0.8} \n",
      "[CV]  clf__loss=hinge, clf__penalty=l2, features__transformer_weights={'char_level': 0.4, 'word_level': 0.6, 'word_lengths': 0.8}, score=0.974191063174114, total=   1.9s\n",
      "[CV] clf__loss=hinge, clf__penalty=l2, features__transformer_weights={'char_level': 0.4, 'word_level': 0.6, 'word_lengths': 0.8} \n",
      "[CV]  clf__loss=hinge, clf__penalty=l2, features__transformer_weights={'char_level': 0.4, 'word_level': 0.6, 'word_lengths': 0.8}, score=0.9761078998073218, total=   1.9s\n",
      "[CV] clf__loss=hinge, clf__penalty=l2, features__transformer_weights={'char_level': 0.9, 'word_level': 0.3, 'word_lengths': 0.5} \n",
      "[CV]  clf__loss=hinge, clf__penalty=l2, features__transformer_weights={'char_level': 0.9, 'word_level': 0.3, 'word_lengths': 0.5}, score=0.9765113592606854, total=   2.0s\n",
      "[CV] clf__loss=hinge, clf__penalty=l2, features__transformer_weights={'char_level': 0.9, 'word_level': 0.3, 'word_lengths': 0.5} \n",
      "[CV]  clf__loss=hinge, clf__penalty=l2, features__transformer_weights={'char_level': 0.9, 'word_level': 0.3, 'word_lengths': 0.5}, score=0.976502311248074, total=   1.8s\n",
      "[CV] clf__loss=hinge, clf__penalty=l2, features__transformer_weights={'char_level': 0.9, 'word_level': 0.3, 'word_lengths': 0.5} \n",
      "[CV]  clf__loss=hinge, clf__penalty=l2, features__transformer_weights={'char_level': 0.9, 'word_level': 0.3, 'word_lengths': 0.5}, score=0.9753371868978805, total=   2.1s\n",
      "[CV] clf__loss=hinge, clf__penalty=elasticnet, features__transformer_weights={'char_level': 0.2, 'word_level': 0.1, 'word_lengths': 0.4} \n",
      "[CV]  clf__loss=hinge, clf__penalty=elasticnet, features__transformer_weights={'char_level': 0.2, 'word_level': 0.1, 'word_lengths': 0.4}, score=0.9765113592606854, total=   4.9s\n",
      "[CV] clf__loss=hinge, clf__penalty=elasticnet, features__transformer_weights={'char_level': 0.2, 'word_level': 0.1, 'word_lengths': 0.4} \n",
      "[CV]  clf__loss=hinge, clf__penalty=elasticnet, features__transformer_weights={'char_level': 0.2, 'word_level': 0.1, 'word_lengths': 0.4}, score=0.9749614791987673, total=   5.1s\n",
      "[CV] clf__loss=hinge, clf__penalty=elasticnet, features__transformer_weights={'char_level': 0.2, 'word_level': 0.1, 'word_lengths': 0.4} \n",
      "[CV]  clf__loss=hinge, clf__penalty=elasticnet, features__transformer_weights={'char_level': 0.2, 'word_level': 0.1, 'word_lengths': 0.4}, score=0.9741811175337187, total=   5.1s\n",
      "[CV] clf__loss=hinge, clf__penalty=elasticnet, features__transformer_weights={'char_level': 0.4, 'word_level': 0.6, 'word_lengths': 0.8} \n",
      "[CV]  clf__loss=hinge, clf__penalty=elasticnet, features__transformer_weights={'char_level': 0.4, 'word_level': 0.6, 'word_lengths': 0.8}, score=0.9757412398921833, total=   5.1s\n",
      "[CV] clf__loss=hinge, clf__penalty=elasticnet, features__transformer_weights={'char_level': 0.4, 'word_level': 0.6, 'word_lengths': 0.8} \n",
      "[CV]  clf__loss=hinge, clf__penalty=elasticnet, features__transformer_weights={'char_level': 0.4, 'word_level': 0.6, 'word_lengths': 0.8}, score=0.9738058551617874, total=   4.9s\n",
      "[CV] clf__loss=hinge, clf__penalty=elasticnet, features__transformer_weights={'char_level': 0.4, 'word_level': 0.6, 'word_lengths': 0.8} \n",
      "[CV]  clf__loss=hinge, clf__penalty=elasticnet, features__transformer_weights={'char_level': 0.4, 'word_level': 0.6, 'word_lengths': 0.8}, score=0.9745664739884393, total=   5.1s\n",
      "[CV] clf__loss=hinge, clf__penalty=elasticnet, features__transformer_weights={'char_level': 0.9, 'word_level': 0.3, 'word_lengths': 0.5} \n",
      "[CV]  clf__loss=hinge, clf__penalty=elasticnet, features__transformer_weights={'char_level': 0.9, 'word_level': 0.3, 'word_lengths': 0.5}, score=0.9765113592606854, total=   4.8s\n",
      "[CV] clf__loss=hinge, clf__penalty=elasticnet, features__transformer_weights={'char_level': 0.9, 'word_level': 0.3, 'word_lengths': 0.5} \n",
      "[CV]  clf__loss=hinge, clf__penalty=elasticnet, features__transformer_weights={'char_level': 0.9, 'word_level': 0.3, 'word_lengths': 0.5}, score=0.974191063174114, total=   4.8s\n",
      "[CV] clf__loss=hinge, clf__penalty=elasticnet, features__transformer_weights={'char_level': 0.9, 'word_level': 0.3, 'word_lengths': 0.5} \n",
      "[CV]  clf__loss=hinge, clf__penalty=elasticnet, features__transformer_weights={'char_level': 0.9, 'word_level': 0.3, 'word_lengths': 0.5}, score=0.9737957610789981, total=   5.2s\n",
      "[CV] clf__loss=modified_huber, clf__penalty=l1, features__transformer_weights={'char_level': 0.2, 'word_level': 0.1, 'word_lengths': 0.4} \n",
      "[CV]  clf__loss=modified_huber, clf__penalty=l1, features__transformer_weights={'char_level': 0.2, 'word_level': 0.1, 'word_lengths': 0.4}, score=0.973815941470928, total=   3.9s\n",
      "[CV] clf__loss=modified_huber, clf__penalty=l1, features__transformer_weights={'char_level': 0.2, 'word_level': 0.1, 'word_lengths': 0.4} \n",
      "[CV]  clf__loss=modified_huber, clf__penalty=l1, features__transformer_weights={'char_level': 0.2, 'word_level': 0.1, 'word_lengths': 0.4}, score=0.976502311248074, total=   3.9s\n",
      "[CV] clf__loss=modified_huber, clf__penalty=l1, features__transformer_weights={'char_level': 0.2, 'word_level': 0.1, 'word_lengths': 0.4} \n",
      "[CV]  clf__loss=modified_huber, clf__penalty=l1, features__transformer_weights={'char_level': 0.2, 'word_level': 0.1, 'word_lengths': 0.4}, score=0.9726396917148362, total=   3.7s\n",
      "[CV] clf__loss=modified_huber, clf__penalty=l1, features__transformer_weights={'char_level': 0.4, 'word_level': 0.6, 'word_lengths': 0.8} \n",
      "[CV]  clf__loss=modified_huber, clf__penalty=l1, features__transformer_weights={'char_level': 0.4, 'word_level': 0.6, 'word_lengths': 0.8}, score=0.9765113592606854, total=   3.7s\n",
      "[CV] clf__loss=modified_huber, clf__penalty=l1, features__transformer_weights={'char_level': 0.4, 'word_level': 0.6, 'word_lengths': 0.8} \n",
      "[CV]  clf__loss=modified_huber, clf__penalty=l1, features__transformer_weights={'char_level': 0.4, 'word_level': 0.6, 'word_lengths': 0.8}, score=0.9761171032357473, total=   3.8s\n",
      "[CV] clf__loss=modified_huber, clf__penalty=l1, features__transformer_weights={'char_level': 0.4, 'word_level': 0.6, 'word_lengths': 0.8} \n",
      "[CV]  clf__loss=modified_huber, clf__penalty=l1, features__transformer_weights={'char_level': 0.4, 'word_level': 0.6, 'word_lengths': 0.8}, score=0.971868978805395, total=   3.8s\n",
      "[CV] clf__loss=modified_huber, clf__penalty=l1, features__transformer_weights={'char_level': 0.9, 'word_level': 0.3, 'word_lengths': 0.5} \n",
      "[CV]  clf__loss=modified_huber, clf__penalty=l1, features__transformer_weights={'char_level': 0.9, 'word_level': 0.3, 'word_lengths': 0.5}, score=0.9784366576819407, total=   3.9s\n",
      "[CV] clf__loss=modified_huber, clf__penalty=l1, features__transformer_weights={'char_level': 0.9, 'word_level': 0.3, 'word_lengths': 0.5} \n",
      "[CV]  clf__loss=modified_huber, clf__penalty=l1, features__transformer_weights={'char_level': 0.9, 'word_level': 0.3, 'word_lengths': 0.5}, score=0.9714946070878274, total=   3.8s\n",
      "[CV] clf__loss=modified_huber, clf__penalty=l1, features__transformer_weights={'char_level': 0.9, 'word_level': 0.3, 'word_lengths': 0.5} \n",
      "[CV]  clf__loss=modified_huber, clf__penalty=l1, features__transformer_weights={'char_level': 0.9, 'word_level': 0.3, 'word_lengths': 0.5}, score=0.9714836223506744, total=   3.8s\n",
      "[CV] clf__loss=modified_huber, clf__penalty=l2, features__transformer_weights={'char_level': 0.2, 'word_level': 0.1, 'word_lengths': 0.4} \n"
     ]
    },
    {
     "name": "stdout",
     "output_type": "stream",
     "text": [
      "[CV]  clf__loss=modified_huber, clf__penalty=l2, features__transformer_weights={'char_level': 0.2, 'word_level': 0.1, 'word_lengths': 0.4}, score=0.9776665383134386, total=   1.8s\n",
      "[CV] clf__loss=modified_huber, clf__penalty=l2, features__transformer_weights={'char_level': 0.2, 'word_level': 0.1, 'word_lengths': 0.4} \n",
      "[CV]  clf__loss=modified_huber, clf__penalty=l2, features__transformer_weights={'char_level': 0.2, 'word_level': 0.1, 'word_lengths': 0.4}, score=0.9768875192604006, total=   2.0s\n",
      "[CV] clf__loss=modified_huber, clf__penalty=l2, features__transformer_weights={'char_level': 0.2, 'word_level': 0.1, 'word_lengths': 0.4} \n",
      "[CV]  clf__loss=modified_huber, clf__penalty=l2, features__transformer_weights={'char_level': 0.2, 'word_level': 0.1, 'word_lengths': 0.4}, score=0.9764932562620424, total=   2.2s\n",
      "[CV] clf__loss=modified_huber, clf__penalty=l2, features__transformer_weights={'char_level': 0.4, 'word_level': 0.6, 'word_lengths': 0.8} \n",
      "[CV]  clf__loss=modified_huber, clf__penalty=l2, features__transformer_weights={'char_level': 0.4, 'word_level': 0.6, 'word_lengths': 0.8}, score=0.9776665383134386, total=   1.9s\n",
      "[CV] clf__loss=modified_huber, clf__penalty=l2, features__transformer_weights={'char_level': 0.4, 'word_level': 0.6, 'word_lengths': 0.8} \n",
      "[CV]  clf__loss=modified_huber, clf__penalty=l2, features__transformer_weights={'char_level': 0.4, 'word_level': 0.6, 'word_lengths': 0.8}, score=0.9768875192604006, total=   1.8s\n",
      "[CV] clf__loss=modified_huber, clf__penalty=l2, features__transformer_weights={'char_level': 0.4, 'word_level': 0.6, 'word_lengths': 0.8} \n",
      "[CV]  clf__loss=modified_huber, clf__penalty=l2, features__transformer_weights={'char_level': 0.4, 'word_level': 0.6, 'word_lengths': 0.8}, score=0.9776493256262042, total=   1.9s\n",
      "[CV] clf__loss=modified_huber, clf__penalty=l2, features__transformer_weights={'char_level': 0.9, 'word_level': 0.3, 'word_lengths': 0.5} \n",
      "[CV]  clf__loss=modified_huber, clf__penalty=l2, features__transformer_weights={'char_level': 0.9, 'word_level': 0.3, 'word_lengths': 0.5}, score=0.9784366576819407, total=   1.8s\n",
      "[CV] clf__loss=modified_huber, clf__penalty=l2, features__transformer_weights={'char_level': 0.9, 'word_level': 0.3, 'word_lengths': 0.5} \n",
      "[CV]  clf__loss=modified_huber, clf__penalty=l2, features__transformer_weights={'char_level': 0.9, 'word_level': 0.3, 'word_lengths': 0.5}, score=0.977657935285054, total=   2.2s\n",
      "[CV] clf__loss=modified_huber, clf__penalty=l2, features__transformer_weights={'char_level': 0.9, 'word_level': 0.3, 'word_lengths': 0.5} \n",
      "[CV]  clf__loss=modified_huber, clf__penalty=l2, features__transformer_weights={'char_level': 0.9, 'word_level': 0.3, 'word_lengths': 0.5}, score=0.9764932562620424, total=   2.0s\n",
      "[CV] clf__loss=modified_huber, clf__penalty=elasticnet, features__transformer_weights={'char_level': 0.2, 'word_level': 0.1, 'word_lengths': 0.4} \n",
      "[CV]  clf__loss=modified_huber, clf__penalty=elasticnet, features__transformer_weights={'char_level': 0.2, 'word_level': 0.1, 'word_lengths': 0.4}, score=0.9780515979976896, total=   4.9s\n",
      "[CV] clf__loss=modified_huber, clf__penalty=elasticnet, features__transformer_weights={'char_level': 0.2, 'word_level': 0.1, 'word_lengths': 0.4} \n",
      "[CV]  clf__loss=modified_huber, clf__penalty=elasticnet, features__transformer_weights={'char_level': 0.2, 'word_level': 0.1, 'word_lengths': 0.4}, score=0.9784283513097073, total=   5.0s\n",
      "[CV] clf__loss=modified_huber, clf__penalty=elasticnet, features__transformer_weights={'char_level': 0.2, 'word_level': 0.1, 'word_lengths': 0.4} \n",
      "[CV]  clf__loss=modified_huber, clf__penalty=elasticnet, features__transformer_weights={'char_level': 0.2, 'word_level': 0.1, 'word_lengths': 0.4}, score=0.9764932562620424, total=   4.8s\n",
      "[CV] clf__loss=modified_huber, clf__penalty=elasticnet, features__transformer_weights={'char_level': 0.4, 'word_level': 0.6, 'word_lengths': 0.8} \n",
      "[CV]  clf__loss=modified_huber, clf__penalty=elasticnet, features__transformer_weights={'char_level': 0.4, 'word_level': 0.6, 'word_lengths': 0.8}, score=0.9772814786291876, total=   4.8s\n",
      "[CV] clf__loss=modified_huber, clf__penalty=elasticnet, features__transformer_weights={'char_level': 0.4, 'word_level': 0.6, 'word_lengths': 0.8} \n",
      "[CV]  clf__loss=modified_huber, clf__penalty=elasticnet, features__transformer_weights={'char_level': 0.4, 'word_level': 0.6, 'word_lengths': 0.8}, score=0.9772727272727273, total=   4.9s\n",
      "[CV] clf__loss=modified_huber, clf__penalty=elasticnet, features__transformer_weights={'char_level': 0.4, 'word_level': 0.6, 'word_lengths': 0.8} \n",
      "[CV]  clf__loss=modified_huber, clf__penalty=elasticnet, features__transformer_weights={'char_level': 0.4, 'word_level': 0.6, 'word_lengths': 0.8}, score=0.976878612716763, total=   5.1s\n",
      "[CV] clf__loss=modified_huber, clf__penalty=elasticnet, features__transformer_weights={'char_level': 0.9, 'word_level': 0.3, 'word_lengths': 0.5} \n",
      "[CV]  clf__loss=modified_huber, clf__penalty=elasticnet, features__transformer_weights={'char_level': 0.9, 'word_level': 0.3, 'word_lengths': 0.5}, score=0.9780515979976896, total=   4.7s\n",
      "[CV] clf__loss=modified_huber, clf__penalty=elasticnet, features__transformer_weights={'char_level': 0.9, 'word_level': 0.3, 'word_lengths': 0.5} \n",
      "[CV]  clf__loss=modified_huber, clf__penalty=elasticnet, features__transformer_weights={'char_level': 0.9, 'word_level': 0.3, 'word_lengths': 0.5}, score=0.9768875192604006, total=   4.9s\n",
      "[CV] clf__loss=modified_huber, clf__penalty=elasticnet, features__transformer_weights={'char_level': 0.9, 'word_level': 0.3, 'word_lengths': 0.5} \n",
      "[CV]  clf__loss=modified_huber, clf__penalty=elasticnet, features__transformer_weights={'char_level': 0.9, 'word_level': 0.3, 'word_lengths': 0.5}, score=0.9776493256262042, total=   5.2s\n",
      "[CV] clf__loss=log, clf__penalty=l1, features__transformer_weights={'char_level': 0.2, 'word_level': 0.1, 'word_lengths': 0.4} \n",
      "[CV]  clf__loss=log, clf__penalty=l1, features__transformer_weights={'char_level': 0.2, 'word_level': 0.1, 'word_lengths': 0.4}, score=0.9695802849441664, total=   4.3s\n",
      "[CV] clf__loss=log, clf__penalty=l1, features__transformer_weights={'char_level': 0.2, 'word_level': 0.1, 'word_lengths': 0.4} \n",
      "[CV]  clf__loss=log, clf__penalty=l1, features__transformer_weights={'char_level': 0.2, 'word_level': 0.1, 'word_lengths': 0.4}, score=0.9634052388289677, total=   4.7s\n",
      "[CV] clf__loss=log, clf__penalty=l1, features__transformer_weights={'char_level': 0.2, 'word_level': 0.1, 'word_lengths': 0.4} \n",
      "[CV]  clf__loss=log, clf__penalty=l1, features__transformer_weights={'char_level': 0.2, 'word_level': 0.1, 'word_lengths': 0.4}, score=0.9599229287090558, total=   4.2s\n",
      "[CV] clf__loss=log, clf__penalty=l1, features__transformer_weights={'char_level': 0.4, 'word_level': 0.6, 'word_lengths': 0.8} \n",
      "[CV]  clf__loss=log, clf__penalty=l1, features__transformer_weights={'char_level': 0.4, 'word_level': 0.6, 'word_lengths': 0.8}, score=0.9699653446284174, total=   4.2s\n",
      "[CV] clf__loss=log, clf__penalty=l1, features__transformer_weights={'char_level': 0.4, 'word_level': 0.6, 'word_lengths': 0.8} \n",
      "[CV]  clf__loss=log, clf__penalty=l1, features__transformer_weights={'char_level': 0.4, 'word_level': 0.6, 'word_lengths': 0.8}, score=0.9653312788906009, total=   4.3s\n",
      "[CV] clf__loss=log, clf__penalty=l1, features__transformer_weights={'char_level': 0.4, 'word_level': 0.6, 'word_lengths': 0.8} \n",
      "[CV]  clf__loss=log, clf__penalty=l1, features__transformer_weights={'char_level': 0.4, 'word_level': 0.6, 'word_lengths': 0.8}, score=0.9610789980732177, total=   4.3s\n",
      "[CV] clf__loss=log, clf__penalty=l1, features__transformer_weights={'char_level': 0.9, 'word_level': 0.3, 'word_lengths': 0.5} \n",
      "[CV]  clf__loss=log, clf__penalty=l1, features__transformer_weights={'char_level': 0.9, 'word_level': 0.3, 'word_lengths': 0.5}, score=0.9688101655756642, total=   4.2s\n",
      "[CV] clf__loss=log, clf__penalty=l1, features__transformer_weights={'char_level': 0.9, 'word_level': 0.3, 'word_lengths': 0.5} \n",
      "[CV]  clf__loss=log, clf__penalty=l1, features__transformer_weights={'char_level': 0.9, 'word_level': 0.3, 'word_lengths': 0.5}, score=0.9649460708782742, total=   3.7s\n",
      "[CV] clf__loss=log, clf__penalty=l1, features__transformer_weights={'char_level': 0.9, 'word_level': 0.3, 'word_lengths': 0.5} \n"
     ]
    },
    {
     "name": "stdout",
     "output_type": "stream",
     "text": [
      "[CV]  clf__loss=log, clf__penalty=l1, features__transformer_weights={'char_level': 0.9, 'word_level': 0.3, 'word_lengths': 0.5}, score=0.9622350674373795, total=   4.0s\n",
      "[CV] clf__loss=log, clf__penalty=l2, features__transformer_weights={'char_level': 0.2, 'word_level': 0.1, 'word_lengths': 0.4} \n",
      "[CV]  clf__loss=log, clf__penalty=l2, features__transformer_weights={'char_level': 0.2, 'word_level': 0.1, 'word_lengths': 0.4}, score=0.9688101655756642, total=   2.5s\n",
      "[CV] clf__loss=log, clf__penalty=l2, features__transformer_weights={'char_level': 0.2, 'word_level': 0.1, 'word_lengths': 0.4} \n",
      "[CV]  clf__loss=log, clf__penalty=l2, features__transformer_weights={'char_level': 0.2, 'word_level': 0.1, 'word_lengths': 0.4}, score=0.9622496147919877, total=   2.4s\n",
      "[CV] clf__loss=log, clf__penalty=l2, features__transformer_weights={'char_level': 0.2, 'word_level': 0.1, 'word_lengths': 0.4} \n",
      "[CV]  clf__loss=log, clf__penalty=l2, features__transformer_weights={'char_level': 0.2, 'word_level': 0.1, 'word_lengths': 0.4}, score=0.9630057803468208, total=   2.7s\n",
      "[CV] clf__loss=log, clf__penalty=l2, features__transformer_weights={'char_level': 0.4, 'word_level': 0.6, 'word_lengths': 0.8} \n",
      "[CV]  clf__loss=log, clf__penalty=l2, features__transformer_weights={'char_level': 0.4, 'word_level': 0.6, 'word_lengths': 0.8}, score=0.9688101655756642, total=   2.5s\n",
      "[CV] clf__loss=log, clf__penalty=l2, features__transformer_weights={'char_level': 0.4, 'word_level': 0.6, 'word_lengths': 0.8} \n",
      "[CV]  clf__loss=log, clf__penalty=l2, features__transformer_weights={'char_level': 0.4, 'word_level': 0.6, 'word_lengths': 0.8}, score=0.963020030816641, total=   2.6s\n",
      "[CV] clf__loss=log, clf__penalty=l2, features__transformer_weights={'char_level': 0.4, 'word_level': 0.6, 'word_lengths': 0.8} \n",
      "[CV]  clf__loss=log, clf__penalty=l2, features__transformer_weights={'char_level': 0.4, 'word_level': 0.6, 'word_lengths': 0.8}, score=0.9626204238921002, total=   2.5s\n",
      "[CV] clf__loss=log, clf__penalty=l2, features__transformer_weights={'char_level': 0.9, 'word_level': 0.3, 'word_lengths': 0.5} \n",
      "[CV]  clf__loss=log, clf__penalty=l2, features__transformer_weights={'char_level': 0.9, 'word_level': 0.3, 'word_lengths': 0.5}, score=0.9703504043126685, total=   2.4s\n",
      "[CV] clf__loss=log, clf__penalty=l2, features__transformer_weights={'char_level': 0.9, 'word_level': 0.3, 'word_lengths': 0.5} \n",
      "[CV]  clf__loss=log, clf__penalty=l2, features__transformer_weights={'char_level': 0.9, 'word_level': 0.3, 'word_lengths': 0.5}, score=0.963020030816641, total=   2.4s\n",
      "[CV] clf__loss=log, clf__penalty=l2, features__transformer_weights={'char_level': 0.9, 'word_level': 0.3, 'word_lengths': 0.5} \n",
      "[CV]  clf__loss=log, clf__penalty=l2, features__transformer_weights={'char_level': 0.9, 'word_level': 0.3, 'word_lengths': 0.5}, score=0.9633911368015414, total=   2.3s\n",
      "[CV] clf__loss=log, clf__penalty=elasticnet, features__transformer_weights={'char_level': 0.2, 'word_level': 0.1, 'word_lengths': 0.4} \n",
      "[CV]  clf__loss=log, clf__penalty=elasticnet, features__transformer_weights={'char_level': 0.2, 'word_level': 0.1, 'word_lengths': 0.4}, score=0.9680400462071621, total=   4.7s\n",
      "[CV] clf__loss=log, clf__penalty=elasticnet, features__transformer_weights={'char_level': 0.2, 'word_level': 0.1, 'word_lengths': 0.4} \n",
      "[CV]  clf__loss=log, clf__penalty=elasticnet, features__transformer_weights={'char_level': 0.2, 'word_level': 0.1, 'word_lengths': 0.4}, score=0.9622496147919877, total=   4.8s\n",
      "[CV] clf__loss=log, clf__penalty=elasticnet, features__transformer_weights={'char_level': 0.2, 'word_level': 0.1, 'word_lengths': 0.4} \n",
      "[CV]  clf__loss=log, clf__penalty=elasticnet, features__transformer_weights={'char_level': 0.2, 'word_level': 0.1, 'word_lengths': 0.4}, score=0.9614643545279383, total=   4.7s\n",
      "[CV] clf__loss=log, clf__penalty=elasticnet, features__transformer_weights={'char_level': 0.4, 'word_level': 0.6, 'word_lengths': 0.8} \n",
      "[CV]  clf__loss=log, clf__penalty=elasticnet, features__transformer_weights={'char_level': 0.4, 'word_level': 0.6, 'word_lengths': 0.8}, score=0.9699653446284174, total=   4.8s\n",
      "[CV] clf__loss=log, clf__penalty=elasticnet, features__transformer_weights={'char_level': 0.4, 'word_level': 0.6, 'word_lengths': 0.8} \n",
      "[CV]  clf__loss=log, clf__penalty=elasticnet, features__transformer_weights={'char_level': 0.4, 'word_level': 0.6, 'word_lengths': 0.8}, score=0.9626348228043143, total=   4.7s\n",
      "[CV] clf__loss=log, clf__penalty=elasticnet, features__transformer_weights={'char_level': 0.4, 'word_level': 0.6, 'word_lengths': 0.8} \n",
      "[CV]  clf__loss=log, clf__penalty=elasticnet, features__transformer_weights={'char_level': 0.4, 'word_level': 0.6, 'word_lengths': 0.8}, score=0.9618497109826589, total=   5.0s\n",
      "[CV] clf__loss=log, clf__penalty=elasticnet, features__transformer_weights={'char_level': 0.9, 'word_level': 0.3, 'word_lengths': 0.5} \n",
      "[CV]  clf__loss=log, clf__penalty=elasticnet, features__transformer_weights={'char_level': 0.9, 'word_level': 0.3, 'word_lengths': 0.5}, score=0.9695802849441664, total=   4.8s\n",
      "[CV] clf__loss=log, clf__penalty=elasticnet, features__transformer_weights={'char_level': 0.9, 'word_level': 0.3, 'word_lengths': 0.5} \n",
      "[CV]  clf__loss=log, clf__penalty=elasticnet, features__transformer_weights={'char_level': 0.9, 'word_level': 0.3, 'word_lengths': 0.5}, score=0.9626348228043143, total=   4.7s\n",
      "[CV] clf__loss=log, clf__penalty=elasticnet, features__transformer_weights={'char_level': 0.9, 'word_level': 0.3, 'word_lengths': 0.5} \n",
      "[CV]  clf__loss=log, clf__penalty=elasticnet, features__transformer_weights={'char_level': 0.9, 'word_level': 0.3, 'word_lengths': 0.5}, score=0.9618497109826589, total=   4.8s\n",
      "[CV] clf__loss=perceptron, clf__penalty=l1, features__transformer_weights={'char_level': 0.2, 'word_level': 0.1, 'word_lengths': 0.4} \n",
      "[CV]  clf__loss=perceptron, clf__penalty=l1, features__transformer_weights={'char_level': 0.2, 'word_level': 0.1, 'word_lengths': 0.4}, score=0.9572583750481325, total=   2.9s\n",
      "[CV] clf__loss=perceptron, clf__penalty=l1, features__transformer_weights={'char_level': 0.2, 'word_level': 0.1, 'word_lengths': 0.4} \n",
      "[CV]  clf__loss=perceptron, clf__penalty=l1, features__transformer_weights={'char_level': 0.2, 'word_level': 0.1, 'word_lengths': 0.4}, score=0.9368258859784283, total=   3.0s\n",
      "[CV] clf__loss=perceptron, clf__penalty=l1, features__transformer_weights={'char_level': 0.2, 'word_level': 0.1, 'word_lengths': 0.4} \n",
      "[CV]  clf__loss=perceptron, clf__penalty=l1, features__transformer_weights={'char_level': 0.2, 'word_level': 0.1, 'word_lengths': 0.4}, score=0.9560693641618497, total=   2.9s\n",
      "[CV] clf__loss=perceptron, clf__penalty=l1, features__transformer_weights={'char_level': 0.4, 'word_level': 0.6, 'word_lengths': 0.8} \n",
      "[CV]  clf__loss=perceptron, clf__penalty=l1, features__transformer_weights={'char_level': 0.4, 'word_level': 0.6, 'word_lengths': 0.8}, score=0.9534077782056218, total=   2.8s\n",
      "[CV] clf__loss=perceptron, clf__penalty=l1, features__transformer_weights={'char_level': 0.4, 'word_level': 0.6, 'word_lengths': 0.8} \n",
      "[CV]  clf__loss=perceptron, clf__penalty=l1, features__transformer_weights={'char_level': 0.4, 'word_level': 0.6, 'word_lengths': 0.8}, score=0.9587827426810478, total=   2.9s\n",
      "[CV] clf__loss=perceptron, clf__penalty=l1, features__transformer_weights={'char_level': 0.4, 'word_level': 0.6, 'word_lengths': 0.8} \n",
      "[CV]  clf__loss=perceptron, clf__penalty=l1, features__transformer_weights={'char_level': 0.4, 'word_level': 0.6, 'word_lengths': 0.8}, score=0.9614643545279383, total=   3.1s\n",
      "[CV] clf__loss=perceptron, clf__penalty=l1, features__transformer_weights={'char_level': 0.9, 'word_level': 0.3, 'word_lengths': 0.5} \n",
      "[CV]  clf__loss=perceptron, clf__penalty=l1, features__transformer_weights={'char_level': 0.9, 'word_level': 0.3, 'word_lengths': 0.5}, score=0.9564882556796304, total=   3.0s\n",
      "[CV] clf__loss=perceptron, clf__penalty=l1, features__transformer_weights={'char_level': 0.9, 'word_level': 0.3, 'word_lengths': 0.5} \n",
      "[CV]  clf__loss=perceptron, clf__penalty=l1, features__transformer_weights={'char_level': 0.9, 'word_level': 0.3, 'word_lengths': 0.5}, score=0.9614791987673343, total=   3.1s\n",
      "[CV] clf__loss=perceptron, clf__penalty=l1, features__transformer_weights={'char_level': 0.9, 'word_level': 0.3, 'word_lengths': 0.5} \n"
     ]
    },
    {
     "name": "stdout",
     "output_type": "stream",
     "text": [
      "[CV]  clf__loss=perceptron, clf__penalty=l1, features__transformer_weights={'char_level': 0.9, 'word_level': 0.3, 'word_lengths': 0.5}, score=0.9529865125240847, total=   3.1s\n",
      "[CV] clf__loss=perceptron, clf__penalty=l2, features__transformer_weights={'char_level': 0.2, 'word_level': 0.1, 'word_lengths': 0.4} \n",
      "[CV]  clf__loss=perceptron, clf__penalty=l2, features__transformer_weights={'char_level': 0.2, 'word_level': 0.1, 'word_lengths': 0.4}, score=0.9772814786291876, total=   1.8s\n",
      "[CV] clf__loss=perceptron, clf__penalty=l2, features__transformer_weights={'char_level': 0.2, 'word_level': 0.1, 'word_lengths': 0.4} \n",
      "[CV]  clf__loss=perceptron, clf__penalty=l2, features__transformer_weights={'char_level': 0.2, 'word_level': 0.1, 'word_lengths': 0.4}, score=0.9711093990755008, total=   1.7s\n",
      "[CV] clf__loss=perceptron, clf__penalty=l2, features__transformer_weights={'char_level': 0.2, 'word_level': 0.1, 'word_lengths': 0.4} \n",
      "[CV]  clf__loss=perceptron, clf__penalty=l2, features__transformer_weights={'char_level': 0.2, 'word_level': 0.1, 'word_lengths': 0.4}, score=0.9761078998073218, total=   1.8s\n",
      "[CV] clf__loss=perceptron, clf__penalty=l2, features__transformer_weights={'char_level': 0.4, 'word_level': 0.6, 'word_lengths': 0.8} \n",
      "[CV]  clf__loss=perceptron, clf__penalty=l2, features__transformer_weights={'char_level': 0.4, 'word_level': 0.6, 'word_lengths': 0.8}, score=0.9776665383134386, total=   1.7s\n",
      "[CV] clf__loss=perceptron, clf__penalty=l2, features__transformer_weights={'char_level': 0.4, 'word_level': 0.6, 'word_lengths': 0.8} \n",
      "[CV]  clf__loss=perceptron, clf__penalty=l2, features__transformer_weights={'char_level': 0.4, 'word_level': 0.6, 'word_lengths': 0.8}, score=0.9691833590138675, total=   1.8s\n",
      "[CV] clf__loss=perceptron, clf__penalty=l2, features__transformer_weights={'char_level': 0.4, 'word_level': 0.6, 'word_lengths': 0.8} \n",
      "[CV]  clf__loss=perceptron, clf__penalty=l2, features__transformer_weights={'char_level': 0.4, 'word_level': 0.6, 'word_lengths': 0.8}, score=0.9757225433526011, total=   1.8s\n",
      "[CV] clf__loss=perceptron, clf__penalty=l2, features__transformer_weights={'char_level': 0.9, 'word_level': 0.3, 'word_lengths': 0.5} \n",
      "[CV]  clf__loss=perceptron, clf__penalty=l2, features__transformer_weights={'char_level': 0.9, 'word_level': 0.3, 'word_lengths': 0.5}, score=0.9649595687331537, total=   1.6s\n",
      "[CV] clf__loss=perceptron, clf__penalty=l2, features__transformer_weights={'char_level': 0.9, 'word_level': 0.3, 'word_lengths': 0.5} \n",
      "[CV]  clf__loss=perceptron, clf__penalty=l2, features__transformer_weights={'char_level': 0.9, 'word_level': 0.3, 'word_lengths': 0.5}, score=0.9687981510015409, total=   1.9s\n",
      "[CV] clf__loss=perceptron, clf__penalty=l2, features__transformer_weights={'char_level': 0.9, 'word_level': 0.3, 'word_lengths': 0.5} \n",
      "[CV]  clf__loss=perceptron, clf__penalty=l2, features__transformer_weights={'char_level': 0.9, 'word_level': 0.3, 'word_lengths': 0.5}, score=0.9695568400770713, total=   1.8s\n",
      "[CV] clf__loss=perceptron, clf__penalty=elasticnet, features__transformer_weights={'char_level': 0.2, 'word_level': 0.1, 'word_lengths': 0.4} \n",
      "[CV]  clf__loss=perceptron, clf__penalty=elasticnet, features__transformer_weights={'char_level': 0.2, 'word_level': 0.1, 'word_lengths': 0.4}, score=0.9634193299961494, total=   3.1s\n",
      "[CV] clf__loss=perceptron, clf__penalty=elasticnet, features__transformer_weights={'char_level': 0.2, 'word_level': 0.1, 'word_lengths': 0.4} \n",
      "[CV]  clf__loss=perceptron, clf__penalty=elasticnet, features__transformer_weights={'char_level': 0.2, 'word_level': 0.1, 'word_lengths': 0.4}, score=0.9264252696456087, total=   3.4s\n",
      "[CV] clf__loss=perceptron, clf__penalty=elasticnet, features__transformer_weights={'char_level': 0.2, 'word_level': 0.1, 'word_lengths': 0.4} \n",
      "[CV]  clf__loss=perceptron, clf__penalty=elasticnet, features__transformer_weights={'char_level': 0.2, 'word_level': 0.1, 'word_lengths': 0.4}, score=0.9645472061657033, total=   3.1s\n",
      "[CV] clf__loss=perceptron, clf__penalty=elasticnet, features__transformer_weights={'char_level': 0.4, 'word_level': 0.6, 'word_lengths': 0.8} \n",
      "[CV]  clf__loss=perceptron, clf__penalty=elasticnet, features__transformer_weights={'char_level': 0.4, 'word_level': 0.6, 'word_lengths': 0.8}, score=0.96726992683866, total=   2.9s\n",
      "[CV] clf__loss=perceptron, clf__penalty=elasticnet, features__transformer_weights={'char_level': 0.4, 'word_level': 0.6, 'word_lengths': 0.8} \n",
      "[CV]  clf__loss=perceptron, clf__penalty=elasticnet, features__transformer_weights={'char_level': 0.4, 'word_level': 0.6, 'word_lengths': 0.8}, score=0.9676425269645609, total=   3.4s\n",
      "[CV] clf__loss=perceptron, clf__penalty=elasticnet, features__transformer_weights={'char_level': 0.4, 'word_level': 0.6, 'word_lengths': 0.8} \n",
      "[CV]  clf__loss=perceptron, clf__penalty=elasticnet, features__transformer_weights={'char_level': 0.4, 'word_level': 0.6, 'word_lengths': 0.8}, score=0.9714836223506744, total=   3.1s\n",
      "[CV] clf__loss=perceptron, clf__penalty=elasticnet, features__transformer_weights={'char_level': 0.9, 'word_level': 0.3, 'word_lengths': 0.5} \n",
      "[CV]  clf__loss=perceptron, clf__penalty=elasticnet, features__transformer_weights={'char_level': 0.9, 'word_level': 0.3, 'word_lengths': 0.5}, score=0.9730458221024259, total=   3.0s\n",
      "[CV] clf__loss=perceptron, clf__penalty=elasticnet, features__transformer_weights={'char_level': 0.9, 'word_level': 0.3, 'word_lengths': 0.5} \n",
      "[CV]  clf__loss=perceptron, clf__penalty=elasticnet, features__transformer_weights={'char_level': 0.9, 'word_level': 0.3, 'word_lengths': 0.5}, score=0.9576271186440678, total=   3.4s\n",
      "[CV] clf__loss=perceptron, clf__penalty=elasticnet, features__transformer_weights={'char_level': 0.9, 'word_level': 0.3, 'word_lengths': 0.5} \n",
      "[CV]  clf__loss=perceptron, clf__penalty=elasticnet, features__transformer_weights={'char_level': 0.9, 'word_level': 0.3, 'word_lengths': 0.5}, score=0.9610789980732177, total=   3.3s\n"
     ]
    },
    {
     "name": "stderr",
     "output_type": "stream",
     "text": [
      "[Parallel(n_jobs=1)]: Done 108 out of 108 | elapsed:  6.9min finished\n"
     ]
    }
   ],
   "source": [
    "if __name__ == '__main__':\n",
    "    \n",
    "    ic = IranianNames()\n",
    "    \n",
    "    # split into the training and testing sets\n",
    "    X_train, X_test, y_train, y_test = train_test_split(ic.data.drop(['is_polish'], axis=1), \n",
    "                                                        ic.data['is_polish'],  test_size=0.2, \n",
    "                                                        random_state=391, stratify=ic.data['is_polish'])\n",
    "    \n",
    "\n",
    "    pipe = Pipeline([('select_fullname', Selector('full_name')),  # df with 1 column\n",
    "                        ('features', FeatureUnion(\n",
    "                             [('char_level', CountVectorizer(strip_accents='ascii', analyzer='char', \n",
    "                                                          ngram_range=(1, 4))),\n",
    "                              ('word_level', CountVectorizer(strip_accents='ascii', analyzer='word',\n",
    "                                                       ngram_range=(1,2))),\n",
    "                              ('word_lengths', WordLengths()),\n",
    "                              ('firstlast', FirstLast())],\n",
    "                                 transformer_weights={\n",
    "                                            'char_level': 0.8,\n",
    "                                            'word_level': 0.5,\n",
    "                                            'word_lengths': 1.0,\n",
    "                                                        })\n",
    "                     ),\n",
    "                     ('normalise', Normalizer()),\n",
    "                    ('clf', SGDClassifier(max_iter=1000))])\n",
    "    \n",
    "    param_grid = {'features__transformer_weights': [{'char_level': 0.2,\n",
    "                                                     'word_level': 0.1,\n",
    "                                                     'word_lengths':0.4}, \n",
    "                                                   {'char_level': 0.4,\n",
    "                                                     'word_level': 0.6,\n",
    "                                                     'word_lengths':0.8},\n",
    "                                                   {'char_level': 0.9,\n",
    "                                                     'word_level': 0.3,\n",
    "                                                     'word_lengths':0.5}],\n",
    "                    \"clf__loss\": ['hinge', 'modified_huber', 'log', 'perceptron'],\n",
    "                     'clf__penalty': ['l1','l2','elasticnet']}\n",
    "    \n",
    "    grid_search = GridSearchCV(pipe, param_grid=param_grid, verbose=10)\n",
    "    \n",
    "    grid_search.fit(X_train, y_train)"
   ]
  },
  {
   "cell_type": "code",
   "execution_count": 36,
   "metadata": {},
   "outputs": [
    {
     "name": "stdout",
     "output_type": "stream",
     "text": [
      "             precision    recall  f1-score   support\n",
      "\n",
      "          0       0.98      0.99      0.98      1451\n",
      "          1       0.97      0.94      0.95       497\n",
      "\n",
      "avg / total       0.98      0.98      0.98      1948\n",
      "\n"
     ]
    }
   ],
   "source": [
    "print(classification_report(y_test, grid_search.predict(X_test)))"
   ]
  },
  {
   "cell_type": "code",
   "execution_count": 37,
   "metadata": {},
   "outputs": [
    {
     "data": {
      "text/plain": [
       "array([0, 0, 0, 0, 0, 1])"
      ]
     },
     "execution_count": 37,
     "metadata": {},
     "output_type": "execute_result"
    }
   ],
   "source": [
    "grid_search.predict(pd.DataFrame({'full_name': ['mohammad kumar', 'mehri','nejad myriam','hosein', 'QUI CHAN','babak']}))"
   ]
  },
  {
   "cell_type": "code",
   "execution_count": 38,
   "metadata": {},
   "outputs": [
    {
     "data": {
      "text/plain": [
       "{'clf__loss': 'modified_huber',\n",
       " 'clf__penalty': 'elasticnet',\n",
       " 'features__transformer_weights': {'char_level': 0.2,\n",
       "  'word_lengths': 0.4,\n",
       "  'word_level': 0.1}}"
      ]
     },
     "execution_count": 38,
     "metadata": {},
     "output_type": "execute_result"
    }
   ],
   "source": [
    "grid_search.best_params_"
   ]
  },
  {
   "cell_type": "code",
   "execution_count": null,
   "metadata": {},
   "outputs": [],
   "source": []
  }
 ],
 "metadata": {
  "kernelspec": {
   "display_name": "Python 3",
   "language": "python",
   "name": "python3"
  },
  "language_info": {
   "codemirror_mode": {
    "name": "ipython",
    "version": 3
   },
   "file_extension": ".py",
   "mimetype": "text/x-python",
   "name": "python",
   "nbconvert_exporter": "python",
   "pygments_lexer": "ipython3",
   "version": "3.6.4"
  }
 },
 "nbformat": 4,
 "nbformat_minor": 2
}
