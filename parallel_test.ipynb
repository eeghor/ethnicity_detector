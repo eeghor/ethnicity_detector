{
 "cells": [
  {
   "cell_type": "code",
   "execution_count": 1,
   "metadata": {},
   "outputs": [],
   "source": [
    "from ethnicitydetector import EthnicityDetector\n",
    "import pandas as pd\n",
    "from multiprocessing import Pool\n",
    "import numpy as np\n",
    "import time"
   ]
  },
  {
   "cell_type": "code",
   "execution_count": 2,
   "metadata": {},
   "outputs": [],
   "source": [
    "ed = EthnicityDetector()"
   ]
  },
  {
   "cell_type": "code",
   "execution_count": 3,
   "metadata": {},
   "outputs": [
    {
     "name": "stdout",
     "output_type": "stream",
     "text": [
      "indian\n",
      "japanese\n",
      "greek\n",
      "arabic\n",
      "turkish\n",
      "thai\n",
      "vietnamese\n",
      "balkan\n",
      "italian\n",
      "samoan\n",
      "hawaiian\n",
      "khmer\n",
      "chinese\n",
      "korean\n"
     ]
    }
   ],
   "source": [
    "for n in ed.ETHNICITY_LIST:\n",
    "    print(n)"
   ]
  },
  {
   "cell_type": "code",
   "execution_count": 4,
   "metadata": {},
   "outputs": [],
   "source": [
    "d = pd.read_csv(\"/Users/ik/Data/customers/all-customers-18092017.csv.gz\", encoding='latin-1',dtype=str, error_bad_lines=False)\n",
    "d[\"full_name\"] = d[\"first_name\"].fillna('') + ' ' + d[\"middle_name\"].fillna('') + ' ' + d[\"last_name\"].fillna('')"
   ]
  },
  {
   "cell_type": "code",
   "execution_count": null,
   "metadata": {},
   "outputs": [],
   "source": [
    "b = d\n",
    "\n",
    "# t0 = time.time()\n",
    "# b[\"ethnicity\"] = b[\"full_name\"].apply(ed.get_ethnicity)\n",
    "# print(\"elapsed time: {:.0f} min {:.0f} sec\".format(*divmod(time.time() - t0, 60)))\n",
    "\n",
    "vf = np.vectorize(ed.get_ethnicity)"
   ]
  },
  {
   "cell_type": "code",
   "execution_count": 10,
   "metadata": {},
   "outputs": [
    {
     "name": "stdout",
     "output_type": "stream",
     "text": [
      "elapsed time: 6 min 29 sec\n"
     ]
    }
   ],
   "source": [
    "def get_array_ethnicity(b):  \n",
    "    \"\"\"\n",
    "    IN: numpy array that has two columns, oned contains customer id and another a full name\n",
    "    OUT: numpy array with teo columns: customer id and ethnicity\n",
    "    \n",
    "    !NOTE: there will be 'None' where no ethnicityhas been detected \n",
    "    \"\"\"\n",
    "\n",
    "    ets = vf(b[:,-1])  # we assume that the second column contains full names\n",
    "    stk = np.hstack((b[:,0].reshape(b.shape[0],1), ets.reshape(b.shape[0],1)))\n",
    "\n",
    "    return stk\n",
    "\n",
    "t0 = time.time()\n",
    "\n",
    "pool = Pool(2)\n",
    "res = pd.DataFrame(np.vstack(pool.map(get_array_ethnicity, np.array_split(b.loc[:, [\"cust_id\",\"full_name\"]].values, 2))),\n",
    "                   columns=[\"CustomerID\", \"Ethnicity\"], dtype=str).query('Ethnicity != \"None\"')\n",
    "pool.close()\n",
    "pool.join()\n",
    "\n",
    "print(\"elapsed time: {:.0f} min {:.0f} sec\".format(*divmod(time.time() - t0, 60)))"
   ]
  },
  {
   "cell_type": "code",
   "execution_count": 6,
   "metadata": {},
   "outputs": [],
   "source": [
    "from collections import Counter"
   ]
  },
  {
   "cell_type": "code",
   "execution_count": 13,
   "metadata": {},
   "outputs": [],
   "source": [
    "chinese_ids = res[res.Ethnicity=='chinese']"
   ]
  },
  {
   "cell_type": "code",
   "execution_count": 22,
   "metadata": {},
   "outputs": [],
   "source": [
    "cn = d.join(chinese_ids.set_index(\"CustomerID\"), on=\"cust_id\", how=\"inner\", rsuffix=\"_x\")[[\"cust_id\", \"first_name\", \"middle_name\", \"last_name\"]]\n",
    "cn[\"full_name\"] = cn[\"first_name\"].fillna('') + ' ' + cn[\"middle_name\"].fillna('') + ' ' + cn[\"last_name\"].fillna('')"
   ]
  },
  {
   "cell_type": "code",
   "execution_count": 24,
   "metadata": {},
   "outputs": [],
   "source": [
    "cn[[\"cust_id\", \"full_name\"]].to_csv(\"chinese1.csv\", index=False)"
   ]
  },
  {
   "cell_type": "code",
   "execution_count": 11,
   "metadata": {},
   "outputs": [
    {
     "data": {
      "text/plain": [
       "[('korean', 334702),\n",
       " ('chinese', 305271),\n",
       " ('italian', 292394),\n",
       " ('indian', 209432),\n",
       " ('chinese|korean', 178657),\n",
       " ('arabic', 107944),\n",
       " ('greek', 94229),\n",
       " ('japanese', 88886),\n",
       " ('balkan', 84376),\n",
       " ('vietnamese', 80968),\n",
       " ('turkish', 42159),\n",
       " ('arabic|indian', 27677),\n",
       " ('arabic|indian|turkish', 21392),\n",
       " ('arabic|turkish', 14142),\n",
       " ('chinese|korean|vietnamese', 9323),\n",
       " ('hawaiian', 8207),\n",
       " ('thai', 6047),\n",
       " ('korean|vietnamese', 5578),\n",
       " ('khmer', 5509),\n",
       " ('samoan', 4891),\n",
       " ('japanese|korean', 4578),\n",
       " ('indian|italian', 2889),\n",
       " ('chinese|vietnamese', 2877),\n",
       " ('chinese|thai', 2743),\n",
       " ('chinese|japanese', 2211),\n",
       " ('indian|japanese', 1789),\n",
       " ('chinese|japanese|korean', 1724),\n",
       " ('arabic|italian', 1715),\n",
       " ('arabic|japanese', 1699),\n",
       " ('japanese|thai', 1542)]"
      ]
     },
     "execution_count": 11,
     "metadata": {},
     "output_type": "execute_result"
    }
   ],
   "source": [
    "Counter(res.Ethnicity).most_common(30)"
   ]
  },
  {
   "cell_type": "code",
   "execution_count": 8,
   "metadata": {},
   "outputs": [
    {
     "name": "stdout",
     "output_type": "stream",
     "text": [
      "elapsed time: 9 min 48 sec\n"
     ]
    }
   ],
   "source": [
    "t0 = time.time()\n",
    "\n",
    "b[\"Ethnicity\"] = b[\"full_name\"].apply(ed.get_ethnicity)\n",
    "\n",
    "print(\"elapsed time: {:.0f} min {:.0f} sec\".format(*divmod(time.time() - t0, 60)))"
   ]
  },
  {
   "cell_type": "code",
   "execution_count": 9,
   "metadata": {},
   "outputs": [
    {
     "data": {
      "text/plain": [
       "[(None, 17203181),\n",
       " ('korean', 334702),\n",
       " ('chinese', 305271),\n",
       " ('italian', 292394),\n",
       " ('indian', 209432),\n",
       " ('chinese|korean', 178657),\n",
       " ('arabic', 107944),\n",
       " ('greek', 94229),\n",
       " ('japanese', 88886),\n",
       " ('balkan', 84376),\n",
       " ('vietnamese', 80968),\n",
       " ('turkish', 42159),\n",
       " ('arabic|indian', 27677),\n",
       " ('arabic|indian|turkish', 21392),\n",
       " ('arabic|turkish', 14142)]"
      ]
     },
     "execution_count": 9,
     "metadata": {},
     "output_type": "execute_result"
    }
   ],
   "source": [
    "Counter(b.Ethnicity).most_common(15)"
   ]
  },
  {
   "cell_type": "code",
   "execution_count": null,
   "metadata": {},
   "outputs": [],
   "source": []
  }
 ],
 "metadata": {
  "kernelspec": {
   "display_name": "Python 3",
   "language": "python",
   "name": "python3"
  },
  "language_info": {
   "codemirror_mode": {
    "name": "ipython",
    "version": 3
   },
   "file_extension": ".py",
   "mimetype": "text/x-python",
   "name": "python",
   "nbconvert_exporter": "python",
   "pygments_lexer": "ipython3",
   "version": "3.6.3"
  }
 },
 "nbformat": 4,
 "nbformat_minor": 2
}
