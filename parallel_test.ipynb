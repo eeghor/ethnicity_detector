{
 "cells": [
  {
   "cell_type": "code",
   "execution_count": 13,
   "metadata": {},
   "outputs": [],
   "source": [
    "from ethnicitydetector import EthnicityDetector\n",
    "import pandas as pd\n",
    "from multiprocessing import Pool\n",
    "import numpy as np\n",
    "import time\n",
    "from collections import Counter"
   ]
  },
  {
   "cell_type": "code",
   "execution_count": 14,
   "metadata": {},
   "outputs": [],
   "source": [
    "ed = EthnicityDetector()"
   ]
  },
  {
   "cell_type": "code",
   "execution_count": 15,
   "metadata": {},
   "outputs": [
    {
     "name": "stdout",
     "output_type": "stream",
     "text": [
      "indian\n",
      "japanese\n",
      "greek\n",
      "arabic\n",
      "turkish\n",
      "thai\n",
      "vietnamese\n",
      "balkan\n",
      "italian\n",
      "samoan\n",
      "hawaiian\n",
      "khmer\n",
      "chinese\n",
      "korean\n"
     ]
    }
   ],
   "source": [
    "for n in ed.ETHNICITY_LIST:\n",
    "    print(n)"
   ]
  },
  {
   "cell_type": "code",
   "execution_count": 16,
   "metadata": {},
   "outputs": [],
   "source": [
    "d = pd.read_csv(\"/Users/ik/Data/customers/all-customers-18092017.csv.gz\", encoding='latin-1',dtype=str, error_bad_lines=False)\n",
    "d[\"full_name\"] = d[\"first_name\"].fillna('') + ' ' + d[\"middle_name\"].fillna('') + ' ' + d[\"last_name\"].fillna('')"
   ]
  },
  {
   "cell_type": "code",
   "execution_count": 17,
   "metadata": {},
   "outputs": [],
   "source": [
    "b = d\n",
    "\n",
    "# t0 = time.time()\n",
    "# b[\"ethnicity\"] = b[\"full_name\"].apply(ed.get_ethnicity)\n",
    "# print(\"elapsed time: {:.0f} min {:.0f} sec\".format(*divmod(time.time() - t0, 60)))\n",
    "\n",
    "vf = np.vectorize(ed.get_ethnicity)"
   ]
  },
  {
   "cell_type": "code",
   "execution_count": 18,
   "metadata": {},
   "outputs": [
    {
     "name": "stdout",
     "output_type": "stream",
     "text": [
      "elapsed time: 6 min 52 sec\n"
     ]
    }
   ],
   "source": [
    "def get_array_ethnicity(b):  \n",
    "    \"\"\"\n",
    "    IN: numpy array that has two columns, oned contains customer id and another a full name\n",
    "    OUT: numpy array with teo columns: customer id and ethnicity\n",
    "    \n",
    "    !NOTE: there will be 'None' where no ethnicityhas been detected \n",
    "    \"\"\"\n",
    "\n",
    "    ets = vf(b[:,-1])  # we assume that the second column contains full names\n",
    "    stk = np.hstack((b[:,0].reshape(b.shape[0],1), ets.reshape(b.shape[0],1)))\n",
    "\n",
    "    return stk\n",
    "\n",
    "t0 = time.time()\n",
    "\n",
    "pool = Pool(2)\n",
    "res = pd.DataFrame(np.vstack(pool.map(get_array_ethnicity, np.array_split(b.loc[:, [\"cust_id\",\"full_name\"]].values, 2))),\n",
    "                   columns=[\"CustomerID\", \"Ethnicity\"], dtype=str).query('Ethnicity != \"None\"')\n",
    "pool.close()\n",
    "pool.join()\n",
    "\n",
    "print(\"elapsed time: {:.0f} min {:.0f} sec\".format(*divmod(time.time() - t0, 60)))"
   ]
  },
  {
   "cell_type": "code",
   "execution_count": 21,
   "metadata": {},
   "outputs": [
    {
     "data": {
      "text/html": [
       "<div>\n",
       "<style scoped>\n",
       "    .dataframe tbody tr th:only-of-type {\n",
       "        vertical-align: middle;\n",
       "    }\n",
       "\n",
       "    .dataframe tbody tr th {\n",
       "        vertical-align: top;\n",
       "    }\n",
       "\n",
       "    .dataframe thead th {\n",
       "        text-align: right;\n",
       "    }\n",
       "</style>\n",
       "<table border=\"1\" class=\"dataframe\">\n",
       "  <thead>\n",
       "    <tr style=\"text-align: right;\">\n",
       "      <th></th>\n",
       "      <th>CustomerID</th>\n",
       "      <th>Ethnicity</th>\n",
       "    </tr>\n",
       "  </thead>\n",
       "  <tbody>\n",
       "    <tr>\n",
       "      <th>0</th>\n",
       "      <td>3161590</td>\n",
       "      <td>italian</td>\n",
       "    </tr>\n",
       "    <tr>\n",
       "      <th>1</th>\n",
       "      <td>3161606</td>\n",
       "      <td></td>\n",
       "    </tr>\n",
       "    <tr>\n",
       "      <th>2</th>\n",
       "      <td>3161623</td>\n",
       "      <td></td>\n",
       "    </tr>\n",
       "    <tr>\n",
       "      <th>3</th>\n",
       "      <td>3161636</td>\n",
       "      <td></td>\n",
       "    </tr>\n",
       "    <tr>\n",
       "      <th>4</th>\n",
       "      <td>3161641</td>\n",
       "      <td></td>\n",
       "    </tr>\n",
       "  </tbody>\n",
       "</table>\n",
       "</div>"
      ],
      "text/plain": [
       "  CustomerID Ethnicity\n",
       "0    3161590   italian\n",
       "1    3161606          \n",
       "2    3161623          \n",
       "3    3161636          \n",
       "4    3161641          "
      ]
     },
     "execution_count": 21,
     "metadata": {},
     "output_type": "execute_result"
    }
   ],
   "source": [
    "res.head()"
   ]
  },
  {
   "cell_type": "code",
   "execution_count": 22,
   "metadata": {},
   "outputs": [
    {
     "data": {
      "text/plain": [
       "[('', 17180779),\n",
       " ('korean', 334702),\n",
       " ('chinese', 295149),\n",
       " ('italian', 292394),\n",
       " ('indian', 209432),\n",
       " ('chinese|korean', 178657),\n",
       " ('arabic', 107944),\n",
       " ('greek', 94229),\n",
       " ('japanese', 88886),\n",
       " ('balkan', 84376),\n",
       " ('vietnamese', 80968),\n",
       " ('turkish', 42159),\n",
       " ('arabic|indian', 27677),\n",
       " ('arabic|indian|turkish', 21392),\n",
       " ('arabic|turkish', 14142),\n",
       " ('chinese|korean|vietnamese', 9323),\n",
       " ('hawaiian', 8207),\n",
       " ('thai', 6047),\n",
       " ('korean|vietnamese', 5578),\n",
       " ('khmer', 5509),\n",
       " ('samoan', 4891),\n",
       " ('japanese|korean', 4578),\n",
       " ('indian|italian', 2889),\n",
       " ('chinese|vietnamese', 2877),\n",
       " ('chinese|thai', 2743),\n",
       " ('chinese|japanese', 2211),\n",
       " ('indian|japanese', 1789),\n",
       " ('chinese|japanese|korean', 1724),\n",
       " ('arabic|italian', 1715),\n",
       " ('arabic|japanese', 1699)]"
      ]
     },
     "execution_count": 22,
     "metadata": {},
     "output_type": "execute_result"
    }
   ],
   "source": [
    "Counter(res.Ethnicity).most_common(30)"
   ]
  },
  {
   "cell_type": "code",
   "execution_count": 8,
   "metadata": {},
   "outputs": [
    {
     "name": "stdout",
     "output_type": "stream",
     "text": [
      "elapsed time: 9 min 48 sec\n"
     ]
    }
   ],
   "source": [
    "t0 = time.time()\n",
    "\n",
    "b[\"Ethnicity\"] = b[\"full_name\"].apply(ed.get_ethnicity)\n",
    "\n",
    "print(\"elapsed time: {:.0f} min {:.0f} sec\".format(*divmod(time.time() - t0, 60)))"
   ]
  },
  {
   "cell_type": "code",
   "execution_count": 34,
   "metadata": {},
   "outputs": [
    {
     "data": {
      "text/plain": [
       "[('korean', 334702),\n",
       " ('chinese', 295149),\n",
       " ('italian', 292394),\n",
       " ('indian', 209432),\n",
       " ('chinese|korean', 178657),\n",
       " ('arabic', 107944),\n",
       " ('greek', 94229),\n",
       " ('japanese', 88886),\n",
       " ('balkan', 84376),\n",
       " ('vietnamese', 80968),\n",
       " ('turkish', 42159),\n",
       " ('arabic|indian', 27677),\n",
       " ('arabic|indian|turkish', 21392),\n",
       " ('arabic|turkish', 14142),\n",
       " ('chinese|korean|vietnamese', 9323)]"
      ]
     },
     "execution_count": 34,
     "metadata": {},
     "output_type": "execute_result"
    }
   ],
   "source": [
    "Counter(res1.Ethnicity).most_common(15)"
   ]
  },
  {
   "cell_type": "code",
   "execution_count": 24,
   "metadata": {},
   "outputs": [],
   "source": [
    "import arrow\n",
    "TODAY_SYD = arrow.utcnow().to('Australia/Sydney').format('DD-MM-YYYY')"
   ]
  },
  {
   "cell_type": "code",
   "execution_count": 26,
   "metadata": {},
   "outputs": [],
   "source": [
    "res['AssignedOn'] = TODAY_SYD"
   ]
  },
  {
   "cell_type": "code",
   "execution_count": 30,
   "metadata": {},
   "outputs": [],
   "source": [
    "res1 = res.loc[res.Ethnicity.apply(lambda x: len(x) > 3)]"
   ]
  },
  {
   "cell_type": "code",
   "execution_count": 31,
   "metadata": {},
   "outputs": [
    {
     "data": {
      "text/plain": [
       "1961415"
      ]
     },
     "execution_count": 31,
     "metadata": {},
     "output_type": "execute_result"
    }
   ],
   "source": [
    "len(res1)"
   ]
  },
  {
   "cell_type": "code",
   "execution_count": 32,
   "metadata": {},
   "outputs": [
    {
     "data": {
      "text/plain": [
       "19142194"
      ]
     },
     "execution_count": 32,
     "metadata": {},
     "output_type": "execute_result"
    }
   ],
   "source": [
    "len(res)"
   ]
  },
  {
   "cell_type": "code",
   "execution_count": 33,
   "metadata": {},
   "outputs": [],
   "source": [
    "res1.to_csv('CustomerEthnicities.csv', index=False)"
   ]
  },
  {
   "cell_type": "code",
   "execution_count": 29,
   "metadata": {},
   "outputs": [],
   "source": [
    "d1.loc[:,[\"cust_id\", \"full_name\"]].sample(n=200000).to_csv(\"sample_other.csv\", index=None)"
   ]
  },
  {
   "cell_type": "code",
   "execution_count": 44,
   "metadata": {},
   "outputs": [],
   "source": [
    "nocn = pd.concat([pd.read_csv(\"sample_arabic.csv\", dtype=str)\n",
    "                  .join(d.loc[:,[\"cust_id\", \"full_name\"]]\n",
    "                        .set_index(\"cust_id\"), on=\"CustomerID\", how=\"inner\"),\n",
    "                 pd.read_csv(\"sample_balkan.csv\", dtype=str)\n",
    "                  .join(d.loc[:,[\"cust_id\", \"full_name\"]]\n",
    "                        .set_index(\"cust_id\"), on=\"CustomerID\", how=\"inner\"),\n",
    "                 pd.read_csv(\"sample_greek.csv\", dtype=str)\n",
    "                  .join(d.loc[:,[\"cust_id\", \"full_name\"]]\n",
    "                        .set_index(\"cust_id\"), on=\"CustomerID\", how=\"inner\"),\n",
    "                 pd.read_csv(\"sample_hawaiian.csv\", dtype=str)\n",
    "                  .join(d.loc[:,[\"cust_id\", \"full_name\"]]\n",
    "                        .set_index(\"cust_id\"), on=\"CustomerID\", how=\"inner\"),\n",
    "                 pd.read_csv(\"sample_indian.csv\", dtype=str)\n",
    "                  .join(d.loc[:,[\"cust_id\", \"full_name\"]]\n",
    "                        .set_index(\"cust_id\"), on=\"CustomerID\", how=\"inner\"),\n",
    "                 pd.read_csv(\"sample_italian.csv\", dtype=str)\n",
    "                  .join(d.loc[:,[\"cust_id\", \"full_name\"]]\n",
    "                        .set_index(\"cust_id\"), on=\"CustomerID\", how=\"inner\"),\n",
    "                 pd.read_csv(\"sample_japanese.csv\", dtype=str)\n",
    "                  .join(d.loc[:,[\"cust_id\", \"full_name\"]]\n",
    "                        .set_index(\"cust_id\"), on=\"CustomerID\", how=\"inner\"),\n",
    "                 pd.read_csv(\"sample_khmer.csv\", dtype=str)\n",
    "                  .join(d.loc[:,[\"cust_id\", \"full_name\"]]\n",
    "                        .set_index(\"cust_id\"), on=\"CustomerID\", how=\"inner\"),\n",
    "                 pd.read_csv(\"sample_samoan.csv\", dtype=str)\n",
    "                  .join(d.loc[:,[\"cust_id\", \"full_name\"]]\n",
    "                        .set_index(\"cust_id\"), on=\"CustomerID\", how=\"inner\"),\n",
    "                 pd.read_csv(\"sample_turkish.csv\", dtype=str)\n",
    "                  .join(d.loc[:,[\"cust_id\", \"full_name\"]]\n",
    "                        .set_index(\"cust_id\"), on=\"CustomerID\", how=\"inner\"),\n",
    "                 pd.read_csv(\"sample_vietnamese.csv\", dtype=str)\n",
    "                  .join(d.loc[:,[\"cust_id\", \"full_name\"]]\n",
    "                        .set_index(\"cust_id\"), on=\"CustomerID\", how=\"inner\"),\n",
    "                 pd.read_csv(\"sample_korean.csv\", dtype=str)\n",
    "                  .join(d.loc[:,[\"cust_id\", \"full_name\"]]\n",
    "                        .set_index(\"cust_id\"), on=\"CustomerID\", how=\"inner\")])"
   ]
  },
  {
   "cell_type": "code",
   "execution_count": 55,
   "metadata": {},
   "outputs": [],
   "source": [
    "oz = oz.rename(columns={\"full_name\": \"FullName\", \"cust_id\": \"CustomerID\"})"
   ]
  },
  {
   "cell_type": "code",
   "execution_count": 56,
   "metadata": {},
   "outputs": [
    {
     "data": {
      "text/html": [
       "<div>\n",
       "<style scoped>\n",
       "    .dataframe tbody tr th:only-of-type {\n",
       "        vertical-align: middle;\n",
       "    }\n",
       "\n",
       "    .dataframe tbody tr th {\n",
       "        vertical-align: top;\n",
       "    }\n",
       "\n",
       "    .dataframe thead th {\n",
       "        text-align: right;\n",
       "    }\n",
       "</style>\n",
       "<table border=\"1\" class=\"dataframe\">\n",
       "  <thead>\n",
       "    <tr style=\"text-align: right;\">\n",
       "      <th></th>\n",
       "      <th>CustomerID</th>\n",
       "      <th>FullName</th>\n",
       "    </tr>\n",
       "  </thead>\n",
       "  <tbody>\n",
       "    <tr>\n",
       "      <th>0</th>\n",
       "      <td>22270069</td>\n",
       "      <td>rachel  hill</td>\n",
       "    </tr>\n",
       "    <tr>\n",
       "      <th>1</th>\n",
       "      <td>24101733</td>\n",
       "      <td>erica  lawrence</td>\n",
       "    </tr>\n",
       "    <tr>\n",
       "      <th>2</th>\n",
       "      <td>16313263</td>\n",
       "      <td>louise  otoole</td>\n",
       "    </tr>\n",
       "    <tr>\n",
       "      <th>3</th>\n",
       "      <td>25558717</td>\n",
       "      <td>anthony  roberts</td>\n",
       "    </tr>\n",
       "    <tr>\n",
       "      <th>4</th>\n",
       "      <td>21833584</td>\n",
       "      <td>angela  huggins</td>\n",
       "    </tr>\n",
       "  </tbody>\n",
       "</table>\n",
       "</div>"
      ],
      "text/plain": [
       "  CustomerID          FullName\n",
       "0   22270069      rachel  hill\n",
       "1   24101733   erica  lawrence\n",
       "2   16313263    louise  otoole\n",
       "3   25558717  anthony  roberts\n",
       "4   21833584   angela  huggins"
      ]
     },
     "execution_count": 56,
     "metadata": {},
     "output_type": "execute_result"
    }
   ],
   "source": [
    "oz.head()"
   ]
  },
  {
   "cell_type": "code",
   "execution_count": 60,
   "metadata": {},
   "outputs": [],
   "source": [
    "w.to_csv(\"ethnicities_not_chinese.csv\", index=False)"
   ]
  },
  {
   "cell_type": "code",
   "execution_count": 49,
   "metadata": {},
   "outputs": [],
   "source": [
    "oz = pd.read_csv(\"sample_other.csv\", dtype=str)"
   ]
  },
  {
   "cell_type": "code",
   "execution_count": 50,
   "metadata": {},
   "outputs": [
    {
     "data": {
      "text/html": [
       "<div>\n",
       "<style scoped>\n",
       "    .dataframe tbody tr th:only-of-type {\n",
       "        vertical-align: middle;\n",
       "    }\n",
       "\n",
       "    .dataframe tbody tr th {\n",
       "        vertical-align: top;\n",
       "    }\n",
       "\n",
       "    .dataframe thead th {\n",
       "        text-align: right;\n",
       "    }\n",
       "</style>\n",
       "<table border=\"1\" class=\"dataframe\">\n",
       "  <thead>\n",
       "    <tr style=\"text-align: right;\">\n",
       "      <th></th>\n",
       "      <th>cust_id</th>\n",
       "      <th>full_name</th>\n",
       "    </tr>\n",
       "  </thead>\n",
       "  <tbody>\n",
       "    <tr>\n",
       "      <th>0</th>\n",
       "      <td>22270069</td>\n",
       "      <td>rachel  hill</td>\n",
       "    </tr>\n",
       "    <tr>\n",
       "      <th>1</th>\n",
       "      <td>24101733</td>\n",
       "      <td>erica  lawrence</td>\n",
       "    </tr>\n",
       "    <tr>\n",
       "      <th>2</th>\n",
       "      <td>16313263</td>\n",
       "      <td>louise  otoole</td>\n",
       "    </tr>\n",
       "    <tr>\n",
       "      <th>3</th>\n",
       "      <td>25558717</td>\n",
       "      <td>anthony  roberts</td>\n",
       "    </tr>\n",
       "    <tr>\n",
       "      <th>4</th>\n",
       "      <td>21833584</td>\n",
       "      <td>angela  huggins</td>\n",
       "    </tr>\n",
       "  </tbody>\n",
       "</table>\n",
       "</div>"
      ],
      "text/plain": [
       "    cust_id         full_name\n",
       "0  22270069      rachel  hill\n",
       "1  24101733   erica  lawrence\n",
       "2  16313263    louise  otoole\n",
       "3  25558717  anthony  roberts\n",
       "4  21833584   angela  huggins"
      ]
     },
     "execution_count": 50,
     "metadata": {},
     "output_type": "execute_result"
    }
   ],
   "source": [
    "oz.head()"
   ]
  },
  {
   "cell_type": "code",
   "execution_count": 57,
   "metadata": {},
   "outputs": [],
   "source": [
    "w = pd.concat([nonc.loc[:,[\"CustomerID\", \"FullName\"]], oz])"
   ]
  },
  {
   "cell_type": "code",
   "execution_count": 58,
   "metadata": {},
   "outputs": [
    {
     "data": {
      "text/html": [
       "<div>\n",
       "<style scoped>\n",
       "    .dataframe tbody tr th:only-of-type {\n",
       "        vertical-align: middle;\n",
       "    }\n",
       "\n",
       "    .dataframe tbody tr th {\n",
       "        vertical-align: top;\n",
       "    }\n",
       "\n",
       "    .dataframe thead th {\n",
       "        text-align: right;\n",
       "    }\n",
       "</style>\n",
       "<table border=\"1\" class=\"dataframe\">\n",
       "  <thead>\n",
       "    <tr style=\"text-align: right;\">\n",
       "      <th></th>\n",
       "      <th>CustomerID</th>\n",
       "      <th>FullName</th>\n",
       "    </tr>\n",
       "  </thead>\n",
       "  <tbody>\n",
       "    <tr>\n",
       "      <th>0</th>\n",
       "      <td>18467850</td>\n",
       "      <td>hadi  sedaqat</td>\n",
       "    </tr>\n",
       "    <tr>\n",
       "      <th>1</th>\n",
       "      <td>25251693</td>\n",
       "      <td>taj  jones</td>\n",
       "    </tr>\n",
       "    <tr>\n",
       "      <th>2</th>\n",
       "      <td>23830043</td>\n",
       "      <td>barak  kessar</td>\n",
       "    </tr>\n",
       "    <tr>\n",
       "      <th>3</th>\n",
       "      <td>25327007</td>\n",
       "      <td>natalie  mazin</td>\n",
       "    </tr>\n",
       "    <tr>\n",
       "      <th>4</th>\n",
       "      <td>17472846</td>\n",
       "      <td>salma  begg</td>\n",
       "    </tr>\n",
       "  </tbody>\n",
       "</table>\n",
       "</div>"
      ],
      "text/plain": [
       "  CustomerID        FullName\n",
       "0   18467850   hadi  sedaqat\n",
       "1   25251693      taj  jones\n",
       "2   23830043   barak  kessar\n",
       "3   25327007  natalie  mazin\n",
       "4   17472846     salma  begg"
      ]
     },
     "execution_count": 58,
     "metadata": {},
     "output_type": "execute_result"
    }
   ],
   "source": [
    "w.head()"
   ]
  },
  {
   "cell_type": "code",
   "execution_count": 59,
   "metadata": {},
   "outputs": [
    {
     "data": {
      "text/plain": [
       "568000"
      ]
     },
     "execution_count": 59,
     "metadata": {},
     "output_type": "execute_result"
    }
   ],
   "source": [
    "len(w)"
   ]
  },
  {
   "cell_type": "code",
   "execution_count": 62,
   "metadata": {},
   "outputs": [],
   "source": [
    "cn_1 = pd.read_csv(\"CBDB_chinese_names.txt\", header=None, encoding='latin-1')"
   ]
  },
  {
   "cell_type": "code",
   "execution_count": 64,
   "metadata": {},
   "outputs": [],
   "source": [
    "cn_1[\"Ethnicity\"] = \"chinese\""
   ]
  },
  {
   "cell_type": "code",
   "execution_count": 65,
   "metadata": {},
   "outputs": [],
   "source": [
    "cn_1 = cn_1.rename(columns={0:\"FullName\"})"
   ]
  },
  {
   "cell_type": "code",
   "execution_count": 68,
   "metadata": {},
   "outputs": [
    {
     "data": {
      "text/html": [
       "<div>\n",
       "<style scoped>\n",
       "    .dataframe tbody tr th:only-of-type {\n",
       "        vertical-align: middle;\n",
       "    }\n",
       "\n",
       "    .dataframe tbody tr th {\n",
       "        vertical-align: top;\n",
       "    }\n",
       "\n",
       "    .dataframe thead th {\n",
       "        text-align: right;\n",
       "    }\n",
       "</style>\n",
       "<table border=\"1\" class=\"dataframe\">\n",
       "  <thead>\n",
       "    <tr style=\"text-align: right;\">\n",
       "      <th></th>\n",
       "      <th>FullName</th>\n",
       "      <th>Ethnicity</th>\n",
       "    </tr>\n",
       "  </thead>\n",
       "  <tbody>\n",
       "    <tr>\n",
       "      <th>0</th>\n",
       "      <td>an dun</td>\n",
       "      <td>chinese</td>\n",
       "    </tr>\n",
       "    <tr>\n",
       "      <th>1</th>\n",
       "      <td>an fang</td>\n",
       "      <td>chinese</td>\n",
       "    </tr>\n",
       "    <tr>\n",
       "      <th>2</th>\n",
       "      <td>an tao</td>\n",
       "      <td>chinese</td>\n",
       "    </tr>\n",
       "    <tr>\n",
       "      <th>3</th>\n",
       "      <td>zha dao</td>\n",
       "      <td>chinese</td>\n",
       "    </tr>\n",
       "    <tr>\n",
       "      <th>4</th>\n",
       "      <td>zha yue</td>\n",
       "      <td>chinese</td>\n",
       "    </tr>\n",
       "  </tbody>\n",
       "</table>\n",
       "</div>"
      ],
      "text/plain": [
       "  FullName Ethnicity\n",
       "0   an dun   chinese\n",
       "1  an fang   chinese\n",
       "2   an tao   chinese\n",
       "3  zha dao   chinese\n",
       "4  zha yue   chinese"
      ]
     },
     "execution_count": 68,
     "metadata": {},
     "output_type": "execute_result"
    }
   ],
   "source": [
    "cn_1.head()"
   ]
  },
  {
   "cell_type": "code",
   "execution_count": 67,
   "metadata": {},
   "outputs": [],
   "source": [
    "cn_1 = cn_1[[\"FullName\", \"Ethnicity\"]]"
   ]
  },
  {
   "cell_type": "code",
   "execution_count": 69,
   "metadata": {},
   "outputs": [],
   "source": [
    "cn_2 = pd.read_csv(\"chinese2.csv\", header=None, encoding='latin-1')"
   ]
  },
  {
   "cell_type": "code",
   "execution_count": 70,
   "metadata": {},
   "outputs": [],
   "source": [
    "cn_2 = cn_2.rename(columns={0:\"FullName\"})"
   ]
  },
  {
   "cell_type": "code",
   "execution_count": 73,
   "metadata": {},
   "outputs": [
    {
     "data": {
      "text/html": [
       "<div>\n",
       "<style scoped>\n",
       "    .dataframe tbody tr th:only-of-type {\n",
       "        vertical-align: middle;\n",
       "    }\n",
       "\n",
       "    .dataframe tbody tr th {\n",
       "        vertical-align: top;\n",
       "    }\n",
       "\n",
       "    .dataframe thead th {\n",
       "        text-align: right;\n",
       "    }\n",
       "</style>\n",
       "<table border=\"1\" class=\"dataframe\">\n",
       "  <thead>\n",
       "    <tr style=\"text-align: right;\">\n",
       "      <th></th>\n",
       "      <th>FullName</th>\n",
       "      <th>Ethnicity</th>\n",
       "    </tr>\n",
       "  </thead>\n",
       "  <tbody>\n",
       "    <tr>\n",
       "      <th>0</th>\n",
       "      <td>yuxiao zhang</td>\n",
       "      <td>chinese</td>\n",
       "    </tr>\n",
       "    <tr>\n",
       "      <th>1</th>\n",
       "      <td>robin chen</td>\n",
       "      <td>chinese</td>\n",
       "    </tr>\n",
       "    <tr>\n",
       "      <th>2</th>\n",
       "      <td>ching khow</td>\n",
       "      <td>chinese</td>\n",
       "    </tr>\n",
       "    <tr>\n",
       "      <th>3</th>\n",
       "      <td>kuo yuchen</td>\n",
       "      <td>chinese</td>\n",
       "    </tr>\n",
       "    <tr>\n",
       "      <th>4</th>\n",
       "      <td>wei-chi yeh</td>\n",
       "      <td>chinese</td>\n",
       "    </tr>\n",
       "  </tbody>\n",
       "</table>\n",
       "</div>"
      ],
      "text/plain": [
       "       FullName Ethnicity\n",
       "0  yuxiao zhang   chinese\n",
       "1    robin chen   chinese\n",
       "2    ching khow   chinese\n",
       "3    kuo yuchen   chinese\n",
       "4   wei-chi yeh   chinese"
      ]
     },
     "execution_count": 73,
     "metadata": {},
     "output_type": "execute_result"
    }
   ],
   "source": [
    "cn_2.head()"
   ]
  },
  {
   "cell_type": "code",
   "execution_count": 72,
   "metadata": {},
   "outputs": [],
   "source": [
    "cn_2[\"Ethnicity\"] = \"chinese\""
   ]
  },
  {
   "cell_type": "code",
   "execution_count": 74,
   "metadata": {},
   "outputs": [],
   "source": [
    "cn = pd.concat([cn_1,cn_2])"
   ]
  },
  {
   "cell_type": "code",
   "execution_count": 75,
   "metadata": {},
   "outputs": [
    {
     "data": {
      "text/html": [
       "<div>\n",
       "<style scoped>\n",
       "    .dataframe tbody tr th:only-of-type {\n",
       "        vertical-align: middle;\n",
       "    }\n",
       "\n",
       "    .dataframe tbody tr th {\n",
       "        vertical-align: top;\n",
       "    }\n",
       "\n",
       "    .dataframe thead th {\n",
       "        text-align: right;\n",
       "    }\n",
       "</style>\n",
       "<table border=\"1\" class=\"dataframe\">\n",
       "  <thead>\n",
       "    <tr style=\"text-align: right;\">\n",
       "      <th></th>\n",
       "      <th>FullName</th>\n",
       "      <th>Ethnicity</th>\n",
       "    </tr>\n",
       "  </thead>\n",
       "  <tbody>\n",
       "    <tr>\n",
       "      <th>0</th>\n",
       "      <td>an dun</td>\n",
       "      <td>chinese</td>\n",
       "    </tr>\n",
       "    <tr>\n",
       "      <th>1</th>\n",
       "      <td>an fang</td>\n",
       "      <td>chinese</td>\n",
       "    </tr>\n",
       "    <tr>\n",
       "      <th>2</th>\n",
       "      <td>an tao</td>\n",
       "      <td>chinese</td>\n",
       "    </tr>\n",
       "    <tr>\n",
       "      <th>3</th>\n",
       "      <td>zha dao</td>\n",
       "      <td>chinese</td>\n",
       "    </tr>\n",
       "    <tr>\n",
       "      <th>4</th>\n",
       "      <td>zha yue</td>\n",
       "      <td>chinese</td>\n",
       "    </tr>\n",
       "  </tbody>\n",
       "</table>\n",
       "</div>"
      ],
      "text/plain": [
       "  FullName Ethnicity\n",
       "0   an dun   chinese\n",
       "1  an fang   chinese\n",
       "2   an tao   chinese\n",
       "3  zha dao   chinese\n",
       "4  zha yue   chinese"
      ]
     },
     "execution_count": 75,
     "metadata": {},
     "output_type": "execute_result"
    }
   ],
   "source": [
    "cn.head()"
   ]
  },
  {
   "cell_type": "code",
   "execution_count": 76,
   "metadata": {},
   "outputs": [],
   "source": [
    "cn.drop_duplicates(\"FullName\", inplace=True)"
   ]
  },
  {
   "cell_type": "code",
   "execution_count": 77,
   "metadata": {},
   "outputs": [
    {
     "data": {
      "text/plain": [
       "240396"
      ]
     },
     "execution_count": 77,
     "metadata": {},
     "output_type": "execute_result"
    }
   ],
   "source": [
    "len(cn)"
   ]
  },
  {
   "cell_type": "code",
   "execution_count": 100,
   "metadata": {},
   "outputs": [
    {
     "data": {
      "text/html": [
       "<div>\n",
       "<style scoped>\n",
       "    .dataframe tbody tr th:only-of-type {\n",
       "        vertical-align: middle;\n",
       "    }\n",
       "\n",
       "    .dataframe tbody tr th {\n",
       "        vertical-align: top;\n",
       "    }\n",
       "\n",
       "    .dataframe thead th {\n",
       "        text-align: right;\n",
       "    }\n",
       "</style>\n",
       "<table border=\"1\" class=\"dataframe\">\n",
       "  <thead>\n",
       "    <tr style=\"text-align: right;\">\n",
       "      <th></th>\n",
       "      <th>CustomerID</th>\n",
       "      <th>FullName</th>\n",
       "    </tr>\n",
       "  </thead>\n",
       "  <tbody>\n",
       "    <tr>\n",
       "      <th>0</th>\n",
       "      <td>18467850</td>\n",
       "      <td>hadi  sedaqat</td>\n",
       "    </tr>\n",
       "    <tr>\n",
       "      <th>1</th>\n",
       "      <td>25251693</td>\n",
       "      <td>taj  jones</td>\n",
       "    </tr>\n",
       "    <tr>\n",
       "      <th>2</th>\n",
       "      <td>23830043</td>\n",
       "      <td>barak  kessar</td>\n",
       "    </tr>\n",
       "    <tr>\n",
       "      <th>3</th>\n",
       "      <td>25327007</td>\n",
       "      <td>natalie  mazin</td>\n",
       "    </tr>\n",
       "    <tr>\n",
       "      <th>4</th>\n",
       "      <td>17472846</td>\n",
       "      <td>salma  begg</td>\n",
       "    </tr>\n",
       "  </tbody>\n",
       "</table>\n",
       "</div>"
      ],
      "text/plain": [
       "  CustomerID        FullName\n",
       "0   18467850   hadi  sedaqat\n",
       "1   25251693      taj  jones\n",
       "2   23830043   barak  kessar\n",
       "3   25327007  natalie  mazin\n",
       "4   17472846     salma  begg"
      ]
     },
     "execution_count": 100,
     "metadata": {},
     "output_type": "execute_result"
    }
   ],
   "source": [
    "w.head()"
   ]
  },
  {
   "cell_type": "code",
   "execution_count": 79,
   "metadata": {},
   "outputs": [],
   "source": [
    "w[\"FullName\"].to_csv(\"training_nocn.csv\", index=False)"
   ]
  },
  {
   "cell_type": "code",
   "execution_count": 80,
   "metadata": {},
   "outputs": [],
   "source": [
    "cn[\"FullName\"].to_csv(\"training_iscn.csv\", index=False)"
   ]
  },
  {
   "cell_type": "code",
   "execution_count": 81,
   "metadata": {},
   "outputs": [
    {
     "data": {
      "text/html": [
       "<div>\n",
       "<style scoped>\n",
       "    .dataframe tbody tr th:only-of-type {\n",
       "        vertical-align: middle;\n",
       "    }\n",
       "\n",
       "    .dataframe tbody tr th {\n",
       "        vertical-align: top;\n",
       "    }\n",
       "\n",
       "    .dataframe thead th {\n",
       "        text-align: right;\n",
       "    }\n",
       "</style>\n",
       "<table border=\"1\" class=\"dataframe\">\n",
       "  <thead>\n",
       "    <tr style=\"text-align: right;\">\n",
       "      <th></th>\n",
       "      <th>FullName</th>\n",
       "      <th>Ethnicity</th>\n",
       "    </tr>\n",
       "  </thead>\n",
       "  <tbody>\n",
       "    <tr>\n",
       "      <th>0</th>\n",
       "      <td>an dun</td>\n",
       "      <td>chinese</td>\n",
       "    </tr>\n",
       "    <tr>\n",
       "      <th>1</th>\n",
       "      <td>an fang</td>\n",
       "      <td>chinese</td>\n",
       "    </tr>\n",
       "    <tr>\n",
       "      <th>2</th>\n",
       "      <td>an tao</td>\n",
       "      <td>chinese</td>\n",
       "    </tr>\n",
       "    <tr>\n",
       "      <th>3</th>\n",
       "      <td>zha dao</td>\n",
       "      <td>chinese</td>\n",
       "    </tr>\n",
       "    <tr>\n",
       "      <th>4</th>\n",
       "      <td>zha yue</td>\n",
       "      <td>chinese</td>\n",
       "    </tr>\n",
       "  </tbody>\n",
       "</table>\n",
       "</div>"
      ],
      "text/plain": [
       "  FullName Ethnicity\n",
       "0   an dun   chinese\n",
       "1  an fang   chinese\n",
       "2   an tao   chinese\n",
       "3  zha dao   chinese\n",
       "4  zha yue   chinese"
      ]
     },
     "execution_count": 81,
     "metadata": {},
     "output_type": "execute_result"
    }
   ],
   "source": [
    "cn.head()"
   ]
  },
  {
   "cell_type": "code",
   "execution_count": 82,
   "metadata": {},
   "outputs": [
    {
     "data": {
      "text/html": [
       "<div>\n",
       "<style scoped>\n",
       "    .dataframe tbody tr th:only-of-type {\n",
       "        vertical-align: middle;\n",
       "    }\n",
       "\n",
       "    .dataframe tbody tr th {\n",
       "        vertical-align: top;\n",
       "    }\n",
       "\n",
       "    .dataframe thead th {\n",
       "        text-align: right;\n",
       "    }\n",
       "</style>\n",
       "<table border=\"1\" class=\"dataframe\">\n",
       "  <thead>\n",
       "    <tr style=\"text-align: right;\">\n",
       "      <th></th>\n",
       "      <th>CustomerID</th>\n",
       "      <th>FullName</th>\n",
       "    </tr>\n",
       "  </thead>\n",
       "  <tbody>\n",
       "    <tr>\n",
       "      <th>0</th>\n",
       "      <td>18467850</td>\n",
       "      <td>hadi  sedaqat</td>\n",
       "    </tr>\n",
       "    <tr>\n",
       "      <th>1</th>\n",
       "      <td>25251693</td>\n",
       "      <td>taj  jones</td>\n",
       "    </tr>\n",
       "    <tr>\n",
       "      <th>2</th>\n",
       "      <td>23830043</td>\n",
       "      <td>barak  kessar</td>\n",
       "    </tr>\n",
       "    <tr>\n",
       "      <th>3</th>\n",
       "      <td>25327007</td>\n",
       "      <td>natalie  mazin</td>\n",
       "    </tr>\n",
       "    <tr>\n",
       "      <th>4</th>\n",
       "      <td>17472846</td>\n",
       "      <td>salma  begg</td>\n",
       "    </tr>\n",
       "  </tbody>\n",
       "</table>\n",
       "</div>"
      ],
      "text/plain": [
       "  CustomerID        FullName\n",
       "0   18467850   hadi  sedaqat\n",
       "1   25251693      taj  jones\n",
       "2   23830043   barak  kessar\n",
       "3   25327007  natalie  mazin\n",
       "4   17472846     salma  begg"
      ]
     },
     "execution_count": 82,
     "metadata": {},
     "output_type": "execute_result"
    }
   ],
   "source": [
    "w.head()"
   ]
  },
  {
   "cell_type": "code",
   "execution_count": 90,
   "metadata": {},
   "outputs": [],
   "source": [
    "training_cn[\"FullName\"] = cn[\"FullName\"]\n",
    "training_cn[\"isChinese\"] = 1"
   ]
  },
  {
   "cell_type": "code",
   "execution_count": 88,
   "metadata": {},
   "outputs": [
    {
     "ename": "IndexingError",
     "evalue": "(slice(None, None, None), 'isChinese')",
     "output_type": "error",
     "traceback": [
      "\u001b[0;31m---------------------------------------------------------------------------\u001b[0m",
      "\u001b[0;31mTypeError\u001b[0m                                 Traceback (most recent call last)",
      "\u001b[0;32m/Library/Frameworks/Python.framework/Versions/3.6/lib/python3.6/site-packages/pandas/core/indexing.py\u001b[0m in \u001b[0;36m_get_setitem_indexer\u001b[0;34m(self, key)\u001b[0m\n\u001b[1;32m    178\u001b[0m         \u001b[0;32mtry\u001b[0m\u001b[0;34m:\u001b[0m\u001b[0;34m\u001b[0m\u001b[0m\n\u001b[0;32m--> 179\u001b[0;31m             \u001b[0;32mreturn\u001b[0m \u001b[0mself\u001b[0m\u001b[0;34m.\u001b[0m\u001b[0m_convert_to_indexer\u001b[0m\u001b[0;34m(\u001b[0m\u001b[0mkey\u001b[0m\u001b[0;34m,\u001b[0m \u001b[0mis_setter\u001b[0m\u001b[0;34m=\u001b[0m\u001b[0;32mTrue\u001b[0m\u001b[0;34m)\u001b[0m\u001b[0;34m\u001b[0m\u001b[0m\n\u001b[0m\u001b[1;32m    180\u001b[0m         \u001b[0;32mexcept\u001b[0m \u001b[0mTypeError\u001b[0m \u001b[0;32mas\u001b[0m \u001b[0me\u001b[0m\u001b[0;34m:\u001b[0m\u001b[0;34m\u001b[0m\u001b[0m\n",
      "\u001b[0;32m/Library/Frameworks/Python.framework/Versions/3.6/lib/python3.6/site-packages/pandas/core/indexing.py\u001b[0m in \u001b[0;36m_convert_to_indexer\u001b[0;34m(self, obj, axis, is_setter)\u001b[0m\n\u001b[1;32m   1260\u001b[0m                     (indexer,\n\u001b[0;32m-> 1261\u001b[0;31m                      missing) = labels.get_indexer_non_unique(objarr)\n\u001b[0m\u001b[1;32m   1262\u001b[0m                     \u001b[0;31m# 'indexer' has dupes, create 'check' using 'missing'\u001b[0m\u001b[0;34m\u001b[0m\u001b[0;34m\u001b[0m\u001b[0m\n",
      "\u001b[0;32m/Library/Frameworks/Python.framework/Versions/3.6/lib/python3.6/site-packages/pandas/core/indexes/base.py\u001b[0m in \u001b[0;36mget_indexer_non_unique\u001b[0;34m(self, target)\u001b[0m\n\u001b[1;32m   2812\u001b[0m \u001b[0;34m\u001b[0m\u001b[0m\n\u001b[0;32m-> 2813\u001b[0;31m         \u001b[0mindexer\u001b[0m\u001b[0;34m,\u001b[0m \u001b[0mmissing\u001b[0m \u001b[0;34m=\u001b[0m \u001b[0mself\u001b[0m\u001b[0;34m.\u001b[0m\u001b[0m_engine\u001b[0m\u001b[0;34m.\u001b[0m\u001b[0mget_indexer_non_unique\u001b[0m\u001b[0;34m(\u001b[0m\u001b[0mtgt_values\u001b[0m\u001b[0;34m)\u001b[0m\u001b[0;34m\u001b[0m\u001b[0m\n\u001b[0m\u001b[1;32m   2814\u001b[0m         \u001b[0;32mreturn\u001b[0m \u001b[0m_ensure_platform_int\u001b[0m\u001b[0;34m(\u001b[0m\u001b[0mindexer\u001b[0m\u001b[0;34m)\u001b[0m\u001b[0;34m,\u001b[0m \u001b[0mmissing\u001b[0m\u001b[0;34m\u001b[0m\u001b[0m\n",
      "\u001b[0;32mpandas/_libs/index.pyx\u001b[0m in \u001b[0;36mpandas._libs.index.IndexEngine.get_indexer_non_unique\u001b[0;34m()\u001b[0m\n",
      "\u001b[0;31mTypeError\u001b[0m: unhashable type: 'slice'",
      "\nDuring handling of the above exception, another exception occurred:\n",
      "\u001b[0;31mIndexingError\u001b[0m                             Traceback (most recent call last)",
      "\u001b[0;32m<ipython-input-88-b0b07ad4c99c>\u001b[0m in \u001b[0;36m<module>\u001b[0;34m()\u001b[0m\n\u001b[1;32m      1\u001b[0m \u001b[0mtraining_not\u001b[0m \u001b[0;34m=\u001b[0m \u001b[0mw\u001b[0m\u001b[0;34m[\u001b[0m\u001b[0;34m\"FullName\"\u001b[0m\u001b[0;34m]\u001b[0m\u001b[0;34m\u001b[0m\u001b[0m\n\u001b[0;32m----> 2\u001b[0;31m \u001b[0mtraining_not\u001b[0m\u001b[0;34m.\u001b[0m\u001b[0mloc\u001b[0m\u001b[0;34m[\u001b[0m\u001b[0;34m:\u001b[0m\u001b[0;34m,\u001b[0m \u001b[0;34m\"isChinese\"\u001b[0m\u001b[0;34m]\u001b[0m \u001b[0;34m=\u001b[0m \u001b[0;36m0\u001b[0m\u001b[0;34m\u001b[0m\u001b[0m\n\u001b[0m",
      "\u001b[0;32m/Library/Frameworks/Python.framework/Versions/3.6/lib/python3.6/site-packages/pandas/core/indexing.py\u001b[0m in \u001b[0;36m__setitem__\u001b[0;34m(self, key, value)\u001b[0m\n\u001b[1;32m    191\u001b[0m         \u001b[0;32melse\u001b[0m\u001b[0;34m:\u001b[0m\u001b[0;34m\u001b[0m\u001b[0m\n\u001b[1;32m    192\u001b[0m             \u001b[0mkey\u001b[0m \u001b[0;34m=\u001b[0m \u001b[0mcom\u001b[0m\u001b[0;34m.\u001b[0m\u001b[0m_apply_if_callable\u001b[0m\u001b[0;34m(\u001b[0m\u001b[0mkey\u001b[0m\u001b[0;34m,\u001b[0m \u001b[0mself\u001b[0m\u001b[0;34m.\u001b[0m\u001b[0mobj\u001b[0m\u001b[0;34m)\u001b[0m\u001b[0;34m\u001b[0m\u001b[0m\n\u001b[0;32m--> 193\u001b[0;31m         \u001b[0mindexer\u001b[0m \u001b[0;34m=\u001b[0m \u001b[0mself\u001b[0m\u001b[0;34m.\u001b[0m\u001b[0m_get_setitem_indexer\u001b[0m\u001b[0;34m(\u001b[0m\u001b[0mkey\u001b[0m\u001b[0;34m)\u001b[0m\u001b[0;34m\u001b[0m\u001b[0m\n\u001b[0m\u001b[1;32m    194\u001b[0m         \u001b[0mself\u001b[0m\u001b[0;34m.\u001b[0m\u001b[0m_setitem_with_indexer\u001b[0m\u001b[0;34m(\u001b[0m\u001b[0mindexer\u001b[0m\u001b[0;34m,\u001b[0m \u001b[0mvalue\u001b[0m\u001b[0;34m)\u001b[0m\u001b[0;34m\u001b[0m\u001b[0m\n\u001b[1;32m    195\u001b[0m \u001b[0;34m\u001b[0m\u001b[0m\n",
      "\u001b[0;32m/Library/Frameworks/Python.framework/Versions/3.6/lib/python3.6/site-packages/pandas/core/indexing.py\u001b[0m in \u001b[0;36m_get_setitem_indexer\u001b[0;34m(self, key)\u001b[0m\n\u001b[1;32m    183\u001b[0m             \u001b[0;32mif\u001b[0m \u001b[0;34m'cannot do'\u001b[0m \u001b[0;32min\u001b[0m \u001b[0mstr\u001b[0m\u001b[0;34m(\u001b[0m\u001b[0me\u001b[0m\u001b[0;34m)\u001b[0m\u001b[0;34m:\u001b[0m\u001b[0;34m\u001b[0m\u001b[0m\n\u001b[1;32m    184\u001b[0m                 \u001b[0;32mraise\u001b[0m\u001b[0;34m\u001b[0m\u001b[0m\n\u001b[0;32m--> 185\u001b[0;31m             \u001b[0;32mraise\u001b[0m \u001b[0mIndexingError\u001b[0m\u001b[0;34m(\u001b[0m\u001b[0mkey\u001b[0m\u001b[0;34m)\u001b[0m\u001b[0;34m\u001b[0m\u001b[0m\n\u001b[0m\u001b[1;32m    186\u001b[0m \u001b[0;34m\u001b[0m\u001b[0m\n\u001b[1;32m    187\u001b[0m     \u001b[0;32mdef\u001b[0m \u001b[0m__setitem__\u001b[0m\u001b[0;34m(\u001b[0m\u001b[0mself\u001b[0m\u001b[0;34m,\u001b[0m \u001b[0mkey\u001b[0m\u001b[0;34m,\u001b[0m \u001b[0mvalue\u001b[0m\u001b[0;34m)\u001b[0m\u001b[0;34m:\u001b[0m\u001b[0;34m\u001b[0m\u001b[0m\n",
      "\u001b[0;31mIndexingError\u001b[0m: (slice(None, None, None), 'isChinese')"
     ]
    }
   ],
   "source": [
    "training_not = w[\"FullName\"]\n",
    "training_not.loc[:, \"isChinese\"] = 0"
   ]
  },
  {
   "cell_type": "code",
   "execution_count": 85,
   "metadata": {},
   "outputs": [],
   "source": [
    "training = pd.concat([training_cn, training_not])"
   ]
  },
  {
   "cell_type": "code",
   "execution_count": 86,
   "metadata": {},
   "outputs": [
    {
     "data": {
      "text/plain": [
       "0     an dun\n",
       "1    an fang\n",
       "2     an tao\n",
       "3    zha dao\n",
       "4    zha yue\n",
       "Name: FullName, dtype: object"
      ]
     },
     "execution_count": 86,
     "metadata": {},
     "output_type": "execute_result"
    }
   ],
   "source": [
    "training.head()"
   ]
  },
  {
   "cell_type": "code",
   "execution_count": 91,
   "metadata": {},
   "outputs": [
    {
     "data": {
      "text/plain": [
       "0     an dun\n",
       "1    an fang\n",
       "2     an tao\n",
       "3    zha dao\n",
       "4    zha yue\n",
       "Name: FullName, dtype: object"
      ]
     },
     "execution_count": 91,
     "metadata": {},
     "output_type": "execute_result"
    }
   ],
   "source": [
    "training_cn.head()"
   ]
  },
  {
   "cell_type": "code",
   "execution_count": 89,
   "metadata": {},
   "outputs": [
    {
     "data": {
      "text/plain": [
       "0                    hadi  sedaqat\n",
       "1                       taj  jones\n",
       "2                    barak  kessar\n",
       "3                   natalie  mazin\n",
       "4                      salma  begg\n",
       "5                  andrew  barakat\n",
       "6                   habib  iddrisu\n",
       "7                  kamil  brzostek\n",
       "8                   dana  lepinzan\n",
       "9                  nevine  khalifa\n",
       "10                   khoder  samia\n",
       "11              jean-pierre  mahÃ©\n",
       "12                    yazid  habib\n",
       "13                      dana  meos\n",
       "14                 bradley  haider\n",
       "15                 nurziana  jamil\n",
       "16                 amani  zeitoune\n",
       "17                       ayu  hadi\n",
       "18             nadia   fitzpatrick\n",
       "19                    nadia   gray\n",
       "20                   nurul  roslan\n",
       "21                   abdul  hassan\n",
       "22                   osman  hassan\n",
       "23                 hashrul  rashid\n",
       "24                    fatima  safa\n",
       "25                   iqbal  yaseer\n",
       "26                   justin  hanan\n",
       "27                  dana  fluitsma\n",
       "28                  ronika   nader\n",
       "29                   zahra  babuji\n",
       "                     ...          \n",
       "199971            edward   hartman\n",
       "199972               kristy  green\n",
       "199973        christopher  gartner\n",
       "199974              andrew  taylor\n",
       "199975             chris   collins\n",
       "199976                jono d vasey\n",
       "199977         sharlene  hellewell\n",
       "199978               melissa  ware\n",
       "199979              tony   cummins\n",
       "199980               michael  diss\n",
       "199981            caroline  mchugh\n",
       "199982               aaron  weaver\n",
       "199983                judy  harris\n",
       "199984              peter  hartley\n",
       "199985              leanne  hersey\n",
       "199986                    s  smart\n",
       "199987              david  bennett\n",
       "199988                barry  quinn\n",
       "199989            brendan  schultz\n",
       "199990                kyle  larsen\n",
       "199991                noel  donnan\n",
       "199992          catherine   barnes\n",
       "199993            site  confidence\n",
       "199994               scott   swyny\n",
       "199995               darren  grant\n",
       "199996       elizabeth anne packer\n",
       "199997            jessica  charara\n",
       "199998             daniel   biglia\n",
       "199999             shaun  kerrigan\n",
       "isChinese                        0\n",
       "Name: FullName, Length: 568001, dtype: object"
      ]
     },
     "execution_count": 89,
     "metadata": {},
     "output_type": "execute_result"
    }
   ],
   "source": [
    "w[\"FullName\"]"
   ]
  },
  {
   "cell_type": "code",
   "execution_count": 92,
   "metadata": {},
   "outputs": [],
   "source": [
    "nocn = pd.read_csv(\"training_nocn.csv\")"
   ]
  },
  {
   "cell_type": "code",
   "execution_count": 93,
   "metadata": {},
   "outputs": [
    {
     "data": {
      "text/html": [
       "<div>\n",
       "<style scoped>\n",
       "    .dataframe tbody tr th:only-of-type {\n",
       "        vertical-align: middle;\n",
       "    }\n",
       "\n",
       "    .dataframe tbody tr th {\n",
       "        vertical-align: top;\n",
       "    }\n",
       "\n",
       "    .dataframe thead th {\n",
       "        text-align: right;\n",
       "    }\n",
       "</style>\n",
       "<table border=\"1\" class=\"dataframe\">\n",
       "  <thead>\n",
       "    <tr style=\"text-align: right;\">\n",
       "      <th></th>\n",
       "      <th>CustomerID</th>\n",
       "      <th>Ethnicity</th>\n",
       "      <th>FullName</th>\n",
       "    </tr>\n",
       "  </thead>\n",
       "  <tbody>\n",
       "    <tr>\n",
       "      <th>0</th>\n",
       "      <td>18467850</td>\n",
       "      <td>arabic</td>\n",
       "      <td>hadi  sedaqat</td>\n",
       "    </tr>\n",
       "    <tr>\n",
       "      <th>1</th>\n",
       "      <td>25251693</td>\n",
       "      <td>arabic</td>\n",
       "      <td>taj  jones</td>\n",
       "    </tr>\n",
       "    <tr>\n",
       "      <th>2</th>\n",
       "      <td>23830043</td>\n",
       "      <td>arabic</td>\n",
       "      <td>barak  kessar</td>\n",
       "    </tr>\n",
       "    <tr>\n",
       "      <th>3</th>\n",
       "      <td>25327007</td>\n",
       "      <td>arabic</td>\n",
       "      <td>natalie  mazin</td>\n",
       "    </tr>\n",
       "    <tr>\n",
       "      <th>4</th>\n",
       "      <td>17472846</td>\n",
       "      <td>arabic</td>\n",
       "      <td>salma  begg</td>\n",
       "    </tr>\n",
       "    <tr>\n",
       "      <th>5</th>\n",
       "      <td>18262666</td>\n",
       "      <td>arabic</td>\n",
       "      <td>andrew  barakat</td>\n",
       "    </tr>\n",
       "    <tr>\n",
       "      <th>6</th>\n",
       "      <td>19897797</td>\n",
       "      <td>arabic</td>\n",
       "      <td>habib  iddrisu</td>\n",
       "    </tr>\n",
       "    <tr>\n",
       "      <th>7</th>\n",
       "      <td>16605979</td>\n",
       "      <td>arabic</td>\n",
       "      <td>kamil  brzostek</td>\n",
       "    </tr>\n",
       "    <tr>\n",
       "      <th>8</th>\n",
       "      <td>20142429</td>\n",
       "      <td>arabic</td>\n",
       "      <td>dana  lepinzan</td>\n",
       "    </tr>\n",
       "    <tr>\n",
       "      <th>9</th>\n",
       "      <td>25702683</td>\n",
       "      <td>arabic</td>\n",
       "      <td>nevine  khalifa</td>\n",
       "    </tr>\n",
       "    <tr>\n",
       "      <th>10</th>\n",
       "      <td>21357284</td>\n",
       "      <td>arabic</td>\n",
       "      <td>khoder  samia</td>\n",
       "    </tr>\n",
       "    <tr>\n",
       "      <th>11</th>\n",
       "      <td>19674495</td>\n",
       "      <td>arabic</td>\n",
       "      <td>jean-pierre  mahÃ©</td>\n",
       "    </tr>\n",
       "    <tr>\n",
       "      <th>12</th>\n",
       "      <td>18814383</td>\n",
       "      <td>arabic</td>\n",
       "      <td>yazid  habib</td>\n",
       "    </tr>\n",
       "    <tr>\n",
       "      <th>13</th>\n",
       "      <td>24341441</td>\n",
       "      <td>arabic</td>\n",
       "      <td>dana  meos</td>\n",
       "    </tr>\n",
       "    <tr>\n",
       "      <th>14</th>\n",
       "      <td>12218844</td>\n",
       "      <td>arabic</td>\n",
       "      <td>bradley  haider</td>\n",
       "    </tr>\n",
       "    <tr>\n",
       "      <th>15</th>\n",
       "      <td>19584639</td>\n",
       "      <td>arabic</td>\n",
       "      <td>nurziana  jamil</td>\n",
       "    </tr>\n",
       "    <tr>\n",
       "      <th>16</th>\n",
       "      <td>23363468</td>\n",
       "      <td>arabic</td>\n",
       "      <td>amani  zeitoune</td>\n",
       "    </tr>\n",
       "    <tr>\n",
       "      <th>17</th>\n",
       "      <td>17860103</td>\n",
       "      <td>arabic</td>\n",
       "      <td>ayu  hadi</td>\n",
       "    </tr>\n",
       "    <tr>\n",
       "      <th>18</th>\n",
       "      <td>6823084</td>\n",
       "      <td>arabic</td>\n",
       "      <td>nadia   fitzpatrick</td>\n",
       "    </tr>\n",
       "    <tr>\n",
       "      <th>19</th>\n",
       "      <td>3252439</td>\n",
       "      <td>arabic</td>\n",
       "      <td>nadia   gray</td>\n",
       "    </tr>\n",
       "    <tr>\n",
       "      <th>20</th>\n",
       "      <td>24031770</td>\n",
       "      <td>arabic</td>\n",
       "      <td>nurul  roslan</td>\n",
       "    </tr>\n",
       "    <tr>\n",
       "      <th>21</th>\n",
       "      <td>18524339</td>\n",
       "      <td>arabic</td>\n",
       "      <td>abdul  hassan</td>\n",
       "    </tr>\n",
       "    <tr>\n",
       "      <th>22</th>\n",
       "      <td>14712072</td>\n",
       "      <td>arabic</td>\n",
       "      <td>osman  hassan</td>\n",
       "    </tr>\n",
       "    <tr>\n",
       "      <th>23</th>\n",
       "      <td>19741748</td>\n",
       "      <td>arabic</td>\n",
       "      <td>hashrul  rashid</td>\n",
       "    </tr>\n",
       "    <tr>\n",
       "      <th>24</th>\n",
       "      <td>21470880</td>\n",
       "      <td>arabic</td>\n",
       "      <td>fatima  safa</td>\n",
       "    </tr>\n",
       "    <tr>\n",
       "      <th>25</th>\n",
       "      <td>19768990</td>\n",
       "      <td>arabic</td>\n",
       "      <td>iqbal  yaseer</td>\n",
       "    </tr>\n",
       "    <tr>\n",
       "      <th>26</th>\n",
       "      <td>8521826</td>\n",
       "      <td>arabic</td>\n",
       "      <td>justin  hanan</td>\n",
       "    </tr>\n",
       "    <tr>\n",
       "      <th>27</th>\n",
       "      <td>7133022</td>\n",
       "      <td>arabic</td>\n",
       "      <td>dana  fluitsma</td>\n",
       "    </tr>\n",
       "    <tr>\n",
       "      <th>28</th>\n",
       "      <td>3941559</td>\n",
       "      <td>arabic</td>\n",
       "      <td>ronika   nader</td>\n",
       "    </tr>\n",
       "    <tr>\n",
       "      <th>29</th>\n",
       "      <td>20419407</td>\n",
       "      <td>arabic</td>\n",
       "      <td>zahra  babuji</td>\n",
       "    </tr>\n",
       "    <tr>\n",
       "      <th>...</th>\n",
       "      <td>...</td>\n",
       "      <td>...</td>\n",
       "      <td>...</td>\n",
       "    </tr>\n",
       "    <tr>\n",
       "      <th>39970</th>\n",
       "      <td>20887438</td>\n",
       "      <td>korean</td>\n",
       "      <td>cynthia  van duker</td>\n",
       "    </tr>\n",
       "    <tr>\n",
       "      <th>39971</th>\n",
       "      <td>3584961</td>\n",
       "      <td>korean</td>\n",
       "      <td>irene   gan</td>\n",
       "    </tr>\n",
       "    <tr>\n",
       "      <th>39972</th>\n",
       "      <td>14273119</td>\n",
       "      <td>korean</td>\n",
       "      <td>account  not in use</td>\n",
       "    </tr>\n",
       "    <tr>\n",
       "      <th>39973</th>\n",
       "      <td>7250993</td>\n",
       "      <td>korean</td>\n",
       "      <td>justin  van zutphen</td>\n",
       "    </tr>\n",
       "    <tr>\n",
       "      <th>39974</th>\n",
       "      <td>17334117</td>\n",
       "      <td>korean</td>\n",
       "      <td>kim  spencer</td>\n",
       "    </tr>\n",
       "    <tr>\n",
       "      <th>39975</th>\n",
       "      <td>16003634</td>\n",
       "      <td>korean</td>\n",
       "      <td>jae  taplin</td>\n",
       "    </tr>\n",
       "    <tr>\n",
       "      <th>39976</th>\n",
       "      <td>864424</td>\n",
       "      <td>korean</td>\n",
       "      <td>leon   van rensburg</td>\n",
       "    </tr>\n",
       "    <tr>\n",
       "      <th>39977</th>\n",
       "      <td>15430635</td>\n",
       "      <td>korean</td>\n",
       "      <td>gina  van agten</td>\n",
       "    </tr>\n",
       "    <tr>\n",
       "      <th>39978</th>\n",
       "      <td>16967478</td>\n",
       "      <td>korean</td>\n",
       "      <td>joe smith  j + l smith</td>\n",
       "    </tr>\n",
       "    <tr>\n",
       "      <th>39979</th>\n",
       "      <td>22973572</td>\n",
       "      <td>korean</td>\n",
       "      <td>kim  elger</td>\n",
       "    </tr>\n",
       "    <tr>\n",
       "      <th>39980</th>\n",
       "      <td>20005865</td>\n",
       "      <td>korean</td>\n",
       "      <td>jo  hill</td>\n",
       "    </tr>\n",
       "    <tr>\n",
       "      <th>39981</th>\n",
       "      <td>20695525</td>\n",
       "      <td>korean</td>\n",
       "      <td>tim  kay</td>\n",
       "    </tr>\n",
       "    <tr>\n",
       "      <th>39982</th>\n",
       "      <td>8568062</td>\n",
       "      <td>korean</td>\n",
       "      <td>kim  ha</td>\n",
       "    </tr>\n",
       "    <tr>\n",
       "      <th>39983</th>\n",
       "      <td>19998985</td>\n",
       "      <td>korean</td>\n",
       "      <td>sangjun  kim</td>\n",
       "    </tr>\n",
       "    <tr>\n",
       "      <th>39984</th>\n",
       "      <td>19393801</td>\n",
       "      <td>korean</td>\n",
       "      <td>jo  clayton</td>\n",
       "    </tr>\n",
       "    <tr>\n",
       "      <th>39985</th>\n",
       "      <td>3694684</td>\n",
       "      <td>korean</td>\n",
       "      <td>jo ellyn groth</td>\n",
       "    </tr>\n",
       "    <tr>\n",
       "      <th>39986</th>\n",
       "      <td>23142805</td>\n",
       "      <td>korean</td>\n",
       "      <td>julia  gill</td>\n",
       "    </tr>\n",
       "    <tr>\n",
       "      <th>39987</th>\n",
       "      <td>7812891</td>\n",
       "      <td>korean</td>\n",
       "      <td>helen  gee</td>\n",
       "    </tr>\n",
       "    <tr>\n",
       "      <th>39988</th>\n",
       "      <td>17256411</td>\n",
       "      <td>korean</td>\n",
       "      <td>grant  moon</td>\n",
       "    </tr>\n",
       "    <tr>\n",
       "      <th>39989</th>\n",
       "      <td>10509516</td>\n",
       "      <td>korean</td>\n",
       "      <td>teresa  van rangelrooy</td>\n",
       "    </tr>\n",
       "    <tr>\n",
       "      <th>39990</th>\n",
       "      <td>17478674</td>\n",
       "      <td>korean</td>\n",
       "      <td>wayne  cook</td>\n",
       "    </tr>\n",
       "    <tr>\n",
       "      <th>39991</th>\n",
       "      <td>19880523</td>\n",
       "      <td>korean</td>\n",
       "      <td>yongkwon  kim</td>\n",
       "    </tr>\n",
       "    <tr>\n",
       "      <th>39992</th>\n",
       "      <td>24261907</td>\n",
       "      <td>korean</td>\n",
       "      <td>dan  kneipp</td>\n",
       "    </tr>\n",
       "    <tr>\n",
       "      <th>39993</th>\n",
       "      <td>17637833</td>\n",
       "      <td>korean</td>\n",
       "      <td>jo  tod</td>\n",
       "    </tr>\n",
       "    <tr>\n",
       "      <th>39994</th>\n",
       "      <td>7772733</td>\n",
       "      <td>korean</td>\n",
       "      <td>franklin   van den elsen</td>\n",
       "    </tr>\n",
       "    <tr>\n",
       "      <th>39995</th>\n",
       "      <td>12099281</td>\n",
       "      <td>korean</td>\n",
       "      <td>jason  cook</td>\n",
       "    </tr>\n",
       "    <tr>\n",
       "      <th>39996</th>\n",
       "      <td>8354738</td>\n",
       "      <td>korean</td>\n",
       "      <td>jo  aitken</td>\n",
       "    </tr>\n",
       "    <tr>\n",
       "      <th>39997</th>\n",
       "      <td>19091568</td>\n",
       "      <td>korean</td>\n",
       "      <td>kym  condon</td>\n",
       "    </tr>\n",
       "    <tr>\n",
       "      <th>39998</th>\n",
       "      <td>17732516</td>\n",
       "      <td>korean</td>\n",
       "      <td>ceciel privilege club van rhee</td>\n",
       "    </tr>\n",
       "    <tr>\n",
       "      <th>39999</th>\n",
       "      <td>18704285</td>\n",
       "      <td>korean</td>\n",
       "      <td>trevor  van kemenade</td>\n",
       "    </tr>\n",
       "  </tbody>\n",
       "</table>\n",
       "<p>368000 rows × 3 columns</p>\n",
       "</div>"
      ],
      "text/plain": [
       "      CustomerID Ethnicity                        FullName\n",
       "0       18467850    arabic                   hadi  sedaqat\n",
       "1       25251693    arabic                      taj  jones\n",
       "2       23830043    arabic                   barak  kessar\n",
       "3       25327007    arabic                  natalie  mazin\n",
       "4       17472846    arabic                     salma  begg\n",
       "5       18262666    arabic                 andrew  barakat\n",
       "6       19897797    arabic                  habib  iddrisu\n",
       "7       16605979    arabic                 kamil  brzostek\n",
       "8       20142429    arabic                  dana  lepinzan\n",
       "9       25702683    arabic                 nevine  khalifa\n",
       "10      21357284    arabic                   khoder  samia\n",
       "11      19674495    arabic              jean-pierre  mahÃ©\n",
       "12      18814383    arabic                    yazid  habib\n",
       "13      24341441    arabic                      dana  meos\n",
       "14      12218844    arabic                 bradley  haider\n",
       "15      19584639    arabic                 nurziana  jamil\n",
       "16      23363468    arabic                 amani  zeitoune\n",
       "17      17860103    arabic                       ayu  hadi\n",
       "18       6823084    arabic             nadia   fitzpatrick\n",
       "19       3252439    arabic                    nadia   gray\n",
       "20      24031770    arabic                   nurul  roslan\n",
       "21      18524339    arabic                   abdul  hassan\n",
       "22      14712072    arabic                   osman  hassan\n",
       "23      19741748    arabic                 hashrul  rashid\n",
       "24      21470880    arabic                    fatima  safa\n",
       "25      19768990    arabic                   iqbal  yaseer\n",
       "26       8521826    arabic                   justin  hanan\n",
       "27       7133022    arabic                  dana  fluitsma\n",
       "28       3941559    arabic                  ronika   nader\n",
       "29      20419407    arabic                   zahra  babuji\n",
       "...          ...       ...                             ...\n",
       "39970   20887438    korean              cynthia  van duker\n",
       "39971    3584961    korean                     irene   gan\n",
       "39972   14273119    korean             account  not in use\n",
       "39973    7250993    korean             justin  van zutphen\n",
       "39974   17334117    korean                    kim  spencer\n",
       "39975   16003634    korean                     jae  taplin\n",
       "39976     864424    korean             leon   van rensburg\n",
       "39977   15430635    korean                 gina  van agten\n",
       "39978   16967478    korean          joe smith  j + l smith\n",
       "39979   22973572    korean                      kim  elger\n",
       "39980   20005865    korean                        jo  hill\n",
       "39981   20695525    korean                        tim  kay\n",
       "39982    8568062    korean                         kim  ha\n",
       "39983   19998985    korean                    sangjun  kim\n",
       "39984   19393801    korean                     jo  clayton\n",
       "39985    3694684    korean                  jo ellyn groth\n",
       "39986   23142805    korean                     julia  gill\n",
       "39987    7812891    korean                      helen  gee\n",
       "39988   17256411    korean                     grant  moon\n",
       "39989   10509516    korean          teresa  van rangelrooy\n",
       "39990   17478674    korean                     wayne  cook\n",
       "39991   19880523    korean                   yongkwon  kim\n",
       "39992   24261907    korean                     dan  kneipp\n",
       "39993   17637833    korean                         jo  tod\n",
       "39994    7772733    korean        franklin   van den elsen\n",
       "39995   12099281    korean                     jason  cook\n",
       "39996    8354738    korean                      jo  aitken\n",
       "39997   19091568    korean                     kym  condon\n",
       "39998   17732516    korean  ceciel privilege club van rhee\n",
       "39999   18704285    korean            trevor  van kemenade\n",
       "\n",
       "[368000 rows x 3 columns]"
      ]
     },
     "execution_count": 93,
     "metadata": {},
     "output_type": "execute_result"
    }
   ],
   "source": [
    "nonc"
   ]
  },
  {
   "cell_type": "code",
   "execution_count": 96,
   "metadata": {},
   "outputs": [],
   "source": [
    "ch = pd.read_csv(\"training_iscn.csv\", header=None)"
   ]
  },
  {
   "cell_type": "code",
   "execution_count": 98,
   "metadata": {},
   "outputs": [],
   "source": [
    "noch = pd.read_csv(\"training_nocn.csv\", header=None)"
   ]
  },
  {
   "cell_type": "code",
   "execution_count": 101,
   "metadata": {},
   "outputs": [],
   "source": [
    "ch[\"is_chinese\"] = 1\n",
    "noch[\"is_chinese\"] = 0"
   ]
  },
  {
   "cell_type": "code",
   "execution_count": 102,
   "metadata": {},
   "outputs": [
    {
     "data": {
      "text/html": [
       "<div>\n",
       "<style scoped>\n",
       "    .dataframe tbody tr th:only-of-type {\n",
       "        vertical-align: middle;\n",
       "    }\n",
       "\n",
       "    .dataframe tbody tr th {\n",
       "        vertical-align: top;\n",
       "    }\n",
       "\n",
       "    .dataframe thead th {\n",
       "        text-align: right;\n",
       "    }\n",
       "</style>\n",
       "<table border=\"1\" class=\"dataframe\">\n",
       "  <thead>\n",
       "    <tr style=\"text-align: right;\">\n",
       "      <th></th>\n",
       "      <th>0</th>\n",
       "      <th>is_chinese</th>\n",
       "    </tr>\n",
       "  </thead>\n",
       "  <tbody>\n",
       "    <tr>\n",
       "      <th>0</th>\n",
       "      <td>an dun</td>\n",
       "      <td>1</td>\n",
       "    </tr>\n",
       "    <tr>\n",
       "      <th>1</th>\n",
       "      <td>an fang</td>\n",
       "      <td>1</td>\n",
       "    </tr>\n",
       "    <tr>\n",
       "      <th>2</th>\n",
       "      <td>an tao</td>\n",
       "      <td>1</td>\n",
       "    </tr>\n",
       "    <tr>\n",
       "      <th>3</th>\n",
       "      <td>zha dao</td>\n",
       "      <td>1</td>\n",
       "    </tr>\n",
       "    <tr>\n",
       "      <th>4</th>\n",
       "      <td>zha yue</td>\n",
       "      <td>1</td>\n",
       "    </tr>\n",
       "  </tbody>\n",
       "</table>\n",
       "</div>"
      ],
      "text/plain": [
       "         0  is_chinese\n",
       "0   an dun           1\n",
       "1  an fang           1\n",
       "2   an tao           1\n",
       "3  zha dao           1\n",
       "4  zha yue           1"
      ]
     },
     "execution_count": 102,
     "metadata": {},
     "output_type": "execute_result"
    }
   ],
   "source": [
    "ch.head()"
   ]
  },
  {
   "cell_type": "code",
   "execution_count": 103,
   "metadata": {},
   "outputs": [],
   "source": [
    "data = pd.concat([ch, noch])"
   ]
  },
  {
   "cell_type": "code",
   "execution_count": 105,
   "metadata": {},
   "outputs": [
    {
     "name": "stdout",
     "output_type": "stream",
     "text": [
      "<class 'pandas.core.frame.DataFrame'>\n",
      "Int64Index: 808391 entries, 0 to 567994\n",
      "Data columns (total 2 columns):\n",
      "0             808391 non-null object\n",
      "is_chinese    808391 non-null int64\n",
      "dtypes: int64(1), object(1)\n",
      "memory usage: 18.5+ MB\n"
     ]
    }
   ],
   "source": [
    "data.info()"
   ]
  },
  {
   "cell_type": "code",
   "execution_count": 106,
   "metadata": {},
   "outputs": [],
   "source": [
    "data = data.rename(columns={0: \"full_name\"})"
   ]
  },
  {
   "cell_type": "code",
   "execution_count": 107,
   "metadata": {},
   "outputs": [
    {
     "data": {
      "text/html": [
       "<div>\n",
       "<style scoped>\n",
       "    .dataframe tbody tr th:only-of-type {\n",
       "        vertical-align: middle;\n",
       "    }\n",
       "\n",
       "    .dataframe tbody tr th {\n",
       "        vertical-align: top;\n",
       "    }\n",
       "\n",
       "    .dataframe thead th {\n",
       "        text-align: right;\n",
       "    }\n",
       "</style>\n",
       "<table border=\"1\" class=\"dataframe\">\n",
       "  <thead>\n",
       "    <tr style=\"text-align: right;\">\n",
       "      <th></th>\n",
       "      <th>full_name</th>\n",
       "      <th>is_chinese</th>\n",
       "    </tr>\n",
       "  </thead>\n",
       "  <tbody>\n",
       "    <tr>\n",
       "      <th>0</th>\n",
       "      <td>an dun</td>\n",
       "      <td>1</td>\n",
       "    </tr>\n",
       "    <tr>\n",
       "      <th>1</th>\n",
       "      <td>an fang</td>\n",
       "      <td>1</td>\n",
       "    </tr>\n",
       "    <tr>\n",
       "      <th>2</th>\n",
       "      <td>an tao</td>\n",
       "      <td>1</td>\n",
       "    </tr>\n",
       "    <tr>\n",
       "      <th>3</th>\n",
       "      <td>zha dao</td>\n",
       "      <td>1</td>\n",
       "    </tr>\n",
       "    <tr>\n",
       "      <th>4</th>\n",
       "      <td>zha yue</td>\n",
       "      <td>1</td>\n",
       "    </tr>\n",
       "  </tbody>\n",
       "</table>\n",
       "</div>"
      ],
      "text/plain": [
       "  full_name  is_chinese\n",
       "0    an dun           1\n",
       "1   an fang           1\n",
       "2    an tao           1\n",
       "3   zha dao           1\n",
       "4   zha yue           1"
      ]
     },
     "execution_count": 107,
     "metadata": {},
     "output_type": "execute_result"
    }
   ],
   "source": [
    "data.head()"
   ]
  },
  {
   "cell_type": "code",
   "execution_count": 108,
   "metadata": {},
   "outputs": [
    {
     "data": {
      "text/plain": [
       "Counter({0: 567995, 1: 240396})"
      ]
     },
     "execution_count": 108,
     "metadata": {},
     "output_type": "execute_result"
    }
   ],
   "source": [
    "Counter(data.is_chinese)"
   ]
  },
  {
   "cell_type": "code",
   "execution_count": 109,
   "metadata": {},
   "outputs": [],
   "source": [
    "data.to_csv(\"tranining_chinese.csv\", index=False)"
   ]
  },
  {
   "cell_type": "code",
   "execution_count": null,
   "metadata": {},
   "outputs": [],
   "source": []
  }
 ],
 "metadata": {
  "kernelspec": {
   "display_name": "Python 3",
   "language": "python",
   "name": "python3"
  },
  "language_info": {
   "codemirror_mode": {
    "name": "ipython",
    "version": 3
   },
   "file_extension": ".py",
   "mimetype": "text/x-python",
   "name": "python",
   "nbconvert_exporter": "python",
   "pygments_lexer": "ipython3",
   "version": "3.6.3"
  }
 },
 "nbformat": 4,
 "nbformat_minor": 2
}
